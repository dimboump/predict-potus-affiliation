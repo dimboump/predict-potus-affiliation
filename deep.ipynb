{
 "cells": [
  {
   "cell_type": "code",
   "execution_count": 13,
   "metadata": {},
   "outputs": [],
   "source": [
    "import os\n",
    "import string\n",
    "import re\n",
    "\n",
    "import tensorflow as tf\n",
    "from tensorflow import keras\n",
    "\n",
    "import pandas as pd\n",
    "import numpy as np\n",
    "from matplotlib import pyplot as plt\n",
    "from sklearn.model_selection import train_test_split\n",
    "\n",
    "# Generate graphs in SVG format\n",
    "%config InlineBackend.figure_format = 'svg'\n",
    "\n",
    "# get reproducible results\n",
    "np.random.seed(1997)\n",
    "tf.random.set_seed(1997)"
   ]
  },
  {
   "cell_type": "code",
   "execution_count": 14,
   "metadata": {},
   "outputs": [
    {
     "data": {
      "text/html": [
       "<div>\n",
       "<style scoped>\n",
       "    .dataframe tbody tr th:only-of-type {\n",
       "        vertical-align: middle;\n",
       "    }\n",
       "\n",
       "    .dataframe tbody tr th {\n",
       "        vertical-align: top;\n",
       "    }\n",
       "\n",
       "    .dataframe thead th {\n",
       "        text-align: right;\n",
       "    }\n",
       "</style>\n",
       "<table border=\"1\" class=\"dataframe\">\n",
       "  <thead>\n",
       "    <tr style=\"text-align: right;\">\n",
       "      <th></th>\n",
       "      <th>Party</th>\n",
       "      <th>Transcript</th>\n",
       "    </tr>\n",
       "  </thead>\n",
       "  <tbody>\n",
       "    <tr>\n",
       "      <th>421</th>\n",
       "      <td>Democratic</td>\n",
       "      <td>My fellow Americans: Washington's Birthday is ...</td>\n",
       "    </tr>\n",
       "    <tr>\n",
       "      <th>373</th>\n",
       "      <td>Republican</td>\n",
       "      <td>Members of the American Bankers Association an...</td>\n",
       "    </tr>\n",
       "    <tr>\n",
       "      <th>648</th>\n",
       "      <td>Republican</td>\n",
       "      <td>Officers, ladies and gentlemen of the National...</td>\n",
       "    </tr>\n",
       "    <tr>\n",
       "      <th>256</th>\n",
       "      <td>Republican</td>\n",
       "      <td>To the Senate and House of Representatives: No...</td>\n",
       "    </tr>\n",
       "    <tr>\n",
       "      <th>615</th>\n",
       "      <td>Republican</td>\n",
       "      <td>Mr. Chairman, delegates and alternates to this...</td>\n",
       "    </tr>\n",
       "  </tbody>\n",
       "</table>\n",
       "</div>"
      ],
      "text/plain": [
       "          Party                                         Transcript\n",
       "421  Democratic  My fellow Americans: Washington's Birthday is ...\n",
       "373  Republican  Members of the American Bankers Association an...\n",
       "648  Republican  Officers, ladies and gentlemen of the National...\n",
       "256  Republican  To the Senate and House of Representatives: No...\n",
       "615  Republican  Mr. Chairman, delegates and alternates to this..."
      ]
     },
     "execution_count": 14,
     "metadata": {},
     "output_type": "execute_result"
    }
   ],
   "source": [
    "df = pd.read_csv('data/presidential_speeches_cleaned.csv', encoding='utf-8', usecols=['Party', 'Transcript'])\n",
    "df.sample(5)"
   ]
  },
  {
   "cell_type": "code",
   "execution_count": 15,
   "metadata": {},
   "outputs": [
    {
     "data": {
      "text/plain": [
       "Democratic    489\n",
       "Republican    389\n",
       "Name: Party, dtype: int64"
      ]
     },
     "execution_count": 15,
     "metadata": {},
     "output_type": "execute_result"
    }
   ],
   "source": [
    "df['Party'].value_counts()"
   ]
  },
  {
   "cell_type": "code",
   "execution_count": 16,
   "metadata": {},
   "outputs": [
    {
     "data": {
      "text/plain": [
       "((702, 1), (176, 1), (702,), (176,))"
      ]
     },
     "execution_count": 16,
     "metadata": {},
     "output_type": "execute_result"
    }
   ],
   "source": [
    "X = df.drop('Party', axis=1)\n",
    "y = df['Party']\n",
    "\n",
    "X_train, X_test, y_train, y_test = train_test_split(X, y, test_size=0.2, shuffle=True, random_state=97, stratify=y)\n",
    "\n",
    "X_train.shape, X_test.shape, y_train.shape, y_test.shape"
   ]
  },
  {
   "cell_type": "code",
   "execution_count": 17,
   "metadata": {},
   "outputs": [],
   "source": [
    "OUTPUT_PATH = os.path.join(os.getcwd(), 'data/speeches_split')\n",
    "\n",
    "for directory in (\n",
    "        '', \n",
    "        'train', \n",
    "        'test', \n",
    "        'train/Republican', \n",
    "        'train/Democratic', \n",
    "        'test/Republican', \n",
    "        'test/Democratic'\n",
    "    ):\n",
    "    if not os.path.exists(os.path.join(OUTPUT_PATH, directory)):\n",
    "        os.mkdir(os.path.join(OUTPUT_PATH, directory))\n",
    "\n",
    "for i in range(len(X_train)):\n",
    "\n",
    "    file_num = f'{i+1}'.zfill(4)\n",
    "    label = y_train.iloc[i]\n",
    "\n",
    "    with open(\n",
    "        f'{OUTPUT_PATH}/train/{label}/{file_num}.txt',\n",
    "        'w', encoding='utf-8'\n",
    "    ) as f:\n",
    "        f.write(X_train.iloc[i]['Transcript'])"
   ]
  },
  {
   "cell_type": "code",
   "execution_count": 18,
   "metadata": {},
   "outputs": [],
   "source": [
    "for i in range(len(X_test)):\n",
    "\n",
    "    file_num = f'{i+1}'.zfill(4)\n",
    "    label = y_test.iloc[i]\n",
    "\n",
    "    with open(\n",
    "        f'{OUTPUT_PATH}/test/{label}/{file_num}.txt',\n",
    "        'w', encoding='utf-8'\n",
    "    ) as f:\n",
    "        f.write(X_test.iloc[i]['Transcript'])"
   ]
  },
  {
   "cell_type": "code",
   "execution_count": 19,
   "metadata": {},
   "outputs": [
    {
     "name": "stdout",
     "output_type": "stream",
     "text": [
      "Found 702 files belonging to 2 classes.\n",
      "Using 632 files for training.\n",
      "Found 702 files belonging to 2 classes.\n",
      "Using 70 files for validation.\n",
      "Found 176 files belonging to 2 classes.\n",
      "\n",
      "\n",
      "Number of batches in raw_train_ds: 7\n",
      "Number of batches in raw_val_ds: 1\n",
      "Number of batches in raw_test_ds: 2\n"
     ]
    }
   ],
   "source": [
    "batch_size = 100\n",
    "\n",
    "raw_train_ds = tf.keras.preprocessing.text_dataset_from_directory(\n",
    "    f'{OUTPUT_PATH}/train',\n",
    "    batch_size=batch_size,\n",
    "    validation_split=0.1,\n",
    "    labels='inferred',\n",
    "    label_mode='binary',\n",
    "    subset='training',\n",
    "    seed=1997,\n",
    ")\n",
    "\n",
    "raw_val_ds = tf.keras.preprocessing.text_dataset_from_directory(\n",
    "    f'{OUTPUT_PATH}/train',\n",
    "    batch_size=batch_size,\n",
    "    validation_split=0.1,\n",
    "    labels='inferred',\n",
    "    label_mode='binary',\n",
    "    subset='validation',\n",
    "    seed=1997,\n",
    ")\n",
    "\n",
    "raw_test_ds = tf.keras.preprocessing.text_dataset_from_directory(\n",
    "    f'{OUTPUT_PATH}/test', batch_size=batch_size\n",
    ")\n",
    "\n",
    "print(\"\\n\")\n",
    "print(f\"Number of batches in raw_train_ds: {raw_train_ds.cardinality()}\")\n",
    "print(f\"Number of batches in raw_val_ds: {raw_val_ds.cardinality()}\")\n",
    "print(f\"Number of batches in raw_test_ds: {raw_test_ds.cardinality()}\")"
   ]
  },
  {
   "cell_type": "code",
   "execution_count": 20,
   "metadata": {},
   "outputs": [
    {
     "name": "stdout",
     "output_type": "stream",
     "text": [
      "Example 1:\n",
      "b\"Good evening. I want to have a frank talk with you tonight about our most serious domestic problem. That problem is inflation. Inflation can threaten all the economic gains we've made, and it can stand in the way of what we want to achieve in the fut\"\n",
      "Democratic\n"
     ]
    },
    {
     "data": {
      "text/markdown": [
       "---"
      ],
      "text/plain": [
       "<IPython.core.display.Markdown object>"
      ]
     },
     "metadata": {},
     "output_type": "display_data"
    },
    {
     "name": "stdout",
     "output_type": "stream",
     "text": [
      "Example 2:\n",
      "b'IN APRIL 1928, as a result of discussions between our Secretary of State of the United States and the Minister of Foreign Affairs of France, the President directed Secretary Kellogg to propose to the nations of the world that they should enter into a'\n",
      "Republican\n"
     ]
    },
    {
     "data": {
      "text/markdown": [
       "---"
      ],
      "text/plain": [
       "<IPython.core.display.Markdown object>"
      ]
     },
     "metadata": {},
     "output_type": "display_data"
    },
    {
     "name": "stdout",
     "output_type": "stream",
     "text": [
      "Example 3:\n",
      "b'I have just concluded a meeting with the leaders of the Congress. I reported to them on the serious situation in the Dominican Republic. I reported the decisions that this Government considers necessary in this situation in order to protect American '\n",
      "Democratic\n"
     ]
    },
    {
     "data": {
      "text/markdown": [
       "---"
      ],
      "text/plain": [
       "<IPython.core.display.Markdown object>"
      ]
     },
     "metadata": {},
     "output_type": "display_data"
    },
    {
     "name": "stdout",
     "output_type": "stream",
     "text": [
      "Example 4:\n",
      "b'To the Senate and House of Representatives: The Constitution requires that the President \\xe2\\x80\\x9cshall, from time to time, give to the Congress information of the state of the Union, and recommend to their consideration such measures as he shall judge nec'\n",
      "Republican\n"
     ]
    },
    {
     "data": {
      "text/markdown": [
       "---"
      ],
      "text/plain": [
       "<IPython.core.display.Markdown object>"
      ]
     },
     "metadata": {},
     "output_type": "display_data"
    },
    {
     "name": "stdout",
     "output_type": "stream",
     "text": [
      "Example 5:\n",
      "b\"Mr. Speaker, Mr. President, Members of the Congress, distinguished guests, and my fellow Americans: It's great to be home, and Nancy and I thank you for this wonderful homecoming. And before I go on, I want to say a personal thank you to Nancy. She w\"\n",
      "Republican\n"
     ]
    },
    {
     "data": {
      "text/markdown": [
       "---"
      ],
      "text/plain": [
       "<IPython.core.display.Markdown object>"
      ]
     },
     "metadata": {},
     "output_type": "display_data"
    }
   ],
   "source": [
    "from IPython.display import Markdown, display\n",
    "\n",
    "# Examples\n",
    "for text_batch, label_batch in raw_train_ds.take(1):\n",
    "    for i in range(5):\n",
    "        print(f\"Example {i+1}:\")\n",
    "        print(text_batch.numpy()[i][:250])\n",
    "        print('Republican' if label_batch.numpy()[i] == 1. else 'Democratic')\n",
    "        display(Markdown('---'))"
   ]
  },
  {
   "cell_type": "code",
   "execution_count": 21,
   "metadata": {},
   "outputs": [],
   "source": [
    "def clean(input_data):\n",
    "    text = tf.strings.lower(input_data)\n",
    "    return tf.strings.regex_replace(\n",
    "        text, f'[{re.escape(string.punctuation)}]', ''\n",
    "    )\n",
    "\n",
    "# Constants for the model\n",
    "max_features = 5000\n",
    "embedding_dim = 128\n",
    "sequence_length = 128\n",
    "\n",
    "vect = keras.layers.TextVectorization(\n",
    "    standardize=clean,\n",
    "    max_tokens=max_features,\n",
    "    output_mode='int',\n",
    "    output_sequence_length=sequence_length,\n",
    ")\n",
    "\n",
    "text_ds = raw_train_ds.map(lambda x, y: x)\n",
    "vect.adapt(text_ds)"
   ]
  },
  {
   "cell_type": "code",
   "execution_count": 22,
   "metadata": {},
   "outputs": [],
   "source": [
    "# Vectorize the texts\n",
    "def vectorize_text(text, label):\n",
    "    text = tf.expand_dims(text, -1)\n",
    "    return vect(text), label\n",
    "\n",
    "train_ds = raw_train_ds.map(vectorize_text)\n",
    "val_ds   = raw_val_ds.map(vectorize_text)\n",
    "test_ds  = raw_test_ds.map(vectorize_text)\n",
    "\n",
    "# Do async prefetching / buffering of the data for best performance on GPU.\n",
    "train_ds = train_ds.cache().prefetch(buffer_size=10)\n",
    "val_ds   = val_ds.cache().prefetch(buffer_size=10)\n",
    "test_ds  = test_ds.cache().prefetch(buffer_size=10)"
   ]
  },
  {
   "cell_type": "code",
   "execution_count": 23,
   "metadata": {},
   "outputs": [
    {
     "name": "stdout",
     "output_type": "stream",
     "text": [
      "Model: \"model_1\"\n",
      "_________________________________________________________________\n",
      " Layer (type)                Output Shape              Param #   \n",
      "=================================================================\n",
      " input_2 (InputLayer)        [(None, None)]            0         \n",
      "                                                                 \n",
      " embedding_1 (Embedding)     (None, None, 128)         640000    \n",
      "                                                                 \n",
      " dropout_4 (Dropout)         (None, None, 128)         0         \n",
      "                                                                 \n",
      " conv1d_2 (Conv1D)           (None, None, 256)         33024     \n",
      "                                                                 \n",
      " conv1d_3 (Conv1D)           (None, None, 256)         65792     \n",
      "                                                                 \n",
      " global_max_pooling1d_1 (Glo  (None, 256)              0         \n",
      " balMaxPooling1D)                                                \n",
      "                                                                 \n",
      " relu1 (Dense)               (None, 128)               32896     \n",
      "                                                                 \n",
      " dropout_5 (Dropout)         (None, 128)               0         \n",
      "                                                                 \n",
      " relu2 (Dense)               (None, 128)               16512     \n",
      "                                                                 \n",
      " dropout_6 (Dropout)         (None, 128)               0         \n",
      "                                                                 \n",
      " softmax (Dense)             (None, 128)               16512     \n",
      "                                                                 \n",
      " dropout_7 (Dropout)         (None, 128)               0         \n",
      "                                                                 \n",
      " output (Dense)              (None, 1)                 129       \n",
      "                                                                 \n",
      "=================================================================\n",
      "Total params: 804,865\n",
      "Trainable params: 804,865\n",
      "Non-trainable params: 0\n",
      "_________________________________________________________________\n"
     ]
    }
   ],
   "source": [
    "# An integer input for vocab indices\n",
    "inputs = keras.Input(shape=(None,), dtype='int64')\n",
    "\n",
    "# A layer to map those vocab indices into a space of dimensionality\n",
    "x = keras.layers.Embedding(max_features, embedding_dim)(inputs)\n",
    "x = keras.layers.Dropout(0.5)(x)\n",
    "\n",
    "# Conv1D + global max pooling\n",
    "x = keras.layers.Conv1D(256, 1, padding='same', activation='relu')(x)\n",
    "x = keras.layers.Conv1D(256, 1, padding='same', activation='relu')(x)\n",
    "x = keras.layers.GlobalMaxPooling1D()(x)\n",
    "\n",
    "x = keras.layers.Dense(128, activation='relu', name='relu1')(x)\n",
    "x = keras.layers.Dropout(0.5)(x)\n",
    "x = keras.layers.Dense(128, activation='relu', name='relu2')(x)\n",
    "x = keras.layers.Dropout(0.5)(x)\n",
    "x = keras.layers.Dense(128, activation='softmax', name='softmax')(x)\n",
    "x = keras.layers.Dropout(0.5)(x)\n",
    "\n",
    "# We project onto a single unit output layer, and squash it with a sigmoid:\n",
    "predictions = keras.layers.Dense(1, activation='sigmoid', name='output')(x)\n",
    "\n",
    "# Add early stopping to prevent overfitting, and the optimizer\n",
    "early_stopping = keras.callbacks.EarlyStopping(patience=5, restore_best_weights=True)\n",
    "optimizer = keras.optimizers.Adam(learning_rate=0.0001)\n",
    "\n",
    "model = keras.Model(inputs, predictions)\n",
    "\n",
    "# Compile the model with binary crossentropy loss and an adam optimizer.\n",
    "model.compile(\n",
    "    loss='binary_crossentropy', \n",
    "    optimizer=optimizer, \n",
    "    metrics=['accuracy']\n",
    ")\n",
    "model.summary()"
   ]
  },
  {
   "cell_type": "code",
   "execution_count": 24,
   "metadata": {},
   "outputs": [
    {
     "name": "stdout",
     "output_type": "stream",
     "text": [
      "Epoch 1/100\n",
      "7/7 [==============================] - 6s 684ms/step - loss: 0.6934 - accuracy: 0.4889 - val_loss: 0.6932 - val_accuracy: 0.4571\n",
      "Epoch 2/100\n",
      "7/7 [==============================] - 1s 207ms/step - loss: 0.6935 - accuracy: 0.4731 - val_loss: 0.6932 - val_accuracy: 0.4571\n",
      "Epoch 3/100\n",
      "7/7 [==============================] - 1s 200ms/step - loss: 0.6937 - accuracy: 0.4620 - val_loss: 0.6931 - val_accuracy: 0.5286\n",
      "Epoch 4/100\n",
      "7/7 [==============================] - 1s 206ms/step - loss: 0.6934 - accuracy: 0.4810 - val_loss: 0.6931 - val_accuracy: 0.5429\n",
      "Epoch 5/100\n",
      "7/7 [==============================] - 2s 221ms/step - loss: 0.6932 - accuracy: 0.5063 - val_loss: 0.6931 - val_accuracy: 0.5429\n",
      "Epoch 6/100\n",
      "7/7 [==============================] - 1s 191ms/step - loss: 0.6933 - accuracy: 0.4873 - val_loss: 0.6930 - val_accuracy: 0.5429\n",
      "Epoch 7/100\n",
      "7/7 [==============================] - 2s 254ms/step - loss: 0.6930 - accuracy: 0.5174 - val_loss: 0.6930 - val_accuracy: 0.5429\n",
      "Epoch 8/100\n",
      "7/7 [==============================] - 2s 226ms/step - loss: 0.6927 - accuracy: 0.5364 - val_loss: 0.6929 - val_accuracy: 0.5429\n",
      "Epoch 9/100\n",
      "7/7 [==============================] - 1s 208ms/step - loss: 0.6926 - accuracy: 0.5237 - val_loss: 0.6929 - val_accuracy: 0.5429\n",
      "Epoch 10/100\n",
      "7/7 [==============================] - 1s 196ms/step - loss: 0.6930 - accuracy: 0.5301 - val_loss: 0.6928 - val_accuracy: 0.5429\n",
      "Epoch 11/100\n",
      "7/7 [==============================] - 2s 224ms/step - loss: 0.6925 - accuracy: 0.5459 - val_loss: 0.6928 - val_accuracy: 0.5429\n",
      "Epoch 12/100\n",
      "7/7 [==============================] - 2s 251ms/step - loss: 0.6921 - accuracy: 0.5696 - val_loss: 0.6927 - val_accuracy: 0.5429\n",
      "Epoch 13/100\n",
      "7/7 [==============================] - 1s 199ms/step - loss: 0.6925 - accuracy: 0.5585 - val_loss: 0.6927 - val_accuracy: 0.5429\n",
      "Epoch 14/100\n",
      "7/7 [==============================] - 1s 202ms/step - loss: 0.6925 - accuracy: 0.5285 - val_loss: 0.6927 - val_accuracy: 0.5429\n",
      "Epoch 15/100\n",
      "7/7 [==============================] - 1s 216ms/step - loss: 0.6927 - accuracy: 0.5222 - val_loss: 0.6926 - val_accuracy: 0.5429\n",
      "Epoch 16/100\n",
      "7/7 [==============================] - 1s 212ms/step - loss: 0.6926 - accuracy: 0.5427 - val_loss: 0.6926 - val_accuracy: 0.5429\n",
      "Epoch 17/100\n",
      "7/7 [==============================] - 1s 206ms/step - loss: 0.6921 - accuracy: 0.5633 - val_loss: 0.6925 - val_accuracy: 0.5429\n",
      "Epoch 18/100\n",
      "7/7 [==============================] - 1s 197ms/step - loss: 0.6924 - accuracy: 0.5443 - val_loss: 0.6925 - val_accuracy: 0.5429\n",
      "Epoch 19/100\n",
      "7/7 [==============================] - 2s 210ms/step - loss: 0.6922 - accuracy: 0.5443 - val_loss: 0.6924 - val_accuracy: 0.5429\n",
      "Epoch 20/100\n",
      "7/7 [==============================] - 1s 201ms/step - loss: 0.6924 - accuracy: 0.5380 - val_loss: 0.6924 - val_accuracy: 0.5429\n",
      "Epoch 21/100\n",
      "7/7 [==============================] - 1s 201ms/step - loss: 0.6921 - accuracy: 0.5506 - val_loss: 0.6923 - val_accuracy: 0.5429\n",
      "Epoch 22/100\n",
      "7/7 [==============================] - 1s 210ms/step - loss: 0.6919 - accuracy: 0.5585 - val_loss: 0.6923 - val_accuracy: 0.5429\n",
      "Epoch 23/100\n",
      "7/7 [==============================] - 1s 214ms/step - loss: 0.6922 - accuracy: 0.5491 - val_loss: 0.6922 - val_accuracy: 0.5429\n",
      "Epoch 24/100\n",
      "7/7 [==============================] - 2s 231ms/step - loss: 0.6916 - accuracy: 0.5506 - val_loss: 0.6922 - val_accuracy: 0.5429\n",
      "Epoch 25/100\n",
      "7/7 [==============================] - 1s 215ms/step - loss: 0.6917 - accuracy: 0.5570 - val_loss: 0.6921 - val_accuracy: 0.5429\n",
      "Epoch 26/100\n",
      "7/7 [==============================] - 1s 211ms/step - loss: 0.6918 - accuracy: 0.5570 - val_loss: 0.6920 - val_accuracy: 0.5429\n",
      "Epoch 27/100\n",
      "7/7 [==============================] - 2s 222ms/step - loss: 0.6913 - accuracy: 0.5570 - val_loss: 0.6920 - val_accuracy: 0.5429\n",
      "Epoch 28/100\n",
      "7/7 [==============================] - 2s 221ms/step - loss: 0.6913 - accuracy: 0.5633 - val_loss: 0.6919 - val_accuracy: 0.5429\n",
      "Epoch 29/100\n",
      "7/7 [==============================] - 2s 204ms/step - loss: 0.6907 - accuracy: 0.5585 - val_loss: 0.6918 - val_accuracy: 0.5429\n",
      "Epoch 30/100\n",
      "7/7 [==============================] - 2s 221ms/step - loss: 0.6911 - accuracy: 0.5585 - val_loss: 0.6917 - val_accuracy: 0.5429\n",
      "Epoch 31/100\n",
      "7/7 [==============================] - 2s 224ms/step - loss: 0.6910 - accuracy: 0.5585 - val_loss: 0.6916 - val_accuracy: 0.5429\n",
      "Epoch 32/100\n",
      "7/7 [==============================] - 2s 220ms/step - loss: 0.6905 - accuracy: 0.5585 - val_loss: 0.6915 - val_accuracy: 0.5429\n",
      "Epoch 33/100\n",
      "7/7 [==============================] - 2s 228ms/step - loss: 0.6903 - accuracy: 0.5585 - val_loss: 0.6914 - val_accuracy: 0.5429\n",
      "Epoch 34/100\n",
      "7/7 [==============================] - 1s 198ms/step - loss: 0.6901 - accuracy: 0.5585 - val_loss: 0.6913 - val_accuracy: 0.5429\n",
      "Epoch 35/100\n",
      "7/7 [==============================] - 2s 224ms/step - loss: 0.6898 - accuracy: 0.5585 - val_loss: 0.6912 - val_accuracy: 0.5429\n",
      "Epoch 36/100\n",
      "7/7 [==============================] - 2s 262ms/step - loss: 0.6900 - accuracy: 0.5585 - val_loss: 0.6911 - val_accuracy: 0.5429\n",
      "Epoch 37/100\n",
      "7/7 [==============================] - 2s 287ms/step - loss: 0.6904 - accuracy: 0.5585 - val_loss: 0.6910 - val_accuracy: 0.5429\n",
      "Epoch 38/100\n",
      "7/7 [==============================] - 2s 223ms/step - loss: 0.6902 - accuracy: 0.5585 - val_loss: 0.6909 - val_accuracy: 0.5429\n",
      "Epoch 39/100\n",
      "7/7 [==============================] - 1s 197ms/step - loss: 0.6895 - accuracy: 0.5585 - val_loss: 0.6908 - val_accuracy: 0.5429\n",
      "Epoch 40/100\n",
      "7/7 [==============================] - 1s 198ms/step - loss: 0.6892 - accuracy: 0.5585 - val_loss: 0.6907 - val_accuracy: 0.5429\n",
      "Epoch 41/100\n",
      "7/7 [==============================] - 2s 222ms/step - loss: 0.6899 - accuracy: 0.5585 - val_loss: 0.6906 - val_accuracy: 0.5429\n",
      "Epoch 42/100\n",
      "7/7 [==============================] - 1s 201ms/step - loss: 0.6885 - accuracy: 0.5585 - val_loss: 0.6904 - val_accuracy: 0.5429\n",
      "Epoch 43/100\n",
      "7/7 [==============================] - 1s 200ms/step - loss: 0.6885 - accuracy: 0.5585 - val_loss: 0.6903 - val_accuracy: 0.5429\n",
      "Epoch 44/100\n",
      "7/7 [==============================] - 2s 251ms/step - loss: 0.6885 - accuracy: 0.5585 - val_loss: 0.6902 - val_accuracy: 0.5429\n",
      "Epoch 45/100\n",
      "7/7 [==============================] - 2s 245ms/step - loss: 0.6879 - accuracy: 0.5585 - val_loss: 0.6901 - val_accuracy: 0.5429\n",
      "Epoch 46/100\n",
      "7/7 [==============================] - 1s 195ms/step - loss: 0.6877 - accuracy: 0.5585 - val_loss: 0.6899 - val_accuracy: 0.5429\n",
      "Epoch 47/100\n",
      "7/7 [==============================] - 1s 191ms/step - loss: 0.6874 - accuracy: 0.5585 - val_loss: 0.6898 - val_accuracy: 0.5429\n",
      "Epoch 48/100\n",
      "7/7 [==============================] - 1s 193ms/step - loss: 0.6867 - accuracy: 0.5585 - val_loss: 0.6898 - val_accuracy: 0.5429\n",
      "Epoch 49/100\n",
      "7/7 [==============================] - 1s 201ms/step - loss: 0.6867 - accuracy: 0.5585 - val_loss: 0.6897 - val_accuracy: 0.5429\n",
      "Epoch 50/100\n",
      "7/7 [==============================] - 1s 196ms/step - loss: 0.6876 - accuracy: 0.5585 - val_loss: 0.6896 - val_accuracy: 0.5429\n",
      "Epoch 51/100\n",
      "7/7 [==============================] - 2s 248ms/step - loss: 0.6861 - accuracy: 0.5585 - val_loss: 0.6896 - val_accuracy: 0.5429\n",
      "Epoch 52/100\n",
      "7/7 [==============================] - 2s 200ms/step - loss: 0.6872 - accuracy: 0.5585 - val_loss: 0.6895 - val_accuracy: 0.5429\n",
      "Epoch 53/100\n",
      "7/7 [==============================] - 1s 195ms/step - loss: 0.6874 - accuracy: 0.5585 - val_loss: 0.6894 - val_accuracy: 0.5429\n",
      "Epoch 54/100\n",
      "7/7 [==============================] - 2s 226ms/step - loss: 0.6874 - accuracy: 0.5585 - val_loss: 0.6893 - val_accuracy: 0.5429\n",
      "Epoch 55/100\n",
      "7/7 [==============================] - 2s 231ms/step - loss: 0.6883 - accuracy: 0.5585 - val_loss: 0.6893 - val_accuracy: 0.5429\n",
      "Epoch 56/100\n",
      "7/7 [==============================] - 1s 201ms/step - loss: 0.6876 - accuracy: 0.5585 - val_loss: 0.6892 - val_accuracy: 0.5429\n",
      "Epoch 57/100\n",
      "7/7 [==============================] - 1s 191ms/step - loss: 0.6869 - accuracy: 0.5585 - val_loss: 0.6893 - val_accuracy: 0.5429\n",
      "Epoch 58/100\n",
      "7/7 [==============================] - 1s 194ms/step - loss: 0.6865 - accuracy: 0.5585 - val_loss: 0.6892 - val_accuracy: 0.5429\n",
      "Epoch 59/100\n",
      "7/7 [==============================] - 1s 191ms/step - loss: 0.6861 - accuracy: 0.5585 - val_loss: 0.6892 - val_accuracy: 0.5429\n",
      "Epoch 60/100\n",
      "7/7 [==============================] - 1s 196ms/step - loss: 0.6866 - accuracy: 0.5585 - val_loss: 0.6892 - val_accuracy: 0.5429\n",
      "Epoch 61/100\n",
      "7/7 [==============================] - 1s 208ms/step - loss: 0.6859 - accuracy: 0.5585 - val_loss: 0.6892 - val_accuracy: 0.5429\n",
      "Epoch 62/100\n",
      "7/7 [==============================] - 1s 198ms/step - loss: 0.6866 - accuracy: 0.5585 - val_loss: 0.6892 - val_accuracy: 0.5429\n",
      "Epoch 63/100\n",
      "7/7 [==============================] - 1s 188ms/step - loss: 0.6878 - accuracy: 0.5585 - val_loss: 0.6891 - val_accuracy: 0.5429\n",
      "Epoch 64/100\n",
      "7/7 [==============================] - 2s 237ms/step - loss: 0.6854 - accuracy: 0.5585 - val_loss: 0.6891 - val_accuracy: 0.5429\n",
      "Epoch 65/100\n",
      "7/7 [==============================] - 2s 248ms/step - loss: 0.6858 - accuracy: 0.5585 - val_loss: 0.6890 - val_accuracy: 0.5429\n",
      "Epoch 66/100\n",
      "7/7 [==============================] - 2s 239ms/step - loss: 0.6838 - accuracy: 0.5585 - val_loss: 0.6889 - val_accuracy: 0.5429\n",
      "Epoch 67/100\n",
      "7/7 [==============================] - 2s 254ms/step - loss: 0.6860 - accuracy: 0.5585 - val_loss: 0.6889 - val_accuracy: 0.5429\n",
      "Epoch 68/100\n",
      "7/7 [==============================] - 1s 210ms/step - loss: 0.6860 - accuracy: 0.5585 - val_loss: 0.6889 - val_accuracy: 0.5429\n",
      "Epoch 69/100\n",
      "7/7 [==============================] - 1s 192ms/step - loss: 0.6847 - accuracy: 0.5585 - val_loss: 0.6888 - val_accuracy: 0.5429\n",
      "Epoch 70/100\n",
      "7/7 [==============================] - 2s 228ms/step - loss: 0.6842 - accuracy: 0.5585 - val_loss: 0.6888 - val_accuracy: 0.5429\n",
      "Epoch 71/100\n",
      "7/7 [==============================] - 2s 218ms/step - loss: 0.6850 - accuracy: 0.5585 - val_loss: 0.6887 - val_accuracy: 0.5429\n",
      "Epoch 72/100\n",
      "7/7 [==============================] - 1s 205ms/step - loss: 0.6856 - accuracy: 0.5585 - val_loss: 0.6887 - val_accuracy: 0.5429\n",
      "Epoch 73/100\n",
      "7/7 [==============================] - 2s 298ms/step - loss: 0.6840 - accuracy: 0.5585 - val_loss: 0.6887 - val_accuracy: 0.5429\n",
      "Epoch 74/100\n",
      "7/7 [==============================] - 2s 231ms/step - loss: 0.6836 - accuracy: 0.5585 - val_loss: 0.6886 - val_accuracy: 0.5429\n",
      "Epoch 75/100\n",
      "7/7 [==============================] - 1s 207ms/step - loss: 0.6848 - accuracy: 0.5585 - val_loss: 0.6886 - val_accuracy: 0.5429\n",
      "Epoch 76/100\n",
      "7/7 [==============================] - 2s 228ms/step - loss: 0.6846 - accuracy: 0.5585 - val_loss: 0.6885 - val_accuracy: 0.5429\n",
      "Epoch 77/100\n",
      "7/7 [==============================] - 1s 201ms/step - loss: 0.6818 - accuracy: 0.5585 - val_loss: 0.6884 - val_accuracy: 0.5429\n",
      "Epoch 78/100\n",
      "7/7 [==============================] - 1s 212ms/step - loss: 0.6843 - accuracy: 0.5585 - val_loss: 0.6883 - val_accuracy: 0.5429\n",
      "Epoch 79/100\n",
      "7/7 [==============================] - 2s 224ms/step - loss: 0.6872 - accuracy: 0.5585 - val_loss: 0.6882 - val_accuracy: 0.5429\n",
      "Epoch 80/100\n",
      "7/7 [==============================] - 2s 291ms/step - loss: 0.6806 - accuracy: 0.5585 - val_loss: 0.6881 - val_accuracy: 0.5429\n",
      "Epoch 81/100\n",
      "7/7 [==============================] - 1s 186ms/step - loss: 0.6824 - accuracy: 0.5585 - val_loss: 0.6880 - val_accuracy: 0.5429\n",
      "Epoch 82/100\n",
      "7/7 [==============================] - 1s 212ms/step - loss: 0.6825 - accuracy: 0.5585 - val_loss: 0.6879 - val_accuracy: 0.5429\n",
      "Epoch 83/100\n",
      "7/7 [==============================] - 2s 277ms/step - loss: 0.6818 - accuracy: 0.5585 - val_loss: 0.6878 - val_accuracy: 0.5429\n",
      "Epoch 84/100\n",
      "7/7 [==============================] - 2s 257ms/step - loss: 0.6762 - accuracy: 0.5585 - val_loss: 0.6877 - val_accuracy: 0.5429\n",
      "Epoch 85/100\n",
      "7/7 [==============================] - 2s 273ms/step - loss: 0.6767 - accuracy: 0.5585 - val_loss: 0.6875 - val_accuracy: 0.5429\n",
      "Epoch 86/100\n",
      "7/7 [==============================] - 2s 213ms/step - loss: 0.6766 - accuracy: 0.5585 - val_loss: 0.6873 - val_accuracy: 0.5429\n",
      "Epoch 87/100\n",
      "7/7 [==============================] - 1s 203ms/step - loss: 0.6766 - accuracy: 0.5585 - val_loss: 0.6871 - val_accuracy: 0.5429\n",
      "Epoch 88/100\n",
      "7/7 [==============================] - 2s 259ms/step - loss: 0.6793 - accuracy: 0.5585 - val_loss: 0.6870 - val_accuracy: 0.5429\n",
      "Epoch 89/100\n",
      "7/7 [==============================] - 2s 272ms/step - loss: 0.6744 - accuracy: 0.5585 - val_loss: 0.6869 - val_accuracy: 0.5429\n",
      "Epoch 90/100\n",
      "7/7 [==============================] - 2s 213ms/step - loss: 0.6767 - accuracy: 0.5585 - val_loss: 0.6869 - val_accuracy: 0.5429\n",
      "Epoch 91/100\n",
      "7/7 [==============================] - 2s 281ms/step - loss: 0.6720 - accuracy: 0.5585 - val_loss: 0.6869 - val_accuracy: 0.5429\n",
      "Epoch 92/100\n",
      "7/7 [==============================] - 1s 204ms/step - loss: 0.6749 - accuracy: 0.5585 - val_loss: 0.6869 - val_accuracy: 0.5429\n",
      "Epoch 93/100\n",
      "7/7 [==============================] - 1s 192ms/step - loss: 0.6725 - accuracy: 0.5585 - val_loss: 0.6868 - val_accuracy: 0.5429\n",
      "Epoch 94/100\n",
      "7/7 [==============================] - 1s 202ms/step - loss: 0.6737 - accuracy: 0.5585 - val_loss: 0.6868 - val_accuracy: 0.5429\n",
      "Epoch 95/100\n",
      "7/7 [==============================] - 1s 192ms/step - loss: 0.6716 - accuracy: 0.5585 - val_loss: 0.6866 - val_accuracy: 0.5429\n",
      "Epoch 96/100\n",
      "7/7 [==============================] - 2s 241ms/step - loss: 0.6673 - accuracy: 0.5585 - val_loss: 0.6865 - val_accuracy: 0.5429\n",
      "Epoch 97/100\n",
      "7/7 [==============================] - 1s 195ms/step - loss: 0.6667 - accuracy: 0.5585 - val_loss: 0.6863 - val_accuracy: 0.5429\n",
      "Epoch 98/100\n",
      "7/7 [==============================] - 1s 195ms/step - loss: 0.6660 - accuracy: 0.5585 - val_loss: 0.6862 - val_accuracy: 0.5429\n",
      "Epoch 99/100\n",
      "7/7 [==============================] - 1s 193ms/step - loss: 0.6582 - accuracy: 0.5585 - val_loss: 0.6861 - val_accuracy: 0.5429\n",
      "Epoch 100/100\n",
      "7/7 [==============================] - 1s 194ms/step - loss: 0.6645 - accuracy: 0.5585 - val_loss: 0.6861 - val_accuracy: 0.5429\n"
     ]
    }
   ],
   "source": [
    "history = model.fit(train_ds, validation_data=val_ds, epochs=100, callbacks=[early_stopping])"
   ]
  },
  {
   "cell_type": "code",
   "execution_count": 25,
   "metadata": {},
   "outputs": [
    {
     "name": "stdout",
     "output_type": "stream",
     "text": [
      "2/2 [==============================] - 1s 181ms/step - loss: 0.6773 - accuracy: 0.5568\n"
     ]
    },
    {
     "data": {
      "text/plain": [
       "[0.6773464679718018, 0.5568181872367859]"
      ]
     },
     "execution_count": 25,
     "metadata": {},
     "output_type": "execute_result"
    }
   ],
   "source": [
    "model.evaluate(test_ds)"
   ]
  },
  {
   "cell_type": "code",
   "execution_count": 26,
   "metadata": {},
   "outputs": [
    {
     "data": {
      "image/svg+xml": "<?xml version=\"1.0\" encoding=\"utf-8\" standalone=\"no\"?>\n<!DOCTYPE svg PUBLIC \"-//W3C//DTD SVG 1.1//EN\"\n  \"http://www.w3.org/Graphics/SVG/1.1/DTD/svg11.dtd\">\n<svg xmlns:xlink=\"http://www.w3.org/1999/xlink\" width=\"398.50625pt\" height=\"277.314375pt\" viewBox=\"0 0 398.50625 277.314375\" xmlns=\"http://www.w3.org/2000/svg\" version=\"1.1\">\n <metadata>\n  <rdf:RDF xmlns:dc=\"http://purl.org/dc/elements/1.1/\" xmlns:cc=\"http://creativecommons.org/ns#\" xmlns:rdf=\"http://www.w3.org/1999/02/22-rdf-syntax-ns#\">\n   <cc:Work>\n    <dc:type rdf:resource=\"http://purl.org/dc/dcmitype/StillImage\"/>\n    <dc:date>2022-08-10T22:38:16.426501</dc:date>\n    <dc:format>image/svg+xml</dc:format>\n    <dc:creator>\n     <cc:Agent>\n      <dc:title>Matplotlib v3.5.2, https://matplotlib.org/</dc:title>\n     </cc:Agent>\n    </dc:creator>\n   </cc:Work>\n  </rdf:RDF>\n </metadata>\n <defs>\n  <style type=\"text/css\">*{stroke-linejoin: round; stroke-linecap: butt}</style>\n </defs>\n <g id=\"figure_1\">\n  <g id=\"patch_1\">\n   <path d=\"M 0 277.314375 \nL 398.50625 277.314375 \nL 398.50625 0 \nL 0 0 \nL 0 277.314375 \nz\n\" style=\"fill: none\"/>\n  </g>\n  <g id=\"axes_1\">\n   <g id=\"patch_2\">\n    <path d=\"M 56.50625 239.758125 \nL 391.30625 239.758125 \nL 391.30625 22.318125 \nL 56.50625 22.318125 \nz\n\" style=\"fill: #ffffff\"/>\n   </g>\n   <g id=\"matplotlib.axis_1\">\n    <g id=\"xtick_1\">\n     <g id=\"line2d_1\">\n      <defs>\n       <path id=\"macbc45b958\" d=\"M 0 0 \nL 0 3.5 \n\" style=\"stroke: #000000; stroke-width: 0.8\"/>\n      </defs>\n      <g>\n       <use xlink:href=\"#macbc45b958\" x=\"71.724432\" y=\"239.758125\" style=\"stroke: #000000; stroke-width: 0.8\"/>\n      </g>\n     </g>\n     <g id=\"text_1\">\n      <!-- 0 -->\n      <g transform=\"translate(68.543182 254.356562)scale(0.1 -0.1)\">\n       <defs>\n        <path id=\"DejaVuSans-30\" d=\"M 2034 4250 \nQ 1547 4250 1301 3770 \nQ 1056 3291 1056 2328 \nQ 1056 1369 1301 889 \nQ 1547 409 2034 409 \nQ 2525 409 2770 889 \nQ 3016 1369 3016 2328 \nQ 3016 3291 2770 3770 \nQ 2525 4250 2034 4250 \nz\nM 2034 4750 \nQ 2819 4750 3233 4129 \nQ 3647 3509 3647 2328 \nQ 3647 1150 3233 529 \nQ 2819 -91 2034 -91 \nQ 1250 -91 836 529 \nQ 422 1150 422 2328 \nQ 422 3509 836 4129 \nQ 1250 4750 2034 4750 \nz\n\" transform=\"scale(0.015625)\"/>\n       </defs>\n       <use xlink:href=\"#DejaVuSans-30\"/>\n      </g>\n     </g>\n    </g>\n    <g id=\"xtick_2\">\n     <g id=\"line2d_2\">\n      <g>\n       <use xlink:href=\"#macbc45b958\" x=\"133.212035\" y=\"239.758125\" style=\"stroke: #000000; stroke-width: 0.8\"/>\n      </g>\n     </g>\n     <g id=\"text_2\">\n      <!-- 20 -->\n      <g transform=\"translate(126.849535 254.356562)scale(0.1 -0.1)\">\n       <defs>\n        <path id=\"DejaVuSans-32\" d=\"M 1228 531 \nL 3431 531 \nL 3431 0 \nL 469 0 \nL 469 531 \nQ 828 903 1448 1529 \nQ 2069 2156 2228 2338 \nQ 2531 2678 2651 2914 \nQ 2772 3150 2772 3378 \nQ 2772 3750 2511 3984 \nQ 2250 4219 1831 4219 \nQ 1534 4219 1204 4116 \nQ 875 4013 500 3803 \nL 500 4441 \nQ 881 4594 1212 4672 \nQ 1544 4750 1819 4750 \nQ 2544 4750 2975 4387 \nQ 3406 4025 3406 3419 \nQ 3406 3131 3298 2873 \nQ 3191 2616 2906 2266 \nQ 2828 2175 2409 1742 \nQ 1991 1309 1228 531 \nz\n\" transform=\"scale(0.015625)\"/>\n       </defs>\n       <use xlink:href=\"#DejaVuSans-32\"/>\n       <use xlink:href=\"#DejaVuSans-30\" x=\"63.623047\"/>\n      </g>\n     </g>\n    </g>\n    <g id=\"xtick_3\">\n     <g id=\"line2d_3\">\n      <g>\n       <use xlink:href=\"#macbc45b958\" x=\"194.699638\" y=\"239.758125\" style=\"stroke: #000000; stroke-width: 0.8\"/>\n      </g>\n     </g>\n     <g id=\"text_3\">\n      <!-- 40 -->\n      <g transform=\"translate(188.337138 254.356562)scale(0.1 -0.1)\">\n       <defs>\n        <path id=\"DejaVuSans-34\" d=\"M 2419 4116 \nL 825 1625 \nL 2419 1625 \nL 2419 4116 \nz\nM 2253 4666 \nL 3047 4666 \nL 3047 1625 \nL 3713 1625 \nL 3713 1100 \nL 3047 1100 \nL 3047 0 \nL 2419 0 \nL 2419 1100 \nL 313 1100 \nL 313 1709 \nL 2253 4666 \nz\n\" transform=\"scale(0.015625)\"/>\n       </defs>\n       <use xlink:href=\"#DejaVuSans-34\"/>\n       <use xlink:href=\"#DejaVuSans-30\" x=\"63.623047\"/>\n      </g>\n     </g>\n    </g>\n    <g id=\"xtick_4\">\n     <g id=\"line2d_4\">\n      <g>\n       <use xlink:href=\"#macbc45b958\" x=\"256.187242\" y=\"239.758125\" style=\"stroke: #000000; stroke-width: 0.8\"/>\n      </g>\n     </g>\n     <g id=\"text_4\">\n      <!-- 60 -->\n      <g transform=\"translate(249.824742 254.356562)scale(0.1 -0.1)\">\n       <defs>\n        <path id=\"DejaVuSans-36\" d=\"M 2113 2584 \nQ 1688 2584 1439 2293 \nQ 1191 2003 1191 1497 \nQ 1191 994 1439 701 \nQ 1688 409 2113 409 \nQ 2538 409 2786 701 \nQ 3034 994 3034 1497 \nQ 3034 2003 2786 2293 \nQ 2538 2584 2113 2584 \nz\nM 3366 4563 \nL 3366 3988 \nQ 3128 4100 2886 4159 \nQ 2644 4219 2406 4219 \nQ 1781 4219 1451 3797 \nQ 1122 3375 1075 2522 \nQ 1259 2794 1537 2939 \nQ 1816 3084 2150 3084 \nQ 2853 3084 3261 2657 \nQ 3669 2231 3669 1497 \nQ 3669 778 3244 343 \nQ 2819 -91 2113 -91 \nQ 1303 -91 875 529 \nQ 447 1150 447 2328 \nQ 447 3434 972 4092 \nQ 1497 4750 2381 4750 \nQ 2619 4750 2861 4703 \nQ 3103 4656 3366 4563 \nz\n\" transform=\"scale(0.015625)\"/>\n       </defs>\n       <use xlink:href=\"#DejaVuSans-36\"/>\n       <use xlink:href=\"#DejaVuSans-30\" x=\"63.623047\"/>\n      </g>\n     </g>\n    </g>\n    <g id=\"xtick_5\">\n     <g id=\"line2d_5\">\n      <g>\n       <use xlink:href=\"#macbc45b958\" x=\"317.674845\" y=\"239.758125\" style=\"stroke: #000000; stroke-width: 0.8\"/>\n      </g>\n     </g>\n     <g id=\"text_5\">\n      <!-- 80 -->\n      <g transform=\"translate(311.312345 254.356562)scale(0.1 -0.1)\">\n       <defs>\n        <path id=\"DejaVuSans-38\" d=\"M 2034 2216 \nQ 1584 2216 1326 1975 \nQ 1069 1734 1069 1313 \nQ 1069 891 1326 650 \nQ 1584 409 2034 409 \nQ 2484 409 2743 651 \nQ 3003 894 3003 1313 \nQ 3003 1734 2745 1975 \nQ 2488 2216 2034 2216 \nz\nM 1403 2484 \nQ 997 2584 770 2862 \nQ 544 3141 544 3541 \nQ 544 4100 942 4425 \nQ 1341 4750 2034 4750 \nQ 2731 4750 3128 4425 \nQ 3525 4100 3525 3541 \nQ 3525 3141 3298 2862 \nQ 3072 2584 2669 2484 \nQ 3125 2378 3379 2068 \nQ 3634 1759 3634 1313 \nQ 3634 634 3220 271 \nQ 2806 -91 2034 -91 \nQ 1263 -91 848 271 \nQ 434 634 434 1313 \nQ 434 1759 690 2068 \nQ 947 2378 1403 2484 \nz\nM 1172 3481 \nQ 1172 3119 1398 2916 \nQ 1625 2713 2034 2713 \nQ 2441 2713 2670 2916 \nQ 2900 3119 2900 3481 \nQ 2900 3844 2670 4047 \nQ 2441 4250 2034 4250 \nQ 1625 4250 1398 4047 \nQ 1172 3844 1172 3481 \nz\n\" transform=\"scale(0.015625)\"/>\n       </defs>\n       <use xlink:href=\"#DejaVuSans-38\"/>\n       <use xlink:href=\"#DejaVuSans-30\" x=\"63.623047\"/>\n      </g>\n     </g>\n    </g>\n    <g id=\"xtick_6\">\n     <g id=\"line2d_6\">\n      <g>\n       <use xlink:href=\"#macbc45b958\" x=\"379.162448\" y=\"239.758125\" style=\"stroke: #000000; stroke-width: 0.8\"/>\n      </g>\n     </g>\n     <g id=\"text_6\">\n      <!-- 100 -->\n      <g transform=\"translate(369.618698 254.356562)scale(0.1 -0.1)\">\n       <defs>\n        <path id=\"DejaVuSans-31\" d=\"M 794 531 \nL 1825 531 \nL 1825 4091 \nL 703 3866 \nL 703 4441 \nL 1819 4666 \nL 2450 4666 \nL 2450 531 \nL 3481 531 \nL 3481 0 \nL 794 0 \nL 794 531 \nz\n\" transform=\"scale(0.015625)\"/>\n       </defs>\n       <use xlink:href=\"#DejaVuSans-31\"/>\n       <use xlink:href=\"#DejaVuSans-30\" x=\"63.623047\"/>\n       <use xlink:href=\"#DejaVuSans-30\" x=\"127.246094\"/>\n      </g>\n     </g>\n    </g>\n    <g id=\"text_7\">\n     <!-- Epochs -->\n     <g transform=\"translate(205.990625 268.034687)scale(0.1 -0.1)\">\n      <defs>\n       <path id=\"DejaVuSans-45\" d=\"M 628 4666 \nL 3578 4666 \nL 3578 4134 \nL 1259 4134 \nL 1259 2753 \nL 3481 2753 \nL 3481 2222 \nL 1259 2222 \nL 1259 531 \nL 3634 531 \nL 3634 0 \nL 628 0 \nL 628 4666 \nz\n\" transform=\"scale(0.015625)\"/>\n       <path id=\"DejaVuSans-70\" d=\"M 1159 525 \nL 1159 -1331 \nL 581 -1331 \nL 581 3500 \nL 1159 3500 \nL 1159 2969 \nQ 1341 3281 1617 3432 \nQ 1894 3584 2278 3584 \nQ 2916 3584 3314 3078 \nQ 3713 2572 3713 1747 \nQ 3713 922 3314 415 \nQ 2916 -91 2278 -91 \nQ 1894 -91 1617 61 \nQ 1341 213 1159 525 \nz\nM 3116 1747 \nQ 3116 2381 2855 2742 \nQ 2594 3103 2138 3103 \nQ 1681 3103 1420 2742 \nQ 1159 2381 1159 1747 \nQ 1159 1113 1420 752 \nQ 1681 391 2138 391 \nQ 2594 391 2855 752 \nQ 3116 1113 3116 1747 \nz\n\" transform=\"scale(0.015625)\"/>\n       <path id=\"DejaVuSans-6f\" d=\"M 1959 3097 \nQ 1497 3097 1228 2736 \nQ 959 2375 959 1747 \nQ 959 1119 1226 758 \nQ 1494 397 1959 397 \nQ 2419 397 2687 759 \nQ 2956 1122 2956 1747 \nQ 2956 2369 2687 2733 \nQ 2419 3097 1959 3097 \nz\nM 1959 3584 \nQ 2709 3584 3137 3096 \nQ 3566 2609 3566 1747 \nQ 3566 888 3137 398 \nQ 2709 -91 1959 -91 \nQ 1206 -91 779 398 \nQ 353 888 353 1747 \nQ 353 2609 779 3096 \nQ 1206 3584 1959 3584 \nz\n\" transform=\"scale(0.015625)\"/>\n       <path id=\"DejaVuSans-63\" d=\"M 3122 3366 \nL 3122 2828 \nQ 2878 2963 2633 3030 \nQ 2388 3097 2138 3097 \nQ 1578 3097 1268 2742 \nQ 959 2388 959 1747 \nQ 959 1106 1268 751 \nQ 1578 397 2138 397 \nQ 2388 397 2633 464 \nQ 2878 531 3122 666 \nL 3122 134 \nQ 2881 22 2623 -34 \nQ 2366 -91 2075 -91 \nQ 1284 -91 818 406 \nQ 353 903 353 1747 \nQ 353 2603 823 3093 \nQ 1294 3584 2113 3584 \nQ 2378 3584 2631 3529 \nQ 2884 3475 3122 3366 \nz\n\" transform=\"scale(0.015625)\"/>\n       <path id=\"DejaVuSans-68\" d=\"M 3513 2113 \nL 3513 0 \nL 2938 0 \nL 2938 2094 \nQ 2938 2591 2744 2837 \nQ 2550 3084 2163 3084 \nQ 1697 3084 1428 2787 \nQ 1159 2491 1159 1978 \nL 1159 0 \nL 581 0 \nL 581 4863 \nL 1159 4863 \nL 1159 2956 \nQ 1366 3272 1645 3428 \nQ 1925 3584 2291 3584 \nQ 2894 3584 3203 3211 \nQ 3513 2838 3513 2113 \nz\n\" transform=\"scale(0.015625)\"/>\n       <path id=\"DejaVuSans-73\" d=\"M 2834 3397 \nL 2834 2853 \nQ 2591 2978 2328 3040 \nQ 2066 3103 1784 3103 \nQ 1356 3103 1142 2972 \nQ 928 2841 928 2578 \nQ 928 2378 1081 2264 \nQ 1234 2150 1697 2047 \nL 1894 2003 \nQ 2506 1872 2764 1633 \nQ 3022 1394 3022 966 \nQ 3022 478 2636 193 \nQ 2250 -91 1575 -91 \nQ 1294 -91 989 -36 \nQ 684 19 347 128 \nL 347 722 \nQ 666 556 975 473 \nQ 1284 391 1588 391 \nQ 1994 391 2212 530 \nQ 2431 669 2431 922 \nQ 2431 1156 2273 1281 \nQ 2116 1406 1581 1522 \nL 1381 1569 \nQ 847 1681 609 1914 \nQ 372 2147 372 2553 \nQ 372 3047 722 3315 \nQ 1072 3584 1716 3584 \nQ 2034 3584 2315 3537 \nQ 2597 3491 2834 3397 \nz\n\" transform=\"scale(0.015625)\"/>\n      </defs>\n      <use xlink:href=\"#DejaVuSans-45\"/>\n      <use xlink:href=\"#DejaVuSans-70\" x=\"63.183594\"/>\n      <use xlink:href=\"#DejaVuSans-6f\" x=\"126.660156\"/>\n      <use xlink:href=\"#DejaVuSans-63\" x=\"187.841797\"/>\n      <use xlink:href=\"#DejaVuSans-68\" x=\"242.822266\"/>\n      <use xlink:href=\"#DejaVuSans-73\" x=\"306.201172\"/>\n     </g>\n    </g>\n   </g>\n   <g id=\"matplotlib.axis_2\">\n    <g id=\"ytick_1\">\n     <g id=\"line2d_7\">\n      <defs>\n       <path id=\"mdb1ef90ff0\" d=\"M 0 0 \nL -3.5 0 \n\" style=\"stroke: #000000; stroke-width: 0.8\"/>\n      </defs>\n      <g>\n       <use xlink:href=\"#mdb1ef90ff0\" x=\"56.50625\" y=\"219.792753\" style=\"stroke: #000000; stroke-width: 0.8\"/>\n      </g>\n     </g>\n     <g id=\"text_8\">\n      <!-- 0.660 -->\n      <g transform=\"translate(20.878125 223.591971)scale(0.1 -0.1)\">\n       <defs>\n        <path id=\"DejaVuSans-2e\" d=\"M 684 794 \nL 1344 794 \nL 1344 0 \nL 684 0 \nL 684 794 \nz\n\" transform=\"scale(0.015625)\"/>\n       </defs>\n       <use xlink:href=\"#DejaVuSans-30\"/>\n       <use xlink:href=\"#DejaVuSans-2e\" x=\"63.623047\"/>\n       <use xlink:href=\"#DejaVuSans-36\" x=\"95.410156\"/>\n       <use xlink:href=\"#DejaVuSans-36\" x=\"159.033203\"/>\n       <use xlink:href=\"#DejaVuSans-30\" x=\"222.65625\"/>\n      </g>\n     </g>\n    </g>\n    <g id=\"ytick_2\">\n     <g id=\"line2d_8\">\n      <g>\n       <use xlink:href=\"#mdb1ef90ff0\" x=\"56.50625\" y=\"191.925032\" style=\"stroke: #000000; stroke-width: 0.8\"/>\n      </g>\n     </g>\n     <g id=\"text_9\">\n      <!-- 0.665 -->\n      <g transform=\"translate(20.878125 195.724251)scale(0.1 -0.1)\">\n       <defs>\n        <path id=\"DejaVuSans-35\" d=\"M 691 4666 \nL 3169 4666 \nL 3169 4134 \nL 1269 4134 \nL 1269 2991 \nQ 1406 3038 1543 3061 \nQ 1681 3084 1819 3084 \nQ 2600 3084 3056 2656 \nQ 3513 2228 3513 1497 \nQ 3513 744 3044 326 \nQ 2575 -91 1722 -91 \nQ 1428 -91 1123 -41 \nQ 819 9 494 109 \nL 494 744 \nQ 775 591 1075 516 \nQ 1375 441 1709 441 \nQ 2250 441 2565 725 \nQ 2881 1009 2881 1497 \nQ 2881 1984 2565 2268 \nQ 2250 2553 1709 2553 \nQ 1456 2553 1204 2497 \nQ 953 2441 691 2322 \nL 691 4666 \nz\n\" transform=\"scale(0.015625)\"/>\n       </defs>\n       <use xlink:href=\"#DejaVuSans-30\"/>\n       <use xlink:href=\"#DejaVuSans-2e\" x=\"63.623047\"/>\n       <use xlink:href=\"#DejaVuSans-36\" x=\"95.410156\"/>\n       <use xlink:href=\"#DejaVuSans-36\" x=\"159.033203\"/>\n       <use xlink:href=\"#DejaVuSans-35\" x=\"222.65625\"/>\n      </g>\n     </g>\n    </g>\n    <g id=\"ytick_3\">\n     <g id=\"line2d_9\">\n      <g>\n       <use xlink:href=\"#mdb1ef90ff0\" x=\"56.50625\" y=\"164.057312\" style=\"stroke: #000000; stroke-width: 0.8\"/>\n      </g>\n     </g>\n     <g id=\"text_10\">\n      <!-- 0.670 -->\n      <g transform=\"translate(20.878125 167.856531)scale(0.1 -0.1)\">\n       <defs>\n        <path id=\"DejaVuSans-37\" d=\"M 525 4666 \nL 3525 4666 \nL 3525 4397 \nL 1831 0 \nL 1172 0 \nL 2766 4134 \nL 525 4134 \nL 525 4666 \nz\n\" transform=\"scale(0.015625)\"/>\n       </defs>\n       <use xlink:href=\"#DejaVuSans-30\"/>\n       <use xlink:href=\"#DejaVuSans-2e\" x=\"63.623047\"/>\n       <use xlink:href=\"#DejaVuSans-36\" x=\"95.410156\"/>\n       <use xlink:href=\"#DejaVuSans-37\" x=\"159.033203\"/>\n       <use xlink:href=\"#DejaVuSans-30\" x=\"222.65625\"/>\n      </g>\n     </g>\n    </g>\n    <g id=\"ytick_4\">\n     <g id=\"line2d_10\">\n      <g>\n       <use xlink:href=\"#mdb1ef90ff0\" x=\"56.50625\" y=\"136.189592\" style=\"stroke: #000000; stroke-width: 0.8\"/>\n      </g>\n     </g>\n     <g id=\"text_11\">\n      <!-- 0.675 -->\n      <g transform=\"translate(20.878125 139.988811)scale(0.1 -0.1)\">\n       <use xlink:href=\"#DejaVuSans-30\"/>\n       <use xlink:href=\"#DejaVuSans-2e\" x=\"63.623047\"/>\n       <use xlink:href=\"#DejaVuSans-36\" x=\"95.410156\"/>\n       <use xlink:href=\"#DejaVuSans-37\" x=\"159.033203\"/>\n       <use xlink:href=\"#DejaVuSans-35\" x=\"222.65625\"/>\n      </g>\n     </g>\n    </g>\n    <g id=\"ytick_5\">\n     <g id=\"line2d_11\">\n      <g>\n       <use xlink:href=\"#mdb1ef90ff0\" x=\"56.50625\" y=\"108.321872\" style=\"stroke: #000000; stroke-width: 0.8\"/>\n      </g>\n     </g>\n     <g id=\"text_12\">\n      <!-- 0.680 -->\n      <g transform=\"translate(20.878125 112.121091)scale(0.1 -0.1)\">\n       <use xlink:href=\"#DejaVuSans-30\"/>\n       <use xlink:href=\"#DejaVuSans-2e\" x=\"63.623047\"/>\n       <use xlink:href=\"#DejaVuSans-36\" x=\"95.410156\"/>\n       <use xlink:href=\"#DejaVuSans-38\" x=\"159.033203\"/>\n       <use xlink:href=\"#DejaVuSans-30\" x=\"222.65625\"/>\n      </g>\n     </g>\n    </g>\n    <g id=\"ytick_6\">\n     <g id=\"line2d_12\">\n      <g>\n       <use xlink:href=\"#mdb1ef90ff0\" x=\"56.50625\" y=\"80.454152\" style=\"stroke: #000000; stroke-width: 0.8\"/>\n      </g>\n     </g>\n     <g id=\"text_13\">\n      <!-- 0.685 -->\n      <g transform=\"translate(20.878125 84.25337)scale(0.1 -0.1)\">\n       <use xlink:href=\"#DejaVuSans-30\"/>\n       <use xlink:href=\"#DejaVuSans-2e\" x=\"63.623047\"/>\n       <use xlink:href=\"#DejaVuSans-36\" x=\"95.410156\"/>\n       <use xlink:href=\"#DejaVuSans-38\" x=\"159.033203\"/>\n       <use xlink:href=\"#DejaVuSans-35\" x=\"222.65625\"/>\n      </g>\n     </g>\n    </g>\n    <g id=\"ytick_7\">\n     <g id=\"line2d_13\">\n      <g>\n       <use xlink:href=\"#mdb1ef90ff0\" x=\"56.50625\" y=\"52.586431\" style=\"stroke: #000000; stroke-width: 0.8\"/>\n      </g>\n     </g>\n     <g id=\"text_14\">\n      <!-- 0.690 -->\n      <g transform=\"translate(20.878125 56.38565)scale(0.1 -0.1)\">\n       <defs>\n        <path id=\"DejaVuSans-39\" d=\"M 703 97 \nL 703 672 \nQ 941 559 1184 500 \nQ 1428 441 1663 441 \nQ 2288 441 2617 861 \nQ 2947 1281 2994 2138 \nQ 2813 1869 2534 1725 \nQ 2256 1581 1919 1581 \nQ 1219 1581 811 2004 \nQ 403 2428 403 3163 \nQ 403 3881 828 4315 \nQ 1253 4750 1959 4750 \nQ 2769 4750 3195 4129 \nQ 3622 3509 3622 2328 \nQ 3622 1225 3098 567 \nQ 2575 -91 1691 -91 \nQ 1453 -91 1209 -44 \nQ 966 3 703 97 \nz\nM 1959 2075 \nQ 2384 2075 2632 2365 \nQ 2881 2656 2881 3163 \nQ 2881 3666 2632 3958 \nQ 2384 4250 1959 4250 \nQ 1534 4250 1286 3958 \nQ 1038 3666 1038 3163 \nQ 1038 2656 1286 2365 \nQ 1534 2075 1959 2075 \nz\n\" transform=\"scale(0.015625)\"/>\n       </defs>\n       <use xlink:href=\"#DejaVuSans-30\"/>\n       <use xlink:href=\"#DejaVuSans-2e\" x=\"63.623047\"/>\n       <use xlink:href=\"#DejaVuSans-36\" x=\"95.410156\"/>\n       <use xlink:href=\"#DejaVuSans-39\" x=\"159.033203\"/>\n       <use xlink:href=\"#DejaVuSans-30\" x=\"222.65625\"/>\n      </g>\n     </g>\n    </g>\n    <g id=\"ytick_8\">\n     <g id=\"line2d_14\">\n      <g>\n       <use xlink:href=\"#mdb1ef90ff0\" x=\"56.50625\" y=\"24.718711\" style=\"stroke: #000000; stroke-width: 0.8\"/>\n      </g>\n     </g>\n     <g id=\"text_15\">\n      <!-- 0.695 -->\n      <g transform=\"translate(20.878125 28.51793)scale(0.1 -0.1)\">\n       <use xlink:href=\"#DejaVuSans-30\"/>\n       <use xlink:href=\"#DejaVuSans-2e\" x=\"63.623047\"/>\n       <use xlink:href=\"#DejaVuSans-36\" x=\"95.410156\"/>\n       <use xlink:href=\"#DejaVuSans-39\" x=\"159.033203\"/>\n       <use xlink:href=\"#DejaVuSans-35\" x=\"222.65625\"/>\n      </g>\n     </g>\n    </g>\n    <g id=\"text_16\">\n     <!-- Loss -->\n     <g transform=\"translate(14.798438 142.005312)rotate(-90)scale(0.1 -0.1)\">\n      <defs>\n       <path id=\"DejaVuSans-4c\" d=\"M 628 4666 \nL 1259 4666 \nL 1259 531 \nL 3531 531 \nL 3531 0 \nL 628 0 \nL 628 4666 \nz\n\" transform=\"scale(0.015625)\"/>\n      </defs>\n      <use xlink:href=\"#DejaVuSans-4c\"/>\n      <use xlink:href=\"#DejaVuSans-6f\" x=\"53.962891\"/>\n      <use xlink:href=\"#DejaVuSans-73\" x=\"115.144531\"/>\n      <use xlink:href=\"#DejaVuSans-73\" x=\"167.244141\"/>\n     </g>\n    </g>\n   </g>\n   <g id=\"line2d_15\">\n    <path d=\"M 71.724432 34.54151 \nL 74.798812 34.804288 \nL 77.873192 35.05876 \nL 80.947572 35.310242 \nL 84.021952 35.55807 \nL 87.096333 35.804569 \nL 90.170713 36.048078 \nL 93.245093 36.29192 \nL 96.319473 36.540412 \nL 99.393853 36.789569 \nL 102.468233 37.032082 \nL 105.542614 37.276256 \nL 108.616994 37.518768 \nL 111.691374 37.768589 \nL 114.765754 38.01376 \nL 117.840134 38.26192 \nL 120.914514 38.508751 \nL 123.988895 38.754254 \nL 127.063275 39.013377 \nL 130.137655 39.292765 \nL 133.212035 39.580458 \nL 136.286415 39.885094 \nL 139.360795 40.198699 \nL 142.435176 40.51762 \nL 145.509556 40.849497 \nL 148.583936 41.22888 \nL 151.658316 41.644805 \nL 154.732696 42.078006 \nL 157.807076 42.559709 \nL 160.881457 43.05304 \nL 163.955837 43.557001 \nL 167.030217 44.088868 \nL 170.104597 44.650301 \nL 173.178977 45.240305 \nL 176.253357 45.845257 \nL 179.327738 46.505357 \nL 182.402118 47.083401 \nL 185.476498 47.688354 \nL 188.550878 48.283008 \nL 191.625258 48.830156 \nL 194.699638 49.404878 \nL 197.774019 50.109161 \nL 200.848399 50.85929 \nL 203.922779 51.50444 \nL 206.997159 52.241612 \nL 210.071539 52.913338 \nL 213.145919 53.434907 \nL 216.2203 53.827246 \nL 219.29468 54.165767 \nL 222.36906 54.568404 \nL 225.44344 55.003266 \nL 228.51782 55.436467 \nL 231.5922 55.849403 \nL 234.666581 56.291573 \nL 237.740961 56.735072 \nL 240.815341 56.789222 \nL 243.889721 56.754008 \nL 246.964101 56.855332 \nL 250.038481 56.925428 \nL 253.112862 57.007484 \nL 256.187242 57.150001 \nL 259.261622 57.212124 \nL 262.336002 57.436033 \nL 265.410382 57.69715 \nL 268.484762 58.086831 \nL 271.559143 58.455583 \nL 274.633523 58.720686 \nL 277.707903 58.956887 \nL 280.782283 59.144917 \nL 283.856663 59.381782 \nL 286.931043 59.631603 \nL 290.005424 59.75286 \nL 293.079804 59.986071 \nL 296.154184 60.268116 \nL 299.228564 60.561789 \nL 302.302944 60.89732 \nL 305.377324 61.498286 \nL 308.451705 62.07633 \nL 311.526085 62.427143 \nL 314.600465 63.052693 \nL 317.674845 63.745349 \nL 320.749225 64.378207 \nL 323.823605 64.870541 \nL 326.897986 65.644921 \nL 329.972366 66.631914 \nL 333.046746 67.64648 \nL 336.121126 68.482651 \nL 339.195506 69.183612 \nL 342.269886 69.724116 \nL 345.344267 69.950351 \nL 348.418647 70.05101 \nL 351.493027 70.008819 \nL 354.567407 70.232064 \nL 357.641787 70.670248 \nL 360.716167 71.436322 \nL 363.790548 72.275482 \nL 366.864928 73.108995 \nL 369.939308 73.620929 \nL 373.013688 74.091669 \nL 376.088068 74.26774 \n\" clip-path=\"url(#p3f0c2aa035)\" style=\"fill: none; stroke: #1f77b4; stroke-width: 1.5; stroke-linecap: square\"/>\n   </g>\n   <g id=\"line2d_16\">\n    <path d=\"M 71.724432 33.745869 \nL 74.798812 32.835616 \nL 77.873192 32.201761 \nL 80.947572 33.685407 \nL 84.021952 34.972718 \nL 87.096333 34.112628 \nL 90.170713 36.114188 \nL 93.245093 37.672913 \nL 96.319473 37.945657 \nL 99.393853 35.626837 \nL 102.468233 38.891788 \nL 105.542614 40.714952 \nL 108.616994 38.912053 \nL 111.691374 38.620374 \nL 114.765754 37.287883 \nL 117.840134 37.962267 \nL 120.914514 41.132539 \nL 123.988895 39.102077 \nL 127.063275 40.11764 \nL 130.137655 39.163203 \nL 133.212035 40.70266 \nL 136.286415 41.778353 \nL 139.360795 40.456161 \nL 142.435176 43.558994 \nL 145.509556 42.881288 \nL 148.583936 42.700234 \nL 151.658316 45.618691 \nL 154.732696 45.26522 \nL 157.807076 48.445126 \nL 160.881457 46.724615 \nL 163.955837 47.129578 \nL 167.030217 49.822797 \nL 170.104597 50.852645 \nL 173.178977 51.87751 \nL 176.253357 53.704661 \nL 179.327738 52.805038 \nL 182.402118 50.541033 \nL 185.476498 51.485836 \nL 188.550878 55.542109 \nL 191.625258 57.095187 \nL 194.699638 52.930281 \nL 197.774019 61.164416 \nL 200.848399 60.913598 \nL 203.922779 60.76942 \nL 206.997159 64.41774 \nL 210.071539 65.22534 \nL 213.145919 66.916617 \nL 216.2203 70.911099 \nL 219.29468 70.829708 \nL 222.36906 66.135926 \nL 225.44344 74.521548 \nL 228.51782 67.942811 \nL 231.5922 67.260453 \nL 234.666581 67.092356 \nL 237.740961 62.33346 \nL 240.815341 66.236253 \nL 243.889721 69.767636 \nL 246.964101 72.359531 \nL 250.038481 74.424543 \nL 253.112862 71.28118 \nL 256.187242 75.563356 \nL 259.261622 71.393467 \nL 262.336002 65.117705 \nL 265.410382 78.472511 \nL 268.484762 75.829123 \nL 271.559143 86.91328 \nL 274.633523 74.644133 \nL 277.707903 74.776685 \nL 280.782283 82.352713 \nL 283.856663 84.74329 \nL 286.931043 80.362116 \nL 290.005424 76.964946 \nL 293.079804 86.143552 \nL 296.154184 88.525491 \nL 299.228564 81.379009 \nL 302.302944 82.930425 \nL 305.377324 98.53628 \nL 308.451705 84.473536 \nL 311.526085 68.13217 \nL 314.600465 105.005721 \nL 317.674845 95.117516 \nL 320.749225 94.641461 \nL 323.823605 98.371172 \nL 326.897986 129.525079 \nL 329.972366 126.820232 \nL 333.046746 127.404256 \nL 336.121126 127.288979 \nL 339.195506 112.093734 \nL 342.269886 139.509956 \nL 345.344267 126.697315 \nL 348.418647 152.975388 \nL 351.493027 136.941647 \nL 354.567407 149.882521 \nL 357.641787 143.439989 \nL 360.716167 155.121126 \nL 363.790548 179.138184 \nL 366.864928 182.622725 \nL 369.939308 186.194638 \nL 373.013688 229.874489 \nL 376.088068 194.79221 \n\" clip-path=\"url(#p3f0c2aa035)\" style=\"fill: none; stroke: #ff7f0e; stroke-width: 1.5; stroke-linecap: square\"/>\n   </g>\n   <g id=\"patch_3\">\n    <path d=\"M 56.50625 239.758125 \nL 56.50625 22.318125 \n\" style=\"fill: none; stroke: #000000; stroke-width: 0.8; stroke-linejoin: miter; stroke-linecap: square\"/>\n   </g>\n   <g id=\"patch_4\">\n    <path d=\"M 391.30625 239.758125 \nL 391.30625 22.318125 \n\" style=\"fill: none; stroke: #000000; stroke-width: 0.8; stroke-linejoin: miter; stroke-linecap: square\"/>\n   </g>\n   <g id=\"patch_5\">\n    <path d=\"M 56.50625 239.758125 \nL 391.30625 239.758125 \n\" style=\"fill: none; stroke: #000000; stroke-width: 0.8; stroke-linejoin: miter; stroke-linecap: square\"/>\n   </g>\n   <g id=\"patch_6\">\n    <path d=\"M 56.50625 22.318125 \nL 391.30625 22.318125 \n\" style=\"fill: none; stroke: #000000; stroke-width: 0.8; stroke-linejoin: miter; stroke-linecap: square\"/>\n   </g>\n   <g id=\"text_17\">\n    <!-- Loss -->\n    <g transform=\"translate(210.745625 16.318125)scale(0.12 -0.12)\">\n     <use xlink:href=\"#DejaVuSans-4c\"/>\n     <use xlink:href=\"#DejaVuSans-6f\" x=\"53.962891\"/>\n     <use xlink:href=\"#DejaVuSans-73\" x=\"115.144531\"/>\n     <use xlink:href=\"#DejaVuSans-73\" x=\"167.244141\"/>\n    </g>\n   </g>\n   <g id=\"legend_1\">\n    <g id=\"patch_7\">\n     <path d=\"M 329.03125 59.674375 \nL 384.30625 59.674375 \nQ 386.30625 59.674375 386.30625 57.674375 \nL 386.30625 29.318125 \nQ 386.30625 27.318125 384.30625 27.318125 \nL 329.03125 27.318125 \nQ 327.03125 27.318125 327.03125 29.318125 \nL 327.03125 57.674375 \nQ 327.03125 59.674375 329.03125 59.674375 \nz\n\" style=\"fill: #ffffff; opacity: 0.8; stroke: #cccccc; stroke-linejoin: miter\"/>\n    </g>\n    <g id=\"line2d_17\">\n     <path d=\"M 331.03125 35.416562 \nL 341.03125 35.416562 \nL 351.03125 35.416562 \n\" style=\"fill: none; stroke: #1f77b4; stroke-width: 1.5; stroke-linecap: square\"/>\n    </g>\n    <g id=\"text_18\">\n     <!-- val -->\n     <g transform=\"translate(359.03125 38.916562)scale(0.1 -0.1)\">\n      <defs>\n       <path id=\"DejaVuSans-76\" d=\"M 191 3500 \nL 800 3500 \nL 1894 563 \nL 2988 3500 \nL 3597 3500 \nL 2284 0 \nL 1503 0 \nL 191 3500 \nz\n\" transform=\"scale(0.015625)\"/>\n       <path id=\"DejaVuSans-61\" d=\"M 2194 1759 \nQ 1497 1759 1228 1600 \nQ 959 1441 959 1056 \nQ 959 750 1161 570 \nQ 1363 391 1709 391 \nQ 2188 391 2477 730 \nQ 2766 1069 2766 1631 \nL 2766 1759 \nL 2194 1759 \nz\nM 3341 1997 \nL 3341 0 \nL 2766 0 \nL 2766 531 \nQ 2569 213 2275 61 \nQ 1981 -91 1556 -91 \nQ 1019 -91 701 211 \nQ 384 513 384 1019 \nQ 384 1609 779 1909 \nQ 1175 2209 1959 2209 \nL 2766 2209 \nL 2766 2266 \nQ 2766 2663 2505 2880 \nQ 2244 3097 1772 3097 \nQ 1472 3097 1187 3025 \nQ 903 2953 641 2809 \nL 641 3341 \nQ 956 3463 1253 3523 \nQ 1550 3584 1831 3584 \nQ 2591 3584 2966 3190 \nQ 3341 2797 3341 1997 \nz\n\" transform=\"scale(0.015625)\"/>\n       <path id=\"DejaVuSans-6c\" d=\"M 603 4863 \nL 1178 4863 \nL 1178 0 \nL 603 0 \nL 603 4863 \nz\n\" transform=\"scale(0.015625)\"/>\n      </defs>\n      <use xlink:href=\"#DejaVuSans-76\"/>\n      <use xlink:href=\"#DejaVuSans-61\" x=\"59.179688\"/>\n      <use xlink:href=\"#DejaVuSans-6c\" x=\"120.458984\"/>\n     </g>\n    </g>\n    <g id=\"line2d_18\">\n     <path d=\"M 331.03125 50.094687 \nL 341.03125 50.094687 \nL 351.03125 50.094687 \n\" style=\"fill: none; stroke: #ff7f0e; stroke-width: 1.5; stroke-linecap: square\"/>\n    </g>\n    <g id=\"text_19\">\n     <!-- train -->\n     <g transform=\"translate(359.03125 53.594687)scale(0.1 -0.1)\">\n      <defs>\n       <path id=\"DejaVuSans-74\" d=\"M 1172 4494 \nL 1172 3500 \nL 2356 3500 \nL 2356 3053 \nL 1172 3053 \nL 1172 1153 \nQ 1172 725 1289 603 \nQ 1406 481 1766 481 \nL 2356 481 \nL 2356 0 \nL 1766 0 \nQ 1100 0 847 248 \nQ 594 497 594 1153 \nL 594 3053 \nL 172 3053 \nL 172 3500 \nL 594 3500 \nL 594 4494 \nL 1172 4494 \nz\n\" transform=\"scale(0.015625)\"/>\n       <path id=\"DejaVuSans-72\" d=\"M 2631 2963 \nQ 2534 3019 2420 3045 \nQ 2306 3072 2169 3072 \nQ 1681 3072 1420 2755 \nQ 1159 2438 1159 1844 \nL 1159 0 \nL 581 0 \nL 581 3500 \nL 1159 3500 \nL 1159 2956 \nQ 1341 3275 1631 3429 \nQ 1922 3584 2338 3584 \nQ 2397 3584 2469 3576 \nQ 2541 3569 2628 3553 \nL 2631 2963 \nz\n\" transform=\"scale(0.015625)\"/>\n       <path id=\"DejaVuSans-69\" d=\"M 603 3500 \nL 1178 3500 \nL 1178 0 \nL 603 0 \nL 603 3500 \nz\nM 603 4863 \nL 1178 4863 \nL 1178 4134 \nL 603 4134 \nL 603 4863 \nz\n\" transform=\"scale(0.015625)\"/>\n       <path id=\"DejaVuSans-6e\" d=\"M 3513 2113 \nL 3513 0 \nL 2938 0 \nL 2938 2094 \nQ 2938 2591 2744 2837 \nQ 2550 3084 2163 3084 \nQ 1697 3084 1428 2787 \nQ 1159 2491 1159 1978 \nL 1159 0 \nL 581 0 \nL 581 3500 \nL 1159 3500 \nL 1159 2956 \nQ 1366 3272 1645 3428 \nQ 1925 3584 2291 3584 \nQ 2894 3584 3203 3211 \nQ 3513 2838 3513 2113 \nz\n\" transform=\"scale(0.015625)\"/>\n      </defs>\n      <use xlink:href=\"#DejaVuSans-74\"/>\n      <use xlink:href=\"#DejaVuSans-72\" x=\"39.208984\"/>\n      <use xlink:href=\"#DejaVuSans-61\" x=\"80.322266\"/>\n      <use xlink:href=\"#DejaVuSans-69\" x=\"141.601562\"/>\n      <use xlink:href=\"#DejaVuSans-6e\" x=\"169.384766\"/>\n     </g>\n    </g>\n   </g>\n  </g>\n </g>\n <defs>\n  <clipPath id=\"p3f0c2aa035\">\n   <rect x=\"56.50625\" y=\"22.318125\" width=\"334.8\" height=\"217.44\"/>\n  </clipPath>\n </defs>\n</svg>\n",
      "text/plain": [
       "<Figure size 432x288 with 1 Axes>"
      ]
     },
     "metadata": {
      "needs_background": "light"
     },
     "output_type": "display_data"
    }
   ],
   "source": [
    "plt.plot(history.history['val_loss'], label='val')\n",
    "plt.plot(history.history['loss'], label='train')\n",
    "plt.title('Loss')\n",
    "plt.xlabel('Epochs')\n",
    "plt.ylabel('Loss')\n",
    "plt.legend()\n",
    "plt.show()"
   ]
  },
  {
   "cell_type": "code",
   "execution_count": 27,
   "metadata": {},
   "outputs": [
    {
     "data": {
      "image/svg+xml": "<?xml version=\"1.0\" encoding=\"utf-8\" standalone=\"no\"?>\n<!DOCTYPE svg PUBLIC \"-//W3C//DTD SVG 1.1//EN\"\n  \"http://www.w3.org/Graphics/SVG/1.1/DTD/svg11.dtd\">\n<svg xmlns:xlink=\"http://www.w3.org/1999/xlink\" width=\"392.14375pt\" height=\"277.314375pt\" viewBox=\"0 0 392.14375 277.314375\" xmlns=\"http://www.w3.org/2000/svg\" version=\"1.1\">\n <metadata>\n  <rdf:RDF xmlns:dc=\"http://purl.org/dc/elements/1.1/\" xmlns:cc=\"http://creativecommons.org/ns#\" xmlns:rdf=\"http://www.w3.org/1999/02/22-rdf-syntax-ns#\">\n   <cc:Work>\n    <dc:type rdf:resource=\"http://purl.org/dc/dcmitype/StillImage\"/>\n    <dc:date>2022-08-10T22:38:16.803494</dc:date>\n    <dc:format>image/svg+xml</dc:format>\n    <dc:creator>\n     <cc:Agent>\n      <dc:title>Matplotlib v3.5.2, https://matplotlib.org/</dc:title>\n     </cc:Agent>\n    </dc:creator>\n   </cc:Work>\n  </rdf:RDF>\n </metadata>\n <defs>\n  <style type=\"text/css\">*{stroke-linejoin: round; stroke-linecap: butt}</style>\n </defs>\n <g id=\"figure_1\">\n  <g id=\"patch_1\">\n   <path d=\"M 0 277.314375 \nL 392.14375 277.314375 \nL 392.14375 0 \nL 0 0 \nL 0 277.314375 \nz\n\" style=\"fill: none\"/>\n  </g>\n  <g id=\"axes_1\">\n   <g id=\"patch_2\">\n    <path d=\"M 50.14375 239.758125 \nL 384.94375 239.758125 \nL 384.94375 22.318125 \nL 50.14375 22.318125 \nz\n\" style=\"fill: #ffffff\"/>\n   </g>\n   <g id=\"matplotlib.axis_1\">\n    <g id=\"xtick_1\">\n     <g id=\"line2d_1\">\n      <defs>\n       <path id=\"m334f16394b\" d=\"M 0 0 \nL 0 3.5 \n\" style=\"stroke: #000000; stroke-width: 0.8\"/>\n      </defs>\n      <g>\n       <use xlink:href=\"#m334f16394b\" x=\"65.361932\" y=\"239.758125\" style=\"stroke: #000000; stroke-width: 0.8\"/>\n      </g>\n     </g>\n     <g id=\"text_1\">\n      <!-- 0 -->\n      <g transform=\"translate(62.180682 254.356562)scale(0.1 -0.1)\">\n       <defs>\n        <path id=\"DejaVuSans-30\" d=\"M 2034 4250 \nQ 1547 4250 1301 3770 \nQ 1056 3291 1056 2328 \nQ 1056 1369 1301 889 \nQ 1547 409 2034 409 \nQ 2525 409 2770 889 \nQ 3016 1369 3016 2328 \nQ 3016 3291 2770 3770 \nQ 2525 4250 2034 4250 \nz\nM 2034 4750 \nQ 2819 4750 3233 4129 \nQ 3647 3509 3647 2328 \nQ 3647 1150 3233 529 \nQ 2819 -91 2034 -91 \nQ 1250 -91 836 529 \nQ 422 1150 422 2328 \nQ 422 3509 836 4129 \nQ 1250 4750 2034 4750 \nz\n\" transform=\"scale(0.015625)\"/>\n       </defs>\n       <use xlink:href=\"#DejaVuSans-30\"/>\n      </g>\n     </g>\n    </g>\n    <g id=\"xtick_2\">\n     <g id=\"line2d_2\">\n      <g>\n       <use xlink:href=\"#m334f16394b\" x=\"126.849535\" y=\"239.758125\" style=\"stroke: #000000; stroke-width: 0.8\"/>\n      </g>\n     </g>\n     <g id=\"text_2\">\n      <!-- 20 -->\n      <g transform=\"translate(120.487035 254.356562)scale(0.1 -0.1)\">\n       <defs>\n        <path id=\"DejaVuSans-32\" d=\"M 1228 531 \nL 3431 531 \nL 3431 0 \nL 469 0 \nL 469 531 \nQ 828 903 1448 1529 \nQ 2069 2156 2228 2338 \nQ 2531 2678 2651 2914 \nQ 2772 3150 2772 3378 \nQ 2772 3750 2511 3984 \nQ 2250 4219 1831 4219 \nQ 1534 4219 1204 4116 \nQ 875 4013 500 3803 \nL 500 4441 \nQ 881 4594 1212 4672 \nQ 1544 4750 1819 4750 \nQ 2544 4750 2975 4387 \nQ 3406 4025 3406 3419 \nQ 3406 3131 3298 2873 \nQ 3191 2616 2906 2266 \nQ 2828 2175 2409 1742 \nQ 1991 1309 1228 531 \nz\n\" transform=\"scale(0.015625)\"/>\n       </defs>\n       <use xlink:href=\"#DejaVuSans-32\"/>\n       <use xlink:href=\"#DejaVuSans-30\" x=\"63.623047\"/>\n      </g>\n     </g>\n    </g>\n    <g id=\"xtick_3\">\n     <g id=\"line2d_3\">\n      <g>\n       <use xlink:href=\"#m334f16394b\" x=\"188.337138\" y=\"239.758125\" style=\"stroke: #000000; stroke-width: 0.8\"/>\n      </g>\n     </g>\n     <g id=\"text_3\">\n      <!-- 40 -->\n      <g transform=\"translate(181.974638 254.356562)scale(0.1 -0.1)\">\n       <defs>\n        <path id=\"DejaVuSans-34\" d=\"M 2419 4116 \nL 825 1625 \nL 2419 1625 \nL 2419 4116 \nz\nM 2253 4666 \nL 3047 4666 \nL 3047 1625 \nL 3713 1625 \nL 3713 1100 \nL 3047 1100 \nL 3047 0 \nL 2419 0 \nL 2419 1100 \nL 313 1100 \nL 313 1709 \nL 2253 4666 \nz\n\" transform=\"scale(0.015625)\"/>\n       </defs>\n       <use xlink:href=\"#DejaVuSans-34\"/>\n       <use xlink:href=\"#DejaVuSans-30\" x=\"63.623047\"/>\n      </g>\n     </g>\n    </g>\n    <g id=\"xtick_4\">\n     <g id=\"line2d_4\">\n      <g>\n       <use xlink:href=\"#m334f16394b\" x=\"249.824742\" y=\"239.758125\" style=\"stroke: #000000; stroke-width: 0.8\"/>\n      </g>\n     </g>\n     <g id=\"text_4\">\n      <!-- 60 -->\n      <g transform=\"translate(243.462242 254.356562)scale(0.1 -0.1)\">\n       <defs>\n        <path id=\"DejaVuSans-36\" d=\"M 2113 2584 \nQ 1688 2584 1439 2293 \nQ 1191 2003 1191 1497 \nQ 1191 994 1439 701 \nQ 1688 409 2113 409 \nQ 2538 409 2786 701 \nQ 3034 994 3034 1497 \nQ 3034 2003 2786 2293 \nQ 2538 2584 2113 2584 \nz\nM 3366 4563 \nL 3366 3988 \nQ 3128 4100 2886 4159 \nQ 2644 4219 2406 4219 \nQ 1781 4219 1451 3797 \nQ 1122 3375 1075 2522 \nQ 1259 2794 1537 2939 \nQ 1816 3084 2150 3084 \nQ 2853 3084 3261 2657 \nQ 3669 2231 3669 1497 \nQ 3669 778 3244 343 \nQ 2819 -91 2113 -91 \nQ 1303 -91 875 529 \nQ 447 1150 447 2328 \nQ 447 3434 972 4092 \nQ 1497 4750 2381 4750 \nQ 2619 4750 2861 4703 \nQ 3103 4656 3366 4563 \nz\n\" transform=\"scale(0.015625)\"/>\n       </defs>\n       <use xlink:href=\"#DejaVuSans-36\"/>\n       <use xlink:href=\"#DejaVuSans-30\" x=\"63.623047\"/>\n      </g>\n     </g>\n    </g>\n    <g id=\"xtick_5\">\n     <g id=\"line2d_5\">\n      <g>\n       <use xlink:href=\"#m334f16394b\" x=\"311.312345\" y=\"239.758125\" style=\"stroke: #000000; stroke-width: 0.8\"/>\n      </g>\n     </g>\n     <g id=\"text_5\">\n      <!-- 80 -->\n      <g transform=\"translate(304.949845 254.356562)scale(0.1 -0.1)\">\n       <defs>\n        <path id=\"DejaVuSans-38\" d=\"M 2034 2216 \nQ 1584 2216 1326 1975 \nQ 1069 1734 1069 1313 \nQ 1069 891 1326 650 \nQ 1584 409 2034 409 \nQ 2484 409 2743 651 \nQ 3003 894 3003 1313 \nQ 3003 1734 2745 1975 \nQ 2488 2216 2034 2216 \nz\nM 1403 2484 \nQ 997 2584 770 2862 \nQ 544 3141 544 3541 \nQ 544 4100 942 4425 \nQ 1341 4750 2034 4750 \nQ 2731 4750 3128 4425 \nQ 3525 4100 3525 3541 \nQ 3525 3141 3298 2862 \nQ 3072 2584 2669 2484 \nQ 3125 2378 3379 2068 \nQ 3634 1759 3634 1313 \nQ 3634 634 3220 271 \nQ 2806 -91 2034 -91 \nQ 1263 -91 848 271 \nQ 434 634 434 1313 \nQ 434 1759 690 2068 \nQ 947 2378 1403 2484 \nz\nM 1172 3481 \nQ 1172 3119 1398 2916 \nQ 1625 2713 2034 2713 \nQ 2441 2713 2670 2916 \nQ 2900 3119 2900 3481 \nQ 2900 3844 2670 4047 \nQ 2441 4250 2034 4250 \nQ 1625 4250 1398 4047 \nQ 1172 3844 1172 3481 \nz\n\" transform=\"scale(0.015625)\"/>\n       </defs>\n       <use xlink:href=\"#DejaVuSans-38\"/>\n       <use xlink:href=\"#DejaVuSans-30\" x=\"63.623047\"/>\n      </g>\n     </g>\n    </g>\n    <g id=\"xtick_6\">\n     <g id=\"line2d_6\">\n      <g>\n       <use xlink:href=\"#m334f16394b\" x=\"372.799948\" y=\"239.758125\" style=\"stroke: #000000; stroke-width: 0.8\"/>\n      </g>\n     </g>\n     <g id=\"text_6\">\n      <!-- 100 -->\n      <g transform=\"translate(363.256198 254.356562)scale(0.1 -0.1)\">\n       <defs>\n        <path id=\"DejaVuSans-31\" d=\"M 794 531 \nL 1825 531 \nL 1825 4091 \nL 703 3866 \nL 703 4441 \nL 1819 4666 \nL 2450 4666 \nL 2450 531 \nL 3481 531 \nL 3481 0 \nL 794 0 \nL 794 531 \nz\n\" transform=\"scale(0.015625)\"/>\n       </defs>\n       <use xlink:href=\"#DejaVuSans-31\"/>\n       <use xlink:href=\"#DejaVuSans-30\" x=\"63.623047\"/>\n       <use xlink:href=\"#DejaVuSans-30\" x=\"127.246094\"/>\n      </g>\n     </g>\n    </g>\n    <g id=\"text_7\">\n     <!-- Epochs -->\n     <g transform=\"translate(199.628125 268.034687)scale(0.1 -0.1)\">\n      <defs>\n       <path id=\"DejaVuSans-45\" d=\"M 628 4666 \nL 3578 4666 \nL 3578 4134 \nL 1259 4134 \nL 1259 2753 \nL 3481 2753 \nL 3481 2222 \nL 1259 2222 \nL 1259 531 \nL 3634 531 \nL 3634 0 \nL 628 0 \nL 628 4666 \nz\n\" transform=\"scale(0.015625)\"/>\n       <path id=\"DejaVuSans-70\" d=\"M 1159 525 \nL 1159 -1331 \nL 581 -1331 \nL 581 3500 \nL 1159 3500 \nL 1159 2969 \nQ 1341 3281 1617 3432 \nQ 1894 3584 2278 3584 \nQ 2916 3584 3314 3078 \nQ 3713 2572 3713 1747 \nQ 3713 922 3314 415 \nQ 2916 -91 2278 -91 \nQ 1894 -91 1617 61 \nQ 1341 213 1159 525 \nz\nM 3116 1747 \nQ 3116 2381 2855 2742 \nQ 2594 3103 2138 3103 \nQ 1681 3103 1420 2742 \nQ 1159 2381 1159 1747 \nQ 1159 1113 1420 752 \nQ 1681 391 2138 391 \nQ 2594 391 2855 752 \nQ 3116 1113 3116 1747 \nz\n\" transform=\"scale(0.015625)\"/>\n       <path id=\"DejaVuSans-6f\" d=\"M 1959 3097 \nQ 1497 3097 1228 2736 \nQ 959 2375 959 1747 \nQ 959 1119 1226 758 \nQ 1494 397 1959 397 \nQ 2419 397 2687 759 \nQ 2956 1122 2956 1747 \nQ 2956 2369 2687 2733 \nQ 2419 3097 1959 3097 \nz\nM 1959 3584 \nQ 2709 3584 3137 3096 \nQ 3566 2609 3566 1747 \nQ 3566 888 3137 398 \nQ 2709 -91 1959 -91 \nQ 1206 -91 779 398 \nQ 353 888 353 1747 \nQ 353 2609 779 3096 \nQ 1206 3584 1959 3584 \nz\n\" transform=\"scale(0.015625)\"/>\n       <path id=\"DejaVuSans-63\" d=\"M 3122 3366 \nL 3122 2828 \nQ 2878 2963 2633 3030 \nQ 2388 3097 2138 3097 \nQ 1578 3097 1268 2742 \nQ 959 2388 959 1747 \nQ 959 1106 1268 751 \nQ 1578 397 2138 397 \nQ 2388 397 2633 464 \nQ 2878 531 3122 666 \nL 3122 134 \nQ 2881 22 2623 -34 \nQ 2366 -91 2075 -91 \nQ 1284 -91 818 406 \nQ 353 903 353 1747 \nQ 353 2603 823 3093 \nQ 1294 3584 2113 3584 \nQ 2378 3584 2631 3529 \nQ 2884 3475 3122 3366 \nz\n\" transform=\"scale(0.015625)\"/>\n       <path id=\"DejaVuSans-68\" d=\"M 3513 2113 \nL 3513 0 \nL 2938 0 \nL 2938 2094 \nQ 2938 2591 2744 2837 \nQ 2550 3084 2163 3084 \nQ 1697 3084 1428 2787 \nQ 1159 2491 1159 1978 \nL 1159 0 \nL 581 0 \nL 581 4863 \nL 1159 4863 \nL 1159 2956 \nQ 1366 3272 1645 3428 \nQ 1925 3584 2291 3584 \nQ 2894 3584 3203 3211 \nQ 3513 2838 3513 2113 \nz\n\" transform=\"scale(0.015625)\"/>\n       <path id=\"DejaVuSans-73\" d=\"M 2834 3397 \nL 2834 2853 \nQ 2591 2978 2328 3040 \nQ 2066 3103 1784 3103 \nQ 1356 3103 1142 2972 \nQ 928 2841 928 2578 \nQ 928 2378 1081 2264 \nQ 1234 2150 1697 2047 \nL 1894 2003 \nQ 2506 1872 2764 1633 \nQ 3022 1394 3022 966 \nQ 3022 478 2636 193 \nQ 2250 -91 1575 -91 \nQ 1294 -91 989 -36 \nQ 684 19 347 128 \nL 347 722 \nQ 666 556 975 473 \nQ 1284 391 1588 391 \nQ 1994 391 2212 530 \nQ 2431 669 2431 922 \nQ 2431 1156 2273 1281 \nQ 2116 1406 1581 1522 \nL 1381 1569 \nQ 847 1681 609 1914 \nQ 372 2147 372 2553 \nQ 372 3047 722 3315 \nQ 1072 3584 1716 3584 \nQ 2034 3584 2315 3537 \nQ 2597 3491 2834 3397 \nz\n\" transform=\"scale(0.015625)\"/>\n      </defs>\n      <use xlink:href=\"#DejaVuSans-45\"/>\n      <use xlink:href=\"#DejaVuSans-70\" x=\"63.183594\"/>\n      <use xlink:href=\"#DejaVuSans-6f\" x=\"126.660156\"/>\n      <use xlink:href=\"#DejaVuSans-63\" x=\"187.841797\"/>\n      <use xlink:href=\"#DejaVuSans-68\" x=\"242.822266\"/>\n      <use xlink:href=\"#DejaVuSans-73\" x=\"306.201172\"/>\n     </g>\n    </g>\n   </g>\n   <g id=\"matplotlib.axis_2\">\n    <g id=\"ytick_1\">\n     <g id=\"line2d_7\">\n      <defs>\n       <path id=\"mc0c1252073\" d=\"M 0 0 \nL -3.5 0 \n\" style=\"stroke: #000000; stroke-width: 0.8\"/>\n      </defs>\n      <g>\n       <use xlink:href=\"#mc0c1252073\" x=\"50.14375\" y=\"224.853224\" style=\"stroke: #000000; stroke-width: 0.8\"/>\n      </g>\n     </g>\n     <g id=\"text_8\">\n      <!-- 0.46 -->\n      <g transform=\"translate(20.878125 228.652443)scale(0.1 -0.1)\">\n       <defs>\n        <path id=\"DejaVuSans-2e\" d=\"M 684 794 \nL 1344 794 \nL 1344 0 \nL 684 0 \nL 684 794 \nz\n\" transform=\"scale(0.015625)\"/>\n       </defs>\n       <use xlink:href=\"#DejaVuSans-30\"/>\n       <use xlink:href=\"#DejaVuSans-2e\" x=\"63.623047\"/>\n       <use xlink:href=\"#DejaVuSans-34\" x=\"95.410156\"/>\n       <use xlink:href=\"#DejaVuSans-36\" x=\"159.033203\"/>\n      </g>\n     </g>\n    </g>\n    <g id=\"ytick_2\">\n     <g id=\"line2d_8\">\n      <g>\n       <use xlink:href=\"#mc0c1252073\" x=\"50.14375\" y=\"189.704343\" style=\"stroke: #000000; stroke-width: 0.8\"/>\n      </g>\n     </g>\n     <g id=\"text_9\">\n      <!-- 0.48 -->\n      <g transform=\"translate(20.878125 193.503561)scale(0.1 -0.1)\">\n       <use xlink:href=\"#DejaVuSans-30\"/>\n       <use xlink:href=\"#DejaVuSans-2e\" x=\"63.623047\"/>\n       <use xlink:href=\"#DejaVuSans-34\" x=\"95.410156\"/>\n       <use xlink:href=\"#DejaVuSans-38\" x=\"159.033203\"/>\n      </g>\n     </g>\n    </g>\n    <g id=\"ytick_3\">\n     <g id=\"line2d_9\">\n      <g>\n       <use xlink:href=\"#mc0c1252073\" x=\"50.14375\" y=\"154.555461\" style=\"stroke: #000000; stroke-width: 0.8\"/>\n      </g>\n     </g>\n     <g id=\"text_10\">\n      <!-- 0.50 -->\n      <g transform=\"translate(20.878125 158.35468)scale(0.1 -0.1)\">\n       <defs>\n        <path id=\"DejaVuSans-35\" d=\"M 691 4666 \nL 3169 4666 \nL 3169 4134 \nL 1269 4134 \nL 1269 2991 \nQ 1406 3038 1543 3061 \nQ 1681 3084 1819 3084 \nQ 2600 3084 3056 2656 \nQ 3513 2228 3513 1497 \nQ 3513 744 3044 326 \nQ 2575 -91 1722 -91 \nQ 1428 -91 1123 -41 \nQ 819 9 494 109 \nL 494 744 \nQ 775 591 1075 516 \nQ 1375 441 1709 441 \nQ 2250 441 2565 725 \nQ 2881 1009 2881 1497 \nQ 2881 1984 2565 2268 \nQ 2250 2553 1709 2553 \nQ 1456 2553 1204 2497 \nQ 953 2441 691 2322 \nL 691 4666 \nz\n\" transform=\"scale(0.015625)\"/>\n       </defs>\n       <use xlink:href=\"#DejaVuSans-30\"/>\n       <use xlink:href=\"#DejaVuSans-2e\" x=\"63.623047\"/>\n       <use xlink:href=\"#DejaVuSans-35\" x=\"95.410156\"/>\n       <use xlink:href=\"#DejaVuSans-30\" x=\"159.033203\"/>\n      </g>\n     </g>\n    </g>\n    <g id=\"ytick_4\">\n     <g id=\"line2d_10\">\n      <g>\n       <use xlink:href=\"#mc0c1252073\" x=\"50.14375\" y=\"119.406579\" style=\"stroke: #000000; stroke-width: 0.8\"/>\n      </g>\n     </g>\n     <g id=\"text_11\">\n      <!-- 0.52 -->\n      <g transform=\"translate(20.878125 123.205798)scale(0.1 -0.1)\">\n       <use xlink:href=\"#DejaVuSans-30\"/>\n       <use xlink:href=\"#DejaVuSans-2e\" x=\"63.623047\"/>\n       <use xlink:href=\"#DejaVuSans-35\" x=\"95.410156\"/>\n       <use xlink:href=\"#DejaVuSans-32\" x=\"159.033203\"/>\n      </g>\n     </g>\n    </g>\n    <g id=\"ytick_5\">\n     <g id=\"line2d_11\">\n      <g>\n       <use xlink:href=\"#mc0c1252073\" x=\"50.14375\" y=\"84.257697\" style=\"stroke: #000000; stroke-width: 0.8\"/>\n      </g>\n     </g>\n     <g id=\"text_12\">\n      <!-- 0.54 -->\n      <g transform=\"translate(20.878125 88.056916)scale(0.1 -0.1)\">\n       <use xlink:href=\"#DejaVuSans-30\"/>\n       <use xlink:href=\"#DejaVuSans-2e\" x=\"63.623047\"/>\n       <use xlink:href=\"#DejaVuSans-35\" x=\"95.410156\"/>\n       <use xlink:href=\"#DejaVuSans-34\" x=\"159.033203\"/>\n      </g>\n     </g>\n    </g>\n    <g id=\"ytick_6\">\n     <g id=\"line2d_12\">\n      <g>\n       <use xlink:href=\"#mc0c1252073\" x=\"50.14375\" y=\"49.108816\" style=\"stroke: #000000; stroke-width: 0.8\"/>\n      </g>\n     </g>\n     <g id=\"text_13\">\n      <!-- 0.56 -->\n      <g transform=\"translate(20.878125 52.908034)scale(0.1 -0.1)\">\n       <use xlink:href=\"#DejaVuSans-30\"/>\n       <use xlink:href=\"#DejaVuSans-2e\" x=\"63.623047\"/>\n       <use xlink:href=\"#DejaVuSans-35\" x=\"95.410156\"/>\n       <use xlink:href=\"#DejaVuSans-36\" x=\"159.033203\"/>\n      </g>\n     </g>\n    </g>\n    <g id=\"text_14\">\n     <!-- Accuracy -->\n     <g transform=\"translate(14.798438 153.86625)rotate(-90)scale(0.1 -0.1)\">\n      <defs>\n       <path id=\"DejaVuSans-41\" d=\"M 2188 4044 \nL 1331 1722 \nL 3047 1722 \nL 2188 4044 \nz\nM 1831 4666 \nL 2547 4666 \nL 4325 0 \nL 3669 0 \nL 3244 1197 \nL 1141 1197 \nL 716 0 \nL 50 0 \nL 1831 4666 \nz\n\" transform=\"scale(0.015625)\"/>\n       <path id=\"DejaVuSans-75\" d=\"M 544 1381 \nL 544 3500 \nL 1119 3500 \nL 1119 1403 \nQ 1119 906 1312 657 \nQ 1506 409 1894 409 \nQ 2359 409 2629 706 \nQ 2900 1003 2900 1516 \nL 2900 3500 \nL 3475 3500 \nL 3475 0 \nL 2900 0 \nL 2900 538 \nQ 2691 219 2414 64 \nQ 2138 -91 1772 -91 \nQ 1169 -91 856 284 \nQ 544 659 544 1381 \nz\nM 1991 3584 \nL 1991 3584 \nz\n\" transform=\"scale(0.015625)\"/>\n       <path id=\"DejaVuSans-72\" d=\"M 2631 2963 \nQ 2534 3019 2420 3045 \nQ 2306 3072 2169 3072 \nQ 1681 3072 1420 2755 \nQ 1159 2438 1159 1844 \nL 1159 0 \nL 581 0 \nL 581 3500 \nL 1159 3500 \nL 1159 2956 \nQ 1341 3275 1631 3429 \nQ 1922 3584 2338 3584 \nQ 2397 3584 2469 3576 \nQ 2541 3569 2628 3553 \nL 2631 2963 \nz\n\" transform=\"scale(0.015625)\"/>\n       <path id=\"DejaVuSans-61\" d=\"M 2194 1759 \nQ 1497 1759 1228 1600 \nQ 959 1441 959 1056 \nQ 959 750 1161 570 \nQ 1363 391 1709 391 \nQ 2188 391 2477 730 \nQ 2766 1069 2766 1631 \nL 2766 1759 \nL 2194 1759 \nz\nM 3341 1997 \nL 3341 0 \nL 2766 0 \nL 2766 531 \nQ 2569 213 2275 61 \nQ 1981 -91 1556 -91 \nQ 1019 -91 701 211 \nQ 384 513 384 1019 \nQ 384 1609 779 1909 \nQ 1175 2209 1959 2209 \nL 2766 2209 \nL 2766 2266 \nQ 2766 2663 2505 2880 \nQ 2244 3097 1772 3097 \nQ 1472 3097 1187 3025 \nQ 903 2953 641 2809 \nL 641 3341 \nQ 956 3463 1253 3523 \nQ 1550 3584 1831 3584 \nQ 2591 3584 2966 3190 \nQ 3341 2797 3341 1997 \nz\n\" transform=\"scale(0.015625)\"/>\n       <path id=\"DejaVuSans-79\" d=\"M 2059 -325 \nQ 1816 -950 1584 -1140 \nQ 1353 -1331 966 -1331 \nL 506 -1331 \nL 506 -850 \nL 844 -850 \nQ 1081 -850 1212 -737 \nQ 1344 -625 1503 -206 \nL 1606 56 \nL 191 3500 \nL 800 3500 \nL 1894 763 \nL 2988 3500 \nL 3597 3500 \nL 2059 -325 \nz\n\" transform=\"scale(0.015625)\"/>\n      </defs>\n      <use xlink:href=\"#DejaVuSans-41\"/>\n      <use xlink:href=\"#DejaVuSans-63\" x=\"66.658203\"/>\n      <use xlink:href=\"#DejaVuSans-63\" x=\"121.638672\"/>\n      <use xlink:href=\"#DejaVuSans-75\" x=\"176.619141\"/>\n      <use xlink:href=\"#DejaVuSans-72\" x=\"239.998047\"/>\n      <use xlink:href=\"#DejaVuSans-61\" x=\"281.111328\"/>\n      <use xlink:href=\"#DejaVuSans-63\" x=\"342.390625\"/>\n      <use xlink:href=\"#DejaVuSans-79\" x=\"397.371094\"/>\n     </g>\n    </g>\n   </g>\n   <g id=\"line2d_13\">\n    <path d=\"M 65.361932 229.874489 \nL 68.436312 229.874489 \nL 71.510692 104.342776 \nL 74.585072 79.236381 \nL 77.659452 79.236381 \nL 80.733833 79.236381 \nL 83.808213 79.236381 \nL 86.882593 79.236381 \nL 89.956973 79.236381 \nL 93.031353 79.236381 \nL 96.105733 79.236381 \nL 99.180114 79.236381 \nL 102.254494 79.236381 \nL 105.328874 79.236381 \nL 108.403254 79.236381 \nL 111.477634 79.236381 \nL 114.552014 79.236381 \nL 117.626395 79.236381 \nL 120.700775 79.236381 \nL 123.775155 79.236381 \nL 126.849535 79.236381 \nL 129.923915 79.236381 \nL 132.998295 79.236381 \nL 136.072676 79.236381 \nL 139.147056 79.236381 \nL 142.221436 79.236381 \nL 145.295816 79.236381 \nL 148.370196 79.236381 \nL 151.444576 79.236381 \nL 154.518957 79.236381 \nL 157.593337 79.236381 \nL 160.667717 79.236381 \nL 163.742097 79.236381 \nL 166.816477 79.236381 \nL 169.890857 79.236381 \nL 172.965238 79.236381 \nL 176.039618 79.236381 \nL 179.113998 79.236381 \nL 182.188378 79.236381 \nL 185.262758 79.236381 \nL 188.337138 79.236381 \nL 191.411519 79.236381 \nL 194.485899 79.236381 \nL 197.560279 79.236381 \nL 200.634659 79.236381 \nL 203.709039 79.236381 \nL 206.783419 79.236381 \nL 209.8578 79.236381 \nL 212.93218 79.236381 \nL 216.00656 79.236381 \nL 219.08094 79.236381 \nL 222.15532 79.236381 \nL 225.2297 79.236381 \nL 228.304081 79.236381 \nL 231.378461 79.236381 \nL 234.452841 79.236381 \nL 237.527221 79.236381 \nL 240.601601 79.236381 \nL 243.675981 79.236381 \nL 246.750362 79.236381 \nL 249.824742 79.236381 \nL 252.899122 79.236381 \nL 255.973502 79.236381 \nL 259.047882 79.236381 \nL 262.122262 79.236381 \nL 265.196643 79.236381 \nL 268.271023 79.236381 \nL 271.345403 79.236381 \nL 274.419783 79.236381 \nL 277.494163 79.236381 \nL 280.568543 79.236381 \nL 283.642924 79.236381 \nL 286.717304 79.236381 \nL 289.791684 79.236381 \nL 292.866064 79.236381 \nL 295.940444 79.236381 \nL 299.014824 79.236381 \nL 302.089205 79.236381 \nL 305.163585 79.236381 \nL 308.237965 79.236381 \nL 311.312345 79.236381 \nL 314.386725 79.236381 \nL 317.461105 79.236381 \nL 320.535486 79.236381 \nL 323.609866 79.236381 \nL 326.684246 79.236381 \nL 329.758626 79.236381 \nL 332.833006 79.236381 \nL 335.907386 79.236381 \nL 338.981767 79.236381 \nL 342.056147 79.236381 \nL 345.130527 79.236381 \nL 348.204907 79.236381 \nL 351.279287 79.236381 \nL 354.353667 79.236381 \nL 357.428048 79.236381 \nL 360.502428 79.236381 \nL 363.576808 79.236381 \nL 366.651188 79.236381 \nL 369.725568 79.236381 \n\" clip-path=\"url(#pabe135dd7a)\" style=\"fill: none; stroke: #1f77b4; stroke-width: 1.5; stroke-linecap: square\"/>\n   </g>\n   <g id=\"line2d_14\">\n    <path d=\"M 65.361932 174.020813 \nL 68.436312 201.828495 \nL 71.510692 221.293847 \nL 74.585072 187.924628 \nL 77.659452 143.432388 \nL 80.733833 176.801607 \nL 83.808213 123.966984 \nL 86.882593 90.597869 \nL 89.956973 112.844015 \nL 93.031353 101.720942 \nL 96.105733 73.913207 \nL 99.180114 32.201761 \nL 102.254494 51.667166 \nL 105.328874 104.501684 \nL 108.403254 115.624757 \nL 111.477634 79.474796 \nL 114.552014 43.324834 \nL 117.626395 76.694054 \nL 120.700775 76.694054 \nL 123.775155 87.817127 \nL 126.849535 65.570981 \nL 129.923915 51.667166 \nL 132.998295 68.351723 \nL 136.072676 65.570981 \nL 139.147056 54.447908 \nL 142.221436 54.447908 \nL 145.295816 54.447908 \nL 148.370196 43.324834 \nL 151.444576 51.667166 \nL 154.518957 51.667166 \nL 157.593337 51.667166 \nL 160.667717 51.667166 \nL 163.742097 51.667166 \nL 166.816477 51.667166 \nL 169.890857 51.667166 \nL 172.965238 51.667166 \nL 176.039618 51.667166 \nL 179.113998 51.667166 \nL 182.188378 51.667166 \nL 185.262758 51.667166 \nL 188.337138 51.667166 \nL 191.411519 51.667166 \nL 194.485899 51.667166 \nL 197.560279 51.667166 \nL 200.634659 51.667166 \nL 203.709039 51.667166 \nL 206.783419 51.667166 \nL 209.8578 51.667166 \nL 212.93218 51.667166 \nL 216.00656 51.667166 \nL 219.08094 51.667166 \nL 222.15532 51.667166 \nL 225.2297 51.667166 \nL 228.304081 51.667166 \nL 231.378461 51.667166 \nL 234.452841 51.667166 \nL 237.527221 51.667166 \nL 240.601601 51.667166 \nL 243.675981 51.667166 \nL 246.750362 51.667166 \nL 249.824742 51.667166 \nL 252.899122 51.667166 \nL 255.973502 51.667166 \nL 259.047882 51.667166 \nL 262.122262 51.667166 \nL 265.196643 51.667166 \nL 268.271023 51.667166 \nL 271.345403 51.667166 \nL 274.419783 51.667166 \nL 277.494163 51.667166 \nL 280.568543 51.667166 \nL 283.642924 51.667166 \nL 286.717304 51.667166 \nL 289.791684 51.667166 \nL 292.866064 51.667166 \nL 295.940444 51.667166 \nL 299.014824 51.667166 \nL 302.089205 51.667166 \nL 305.163585 51.667166 \nL 308.237965 51.667166 \nL 311.312345 51.667166 \nL 314.386725 51.667166 \nL 317.461105 51.667166 \nL 320.535486 51.667166 \nL 323.609866 51.667166 \nL 326.684246 51.667166 \nL 329.758626 51.667166 \nL 332.833006 51.667166 \nL 335.907386 51.667166 \nL 338.981767 51.667166 \nL 342.056147 51.667166 \nL 345.130527 51.667166 \nL 348.204907 51.667166 \nL 351.279287 51.667166 \nL 354.353667 51.667166 \nL 357.428048 51.667166 \nL 360.502428 51.667166 \nL 363.576808 51.667166 \nL 366.651188 51.667166 \nL 369.725568 51.667166 \n\" clip-path=\"url(#pabe135dd7a)\" style=\"fill: none; stroke: #ff7f0e; stroke-width: 1.5; stroke-linecap: square\"/>\n   </g>\n   <g id=\"patch_3\">\n    <path d=\"M 50.14375 239.758125 \nL 50.14375 22.318125 \n\" style=\"fill: none; stroke: #000000; stroke-width: 0.8; stroke-linejoin: miter; stroke-linecap: square\"/>\n   </g>\n   <g id=\"patch_4\">\n    <path d=\"M 384.94375 239.758125 \nL 384.94375 22.318125 \n\" style=\"fill: none; stroke: #000000; stroke-width: 0.8; stroke-linejoin: miter; stroke-linecap: square\"/>\n   </g>\n   <g id=\"patch_5\">\n    <path d=\"M 50.14375 239.758125 \nL 384.94375 239.758125 \n\" style=\"fill: none; stroke: #000000; stroke-width: 0.8; stroke-linejoin: miter; stroke-linecap: square\"/>\n   </g>\n   <g id=\"patch_6\">\n    <path d=\"M 50.14375 22.318125 \nL 384.94375 22.318125 \n\" style=\"fill: none; stroke: #000000; stroke-width: 0.8; stroke-linejoin: miter; stroke-linecap: square\"/>\n   </g>\n   <g id=\"text_15\">\n    <!-- Accuracy -->\n    <g transform=\"translate(190.15 16.318125)scale(0.12 -0.12)\">\n     <use xlink:href=\"#DejaVuSans-41\"/>\n     <use xlink:href=\"#DejaVuSans-63\" x=\"66.658203\"/>\n     <use xlink:href=\"#DejaVuSans-63\" x=\"121.638672\"/>\n     <use xlink:href=\"#DejaVuSans-75\" x=\"176.619141\"/>\n     <use xlink:href=\"#DejaVuSans-72\" x=\"239.998047\"/>\n     <use xlink:href=\"#DejaVuSans-61\" x=\"281.111328\"/>\n     <use xlink:href=\"#DejaVuSans-63\" x=\"342.390625\"/>\n     <use xlink:href=\"#DejaVuSans-79\" x=\"397.371094\"/>\n    </g>\n   </g>\n   <g id=\"legend_1\">\n    <g id=\"patch_7\">\n     <path d=\"M 322.66875 234.758125 \nL 377.94375 234.758125 \nQ 379.94375 234.758125 379.94375 232.758125 \nL 379.94375 204.401875 \nQ 379.94375 202.401875 377.94375 202.401875 \nL 322.66875 202.401875 \nQ 320.66875 202.401875 320.66875 204.401875 \nL 320.66875 232.758125 \nQ 320.66875 234.758125 322.66875 234.758125 \nz\n\" style=\"fill: #ffffff; opacity: 0.8; stroke: #cccccc; stroke-linejoin: miter\"/>\n    </g>\n    <g id=\"line2d_15\">\n     <path d=\"M 324.66875 210.500312 \nL 334.66875 210.500312 \nL 344.66875 210.500312 \n\" style=\"fill: none; stroke: #1f77b4; stroke-width: 1.5; stroke-linecap: square\"/>\n    </g>\n    <g id=\"text_16\">\n     <!-- val -->\n     <g transform=\"translate(352.66875 214.000312)scale(0.1 -0.1)\">\n      <defs>\n       <path id=\"DejaVuSans-76\" d=\"M 191 3500 \nL 800 3500 \nL 1894 563 \nL 2988 3500 \nL 3597 3500 \nL 2284 0 \nL 1503 0 \nL 191 3500 \nz\n\" transform=\"scale(0.015625)\"/>\n       <path id=\"DejaVuSans-6c\" d=\"M 603 4863 \nL 1178 4863 \nL 1178 0 \nL 603 0 \nL 603 4863 \nz\n\" transform=\"scale(0.015625)\"/>\n      </defs>\n      <use xlink:href=\"#DejaVuSans-76\"/>\n      <use xlink:href=\"#DejaVuSans-61\" x=\"59.179688\"/>\n      <use xlink:href=\"#DejaVuSans-6c\" x=\"120.458984\"/>\n     </g>\n    </g>\n    <g id=\"line2d_16\">\n     <path d=\"M 324.66875 225.178437 \nL 334.66875 225.178437 \nL 344.66875 225.178437 \n\" style=\"fill: none; stroke: #ff7f0e; stroke-width: 1.5; stroke-linecap: square\"/>\n    </g>\n    <g id=\"text_17\">\n     <!-- train -->\n     <g transform=\"translate(352.66875 228.678437)scale(0.1 -0.1)\">\n      <defs>\n       <path id=\"DejaVuSans-74\" d=\"M 1172 4494 \nL 1172 3500 \nL 2356 3500 \nL 2356 3053 \nL 1172 3053 \nL 1172 1153 \nQ 1172 725 1289 603 \nQ 1406 481 1766 481 \nL 2356 481 \nL 2356 0 \nL 1766 0 \nQ 1100 0 847 248 \nQ 594 497 594 1153 \nL 594 3053 \nL 172 3053 \nL 172 3500 \nL 594 3500 \nL 594 4494 \nL 1172 4494 \nz\n\" transform=\"scale(0.015625)\"/>\n       <path id=\"DejaVuSans-69\" d=\"M 603 3500 \nL 1178 3500 \nL 1178 0 \nL 603 0 \nL 603 3500 \nz\nM 603 4863 \nL 1178 4863 \nL 1178 4134 \nL 603 4134 \nL 603 4863 \nz\n\" transform=\"scale(0.015625)\"/>\n       <path id=\"DejaVuSans-6e\" d=\"M 3513 2113 \nL 3513 0 \nL 2938 0 \nL 2938 2094 \nQ 2938 2591 2744 2837 \nQ 2550 3084 2163 3084 \nQ 1697 3084 1428 2787 \nQ 1159 2491 1159 1978 \nL 1159 0 \nL 581 0 \nL 581 3500 \nL 1159 3500 \nL 1159 2956 \nQ 1366 3272 1645 3428 \nQ 1925 3584 2291 3584 \nQ 2894 3584 3203 3211 \nQ 3513 2838 3513 2113 \nz\n\" transform=\"scale(0.015625)\"/>\n      </defs>\n      <use xlink:href=\"#DejaVuSans-74\"/>\n      <use xlink:href=\"#DejaVuSans-72\" x=\"39.208984\"/>\n      <use xlink:href=\"#DejaVuSans-61\" x=\"80.322266\"/>\n      <use xlink:href=\"#DejaVuSans-69\" x=\"141.601562\"/>\n      <use xlink:href=\"#DejaVuSans-6e\" x=\"169.384766\"/>\n     </g>\n    </g>\n   </g>\n  </g>\n </g>\n <defs>\n  <clipPath id=\"pabe135dd7a\">\n   <rect x=\"50.14375\" y=\"22.318125\" width=\"334.8\" height=\"217.44\"/>\n  </clipPath>\n </defs>\n</svg>\n",
      "text/plain": [
       "<Figure size 432x288 with 1 Axes>"
      ]
     },
     "metadata": {
      "needs_background": "light"
     },
     "output_type": "display_data"
    }
   ],
   "source": [
    "plt.plot(history.history['val_accuracy'], label='val')\n",
    "plt.plot(history.history['accuracy'], label='train')\n",
    "plt.title('Accuracy')\n",
    "plt.xlabel('Epochs')\n",
    "plt.ylabel('Accuracy')\n",
    "plt.legend()\n",
    "plt.show()"
   ]
  }
 ],
 "metadata": {
  "kernelspec": {
   "display_name": "Python 3.9.12 ('.venv': venv)",
   "language": "python",
   "name": "python3"
  },
  "language_info": {
   "codemirror_mode": {
    "name": "ipython",
    "version": 3
   },
   "file_extension": ".py",
   "mimetype": "text/x-python",
   "name": "python",
   "nbconvert_exporter": "python",
   "pygments_lexer": "ipython3",
   "version": "3.9.12"
  },
  "orig_nbformat": 4,
  "vscode": {
   "interpreter": {
    "hash": "751a4658d0e957a8f2a904f367484c29463a7fe3b2e5afbe14ccecf7e59af394"
   }
  }
 },
 "nbformat": 4,
 "nbformat_minor": 2
}
