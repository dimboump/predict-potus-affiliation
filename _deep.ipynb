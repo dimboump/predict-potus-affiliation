{
 "cells": [
  {
   "cell_type": "code",
   "execution_count": 1,
   "metadata": {},
   "outputs": [],
   "source": [
    "import numpy as np\n",
    "import pandas as pd\n",
    "import matplotlib.pyplot as plt\n",
    "\n",
    "from sklearn.feature_extraction.text import CountVectorizer\n",
    "from sklearn.model_selection import train_test_split\n",
    "from sklearn.preprocessing import LabelEncoder\n",
    "from sklearn.preprocessing import OneHotEncoder\n",
    "from sklearn.model_selection import GridSearchCV\n",
    "\n",
    "import tensorflow as tf\n",
    "from tensorflow.keras.models import Sequential\n",
    "from tensorflow.keras import layers\n",
    "from tensorflow.keras.preprocessing.text import Tokenizer\n",
    "from tensorflow.keras.preprocessing.sequence import pad_sequences\n",
    "from tensorflow.keras.wrappers.scikit_learn import KerasClassifier\n",
    "\n",
    "import os"
   ]
  },
  {
   "cell_type": "code",
   "execution_count": 2,
   "metadata": {},
   "outputs": [
    {
     "data": {
      "text/html": [
       "<div>\n",
       "<style scoped>\n",
       "    .dataframe tbody tr th:only-of-type {\n",
       "        vertical-align: middle;\n",
       "    }\n",
       "\n",
       "    .dataframe tbody tr th {\n",
       "        vertical-align: top;\n",
       "    }\n",
       "\n",
       "    .dataframe thead th {\n",
       "        text-align: right;\n",
       "    }\n",
       "</style>\n",
       "<table border=\"1\" class=\"dataframe\">\n",
       "  <thead>\n",
       "    <tr style=\"text-align: right;\">\n",
       "      <th></th>\n",
       "      <th>Party</th>\n",
       "      <th>Transcript</th>\n",
       "    </tr>\n",
       "  </thead>\n",
       "  <tbody>\n",
       "    <tr>\n",
       "      <th>941</th>\n",
       "      <td>0</td>\n",
       "      <td>Mr. President, Mr. Secretary-General, my fello...</td>\n",
       "    </tr>\n",
       "    <tr>\n",
       "      <th>257</th>\n",
       "      <td>0</td>\n",
       "      <td>To the House of Representatives: I return with...</td>\n",
       "    </tr>\n",
       "    <tr>\n",
       "      <th>458</th>\n",
       "      <td>1</td>\n",
       "      <td>Mr. Chairman *, the message which you have for...</td>\n",
       "    </tr>\n",
       "    <tr>\n",
       "      <th>119</th>\n",
       "      <td>0</td>\n",
       "      <td>Fellow Citizens: The practice of all my predec...</td>\n",
       "    </tr>\n",
       "    <tr>\n",
       "      <th>997</th>\n",
       "      <td>0</td>\n",
       "      <td>THE PRESIDENT: Well, thank you. Please, if you...</td>\n",
       "    </tr>\n",
       "    <tr>\n",
       "      <th>268</th>\n",
       "      <td>1</td>\n",
       "      <td>To the Senate of the United States: I transmit...</td>\n",
       "    </tr>\n",
       "    <tr>\n",
       "      <th>439</th>\n",
       "      <td>0</td>\n",
       "      <td>Madam President, Ladies of the Association: I ...</td>\n",
       "    </tr>\n",
       "    <tr>\n",
       "      <th>680</th>\n",
       "      <td>0</td>\n",
       "      <td>THE PRESIDENT. Good afternoon, ladies and gent...</td>\n",
       "    </tr>\n",
       "    <tr>\n",
       "      <th>758</th>\n",
       "      <td>1</td>\n",
       "      <td>Good evening. I am here tonight to announce my...</td>\n",
       "    </tr>\n",
       "    <tr>\n",
       "      <th>984</th>\n",
       "      <td>1</td>\n",
       "      <td>Thank you to our First Lady, Melania, who has ...</td>\n",
       "    </tr>\n",
       "  </tbody>\n",
       "</table>\n",
       "</div>"
      ],
      "text/plain": [
       "     Party                                         Transcript\n",
       "941      0  Mr. President, Mr. Secretary-General, my fello...\n",
       "257      0  To the House of Representatives: I return with...\n",
       "458      1  Mr. Chairman *, the message which you have for...\n",
       "119      0  Fellow Citizens: The practice of all my predec...\n",
       "997      0  THE PRESIDENT: Well, thank you. Please, if you...\n",
       "268      1  To the Senate of the United States: I transmit...\n",
       "439      0  Madam President, Ladies of the Association: I ...\n",
       "680      0  THE PRESIDENT. Good afternoon, ladies and gent...\n",
       "758      1  Good evening. I am here tonight to announce my...\n",
       "984      1  Thank you to our First Lady, Melania, who has ..."
      ]
     },
     "execution_count": 2,
     "metadata": {},
     "output_type": "execute_result"
    }
   ],
   "source": [
    "df_ = pd.read_csv('presidential_speeches.csv', sep=',', usecols=['Party', 'Transcript'], encoding='utf-8')\n",
    "\n",
    "df_dems = df_[df_['Party'] == 'Democratic']\n",
    "df_rebs = df_[df_['Party'] == 'Republican']\n",
    "df = pd.concat([df_dems, df_rebs])\n",
    "df['Party'] = df['Party'].apply(lambda x: 1 if x == 'Republican' else 0)\n",
    "df.sample(10)"
   ]
  },
  {
   "cell_type": "code",
   "execution_count": 3,
   "metadata": {},
   "outputs": [
    {
     "data": {
      "text/plain": [
       "Party         0\n",
       "Transcript    0\n",
       "dtype: int64"
      ]
     },
     "execution_count": 3,
     "metadata": {},
     "output_type": "execute_result"
    }
   ],
   "source": [
    "df.isnull().sum()"
   ]
  },
  {
   "cell_type": "code",
   "execution_count": 3,
   "metadata": {},
   "outputs": [],
   "source": [
    "X = df['Transcript'].values\n",
    "y = df['Party'].values\n",
    "\n",
    "X_train, X_test, y_train, y_test = train_test_split(X, y, test_size=.2, random_state=42)"
   ]
  },
  {
   "cell_type": "code",
   "execution_count": 4,
   "metadata": {},
   "outputs": [
    {
     "data": {
      "text/plain": [
       "((702,), (176,), (702,), (176,))"
      ]
     },
     "execution_count": 4,
     "metadata": {},
     "output_type": "execute_result"
    }
   ],
   "source": [
    "X_train.shape, X_test.shape, y_train.shape, y_test.shape"
   ]
  },
  {
   "cell_type": "code",
   "execution_count": 14,
   "metadata": {},
   "outputs": [
    {
     "name": "stdout",
     "output_type": "stream",
     "text": [
      "President Anderson, members of the faculty, board of trustees, distinguished guests, my old colleague, Senator Bob Byrd, who has earned his degree through many years of attending night law school while I am earning mine in the next 30 minutes, ladies and gentlemen: It is with great pride that I participate in this ceremony of the American University, sponsored by the Methodist Church, founded by Bishop John Fletcher Hurst, and first opened by President Woodrow Wilson in 1914. This is a young and growing university, but it has already fulfilled Bishop Hurst's enlightened hope for the study of history and public affairs in a city devoted to the making of history and to the conduct of the public's business. By sponsoring this institution of higher learning for all who wish to learn, whatever their color or their creed, the Methodists of this area and the Nation deserve the Nation's thanks, and I commend all those who are today graduating. Professor Woodrow Wilson once said that every man sent out from a university should be a man of his nation as well as a man of his time, and I am confident that the men and women who carry the honor of graduating from this institution will continue to give from their lives, from their talents, a high measure of public service and public support. “There are few earthly things more beautiful than a university,” wrote John Masefield, in his tribute to English universities, and his words are equally true today. He did not refer to spires and towers, to campus greens and ivied walls. He admired the splendid beauty of the university, he said, because it was “a place where those who hate ignorance may strive to know, where those who perceive truth may strive to make others see.” I have, therefore, chosen this time and this place to discuss a topic on which ignorance too often abounds and the truth is too rarely perceived, yet it is the most important topic on earth: world peace. What kind of peace do I mean? What kind of peace do we seek? Not a Pax Americana enforced on the world by American weapons of war. Not the peace of the grave or the security of the slave. I am talking about genuine peace, the kind of peace that makes life on earth worth living, the kind that enables men and nations to grow and to hope and to build a better life for their children, not merely peace for Americans but peace for all men and women, not merely peace in our time but peace for all time. I speak of peace because of the new face of war. Total war makes no sense in an age when great powers can maintain large and relatively invulnerable nuclear forces and refuse to surrender without resort to those forces. It makes no sense in an age when a single nuclear weapon contains almost ten times the explosive force delivered by all of the allied air forces in the Second World War. It makes no sense in an age when the deadly poisons produced by a nuclear exchange would be carried by wind and water and soil and seed to the far corners of the globe and to generations yet unborn. Today the expenditure of billions of dollars every year on weapons acquired for the purpose of making sure we never need to use them is essential to keeping the peace. But surely the acquisition of such idle stockpiles, which can only destroy and never create, is not the only, much less the most efficient, means of assuring peace. I speak of peace, therefore, as the necessary rational end of rational men. I realize that the pursuit of peace is not as dramatic as the pursuit of war, and frequently the words of the pursuer fall on deaf ears. But we have no more urgent task. Some say that it is useless to speak of world peace or world law or world disarmament, and that it will be useless until the leaders of the Soviet Union adopt a more enlightened attitude. I hope they do. I believe we can help them do it. But I also believe that we must reexamine our own attitude, as individuals and as a Nation, for our attitude is as essential as theirs. And every graduate of this school, every thoughtful citizen who despairs of war and wishes to bring peace, should begin by looking inward, by examining his own attitude toward the possibilities of peace, toward the Soviet Union, toward the course of the cold war and toward freedom and peace here at home. First: Let us examine our attitude toward peace itself. Too many of us think it is impossible. Too many think it unreal. But that is a dangerous, defeatist belief. It leads to the conclusion that war is inevitable, that mankind is doomed, that we are gripped by forces we can not control. We need not accept that view. Our problems are manmade, therefore, they can be solved by man. And man can be as big as he wants. No problem of human destiny is beyond human beings. Man's reason and spirit have often solved the seemingly unsolvable, and we believe they can do it again. I am not referring to the absolute, infinite concept of universal peace and good will of which some fantasies and fanatics dream. I do not deny the value of hopes and dreams but we merely invite discouragement and incredulity by making that our only and immediate goal. Let us focus instead on a more practical, more attainable peace, based not on a sudden revolution in human nature but on a gradual evolution in human institutions, on a series of concrete actions and effective agreements which are in the interest of all concerned. There is no single, simple key to this peace, no grand or magic formula to be adopted by one or two powers. Genuine peace must be the product of many nations, the sum of many acts. It must be dynamic, not static, changing to meet the challenge of each new generation. For peace is a process, a way of solving problems. With such a peace, there will still be quarrels and conflicting interests, as there are within families and nations. World peace, like community peace, does not require that each man love his neighbor, it requires only that they live together in mutual tolerance, submitting their disputes to a just and peaceful settlement. And history teaches us that enmities between nations, as between individuals, do not last forever. However fixed our likes and dislikes may seem, the tide of time and events will often bring surprising changes in the relations between nations and neighbors. So let us persevere. Peace need not be impracticable, and war need not be inevitable. By defining our goal more clearly, by making it seem more manageable and less remote, we can help all peoples to see it, to draw hope from it, and to move irresistibly toward it. Second: Let us reexamine our attitude toward the Soviet Union. It is discouraging to think that their leaders may actually believe what their propagandists write. It is discouraging to read a recent authoritative Soviet text on Military Strategy and find, on page after page, wholly baseless and incredible claims, such as the allegation that “American imperialist circles are preparing to unleash different types of wars.. that there is a very real threat of a preventive war being unleashed by American imperialists against the Soviet Union.. [ and that ] the political aims of the American imperialists are to enslave economically and politically the European and other capitalist countries.. [ and ] to achieve world domination.. by means of aggressive wars.” Truly, as it was written long ago: “The wicked flee when no man pursueth.” Yet it is sad to read these Soviet statements, to realize the extent of the gulf between us. But it is also a warning, a warning to the American people not to fall into the same trap as the Soviets, not to see only a distorted and desperate view of the other side, not to see conflict as inevitable, accommodation as impossible, and communication as nothing more than an exchange of threats. No government or social system is so evil that its people must be considered as lacking in virtue. As Americans, we find communism profoundly repugnant as a negation of personal freedom and dignity. But we can still hail the Russian people for their many achievements, in science and space, in economic and industrial growth, in culture and in acts of courage. Among the many traits the peoples of our two countries have in common, none is stronger than our mutual abhorrence of war. Almost unique, among the major world powers, we have never been at war with each other. And no nation in the history of battle ever suffered more than the Soviet Union suffered in the course of the Second World War. At least 20 million lost their lives. Countless millions of homes and farms were burned or sacked. A third of the nation's territory, including nearly two thirds of its industrial base, was turned into a wasteland, a loss equivalent to the devastation of this country east of Chicago. Today, should total war ever break out again, no matter how, our two countries would become the primary targets. It is an ironic but accurate fact that the two strongest powers are the two in the most danger of devastation. All we have built, all we have worked for, would be destroyed in the first 24 hours. And even in the cold war, which brings burdens and dangers to so many countries, including this Nation's closest allies, our two countries bear the heaviest burdens. For we are both devoting massive sums of money to weapons that could be better devoted to combating ignorance, poverty, and disease. We are both caught up in a vicious and dangerous cycle in which suspicion on one side breeds suspicion on the other, and new weapons beget counter weapons. In short, both the United States and its allies, and the Soviet Union and its allies, have a mutually deep interest in a just and genuine peace and in halting the arms race. Agreements to this end are in the interests of the Soviet Union as well as ours, and even the most hostile nations can be relied upon to accept and keep those treaty obligations, and only those treaty obligations, which are in their own interest. So, let us not be blind to our differences, but let us also direct attention to our common interests and to the means by which those differences can be resolved. And if we can not end now our differences, at least we can help make the world safe for diversity. For, in the final analysis, our most basic common link is that we all inhabit this small planet. We all breathe the same air. We all cherish our children's future. And we are all mortal. Third: Let us reexamine our attitude toward the cold war, remembering that we are not engaged in a debate, seeking to pile up debating points. We are not here distributing blame or pointing the finger of judgment. We must deal with the world as it is, and not as it might have been had the history of the last 18 years been different. We must, therefore, persevere in the search for peace in the hope that constructive changes within the Communist bloc might bring within reach solutions which now seem beyond us. We must conduct our affairs in such a way that it becomes in the Communists ' interest to agree on a genuine peace. Above all, while defending our own vital interests, nuclear powers must avert those confrontations which bring an adversary to a choice of either a humiliating retreat or a nuclear war. To adopt that kind of course in the nuclear age would be evidence only of the bankruptcy of our policy, or of a collective death-wish for the world. To secure these ends, America's weapons are nonprovocative, carefully controlled, designed to deter, and capable of selective use. Our military forces are committed to peace and disciplined in self restraint. Our diplomats are instructed to avoid unnecessary irritants and purely rhetorical hostility. For we can seek a relaxation of tensions without relaxing our guard. And, for our part, we do not need to use threats to prove that we are resolute. We do not need to jam foreign broadcasts out of fear our faith will be eroded. We are unwilling to impose our system on any unwilling people, but we are willing and able to engage in peaceful competition with any people on earth. Meanwhile, we seek to strengthen the United Nations, to help solve its financial problems, to make it a more effective instrument for peace, to develop it into a genuine world security system, a system capable of resolving disputes on the basis of law, of insuring the security of the large and the small, and of creating conditions under which arms can finally be abolished. At the same time we seek to keep peace inside the non Communist world, where many nations, all of them our friends, are divided over issues which weaken Western unity, which invite Communist intervention or which threaten to erupt into war. Our efforts in West New Guinea, in the Congo, in the Middle East, and in the Indian subcontinent, have been persistent and patient despite criticism from both sides. We have also tried to set an example for others, by seeking to adjust small but significant differences with our own closest neighbors in Mexico and in Canada. Speaking of other nations, I wish to make one point clear. We are bound to many nations by alliances. Those alliances exist because our concern and theirs substantially overlap. Our commitment to defend Western Europe and West Berlin, for example, stands undiminished because of the identity of our vital interests. The United States will make no deal with the Soviet Union at the expense of other nations and other peoples, not merely because they are our partners, but also because their interests and ours converge. Our interests converge, however, not only in defending the frontiers of freedom, but in pursuing the paths of peace. It is our hope, and the purpose of allied policies, to convince the Soviet Union that she, too, should let each nation choose its own future, so long as that choice does not interfere with the choices of others. The Communist drive to impose their political and economic system on others is the primary cause of world tension today. For there can be no doubt that, if all nations could refrain from interfering in the self determination of others, the peace would be much more assured. This will require a new effort to achieve world law, a new context for world discussions. It will require increased understanding between the Soviets and ourselves. And increased understanding will require increased contact and communication. One step in this direction is the proposed arrangement for a direct line between Moscow and Washington, to avoid on each side the dangerous delays, misunderstandings, and misreadings of the other's actions which might occur at a time of crisis. We have also been talking in Geneva about other first step measures of arms control, designed to limit the intensity of the arms race and to reduce the risks of accidental war. Our primary long range interest in Geneva, however, is general and complete disarmament, designed to take place by stages, permitting parallel political developments to build the new institutions of peace which would take the place of arms. The pursuit of disarmament has been an effort of this Government since the 1920 's. It has been urgently sought by the past three ado ministrations. And however dim the prospects may be today, we intend to continue this effort, to continue it in order that all countries, including our own, can better grasp what the problems and possibilities of disarmament are. The one major area of these negotiations where the end is in sight, yet where a fresh start is badly needed, is in a treaty to outlaw nuclear tests. The conclusion of such a treaty, so near and yet so far, would check the spiraling arms race in one of its most dangerous areas. It would place the nuclear powers in a position to deal more effectively with one of the greatest hazards which man faces in 1963, the further spread of nuclear arms. It would increase our security, it would decrease the prospects of war. Surely this goal is sufficiently important to require our steady pursuit, yielding neither to the temptation to give up the whole effort nor the temptation to give up our insistence on vital and responsible safeguards. I am taking this opportunity, therefore, to announce two important decisions in this regard. First: Chairman Khrushchev, Prime Minister Macmillan, and I have agreed that highlevel discussions will shortly begin in Moscow looking toward early agreement on a comprehensive test ban treaty. Our hopes must be tempered with the caution of history, but with our hopes go the hopes of all mankind. Second: To make clear our good faith and solemn convictions on the matter, I now declare that the United States does not propose to conduct nuclear tests in the atmosphere so long as other states do not do so. We will not be the first to resume. Such a declaration is no substitute for a formal binding treaty, but I hope it will help us achieve one. Nor would such a treaty be a substitute for disarmament, but I hope it will help us achieve it. Finally, my fellow Americans, let us examine our attitude toward peace and freedom here at home. The quality and spirit of our own society must justify and support our efforts abroad. We must show it in the dedication of our own lives, as many of you who are graduating today will have a unique opportunity to do, by serving without pay in the Peace Corps abroad or in the proposed National Service Corps here at home. But wherever we are, we must all, in our daily lives, live up to the age-old faith that peace and freedom walk together. In too many of our cities today, the peace is not secure because freedom is incomplete. It is the responsibility of the executive branch at all levels of government, local, State, and National, to provide and protect that freedom for all of our citizens by all means within their authority. It is the responsibility of the legislative branch at all levels, wherever that authority is not now adequate, to make it adequate. And it is the responsibility of all citizens in all sections of this country to respect the rights of all others and to respect the law of the land. All this is not unrelated to world peace. “When a man's ways please the Lord,” the Scriptures tell us, “he maketh even his enemies to be at peace with him.” And is not peace, in the last analysis, basically a matter of human rights, the right to live out our lives without fear of devastation, the right to breathe air as nature provided it the right of future generations to a healthy existence? While we proceed to safeguard our national interests, let us also safeguard human interests. And the elimination of war and arms is clearly in the interest of both. No treaty, however much it may be to the advantage of all, however tightly it may be worded, can provide absolute security against the risks of deception and evasion. But it can, if it is sufficiently effective in its enforcement and if it is sufficiently in the interests of its signers, offer far more security and far fewer risks than an unabated, uncontrolled, unpredictable arms race. The United States, as the world knows, will never start a war. We do not want a war. We do not now expect a war. This generation of Americans has already had enough, more than enough, of war and hate and oppression. We shall be prepared if others wish it. We shall be alert to try to stop it. But we shall also do our part to build a world of peace where the weak are safe and the strong are just. We are not helpless before that task or hopeless of its success. Confident and unafraid, we labor on, not toward a strategy of annihilation but toward a strategy of peace\n"
     ]
    }
   ],
   "source": [
    "print(X_train[0])"
   ]
  },
  {
   "cell_type": "code",
   "execution_count": 16,
   "metadata": {},
   "outputs": [
    {
     "data": {
      "text/plain": [
       "((702,), (176,), (702,), (176,))"
      ]
     },
     "execution_count": 16,
     "metadata": {},
     "output_type": "execute_result"
    }
   ],
   "source": [
    "X_train.shape, X_test.shape, y_train.shape, y_test.shape"
   ]
  },
  {
   "cell_type": "code",
   "execution_count": 19,
   "metadata": {},
   "outputs": [
    {
     "name": "stdout",
     "output_type": "stream",
     "text": [
      "Fellow Citizens of the Senate and House of Representatives: The members of the Forty-sixth Congress have assembled in their first regular session under circumstances calling for mutual congratulation and grateful acknowledgment to the Giver of All Good for the large and unusual measure of national prosperity which we now enjoy. The most interesting events which have occurred in our public affairs since my last annual message to Congress are connected with the financial operations of the Government, directly affecting the business interests of the country. I congratulate Congress on the successful execution of the resumption act. At the time fixed, and in the manner contemplated by law, United States notes began to be redeemed in coin. Since the 1st of January last they have been promptly redeemed on presentation, and in all business transactions, public and private, in all parts of the country, they are received and paid out as the equivalent of coin. The demand upon the Treasury for gold and silver in exchange for United States notes has been comparatively small, and the voluntary deposit of coin and bullion in exchange for notes has been very large. The excess of the precious metals deposited or exchanged for United States notes over the amount of United States notes redeemed is about $ 40,000,000. The resumption of specie payments has been followed by a very great revival of business. With a currency equivalent in value to the money of the commercial world, we are enabled to enter upon an equal competition with other nations in trade and production. The increasing foreign demand for our manufactures and agricultural products has caused a large balance of trade in our favor, which has been paid in gold, from the 1st of July last to November 15, to the amount of about $ 59,000,000. Since the resumption of specie payments there has also been a marked and gratifying improvement of the public credit. The bonds of the Government bearing only 4 per cent interest have been sold at or above par, sufficient in amount to pay off all of the national debt which was redeemable under present laws. The amount of interest saved annually by the process of refunding the debt since March 1, 1877, is $ 14,297,177. The bonds sold were largely in small sums, and the number of our citizens now holding the public securities is much greater than ever before. The amount of the national debt which matures within less than two years is $ 792,121,700, of which $ 500,000,000 bear interest at the rate of 5 per cent, and the balance is in bonds bearing 6 per cent interest. It is believed that this part of the public debt can be refunded by the issue of 4 per cent bonds, and, by the reduction of interest which will thus be effected, about $ 11,000,000 can be annually saved to the Treasury. To secure this important reduction of interest to be paid by the United States further legislation is required, which it is hoped will be provided by Congress during its present session. The coinage of gold by the mints of the United States during the last fiscal year was $ 40,986,912. The coinage of silver dollars since the passage of the act for that purpose up to November 1, 1879, was $ 45,000,850, of which $ 12,700,344 have been issued from the Treasury and are now in circulation, and $ 32,300,506 are still in the possession of the Government. The pendency of the proposition for unity of action between the United States and the principal commercial nations of Europe to effect a permanent system for the equality of gold and silver in the recognized money of the world leads me to recommend that Congress refrain from new legislation on the general subject. The great revival of trade, internal and foreign, will supply during the coming year its own instructions, which may well be awaited before attempting further experimental measures with the coinage. I would, however, strongly urge upon Congress the importance of authorizing the Secretary of the Treasury to suspend the coinage of silver dollars upon the present legal ratio. The market value of the silver dollar being uniformly and largely less than the market value of the gold dollar, it is obviously impracticable to maintain them at par with each other if both are coined without limit. If the cheaper coin is forced into circulation, it will, if coined without limit, soon become the sole standard of value, and thus defeat the desired object, which is a currency of both gold and silver which shall be of equivalent value, dollar for dollar, with the universally recognized money of the world. The retirement from circulation of United States notes with the capacity of legal tender in private contracts is a step to be taken in our progress toward a safe and stable currency which should be accepted as the policy and duty of the Government and the interest and security of the people. It is my firm conviction that the issue of legal-tender paper money based wholly upon the authority and credit of the Government, except in extreme emergency, is without warrant in the Constitution and a violation of sound financial principles. The issue of United States notes during the late civil war with the capacity of legal tender between private individuals was not authorized except as a means of rescuing the country from imminent peril. The circulation of these notes as paper money for any protracted period of time after the accomplishment of this purpose was not contemplated by the framers of the law under which they were issued. They anticipated the redemption and withdrawal of these notes at the earliest practicable period consistent with the attainment of the object for which they were provided. The policy of the United States, steadily adhered to from the adoption of the Constitution, has been to avoid the creation of a national debt; and when, from necessity in time of war, debts have been created, they have been paid off, on the return of peace, as rapidly as possible. With this view, and for this purpose, it is recommended that the existing laws for the accumulation of a sinking fund sufficient to extinguish the public debt within a limited period be maintained. If any change of the objects or rates of taxation is deemed necessary by Congress, it is suggested that experience has shown that a duty can be placed on tea and coffee which will not enhance the price of those articles to the consumer, and which will add several millions of dollars annually to the Treasury. The continued deliberate violation by a large number of the prominent and influential citizens of the Territory of Utah of the laws of the United States for the prosecution and punishment of polygamy demands the attention of every department of the Government. This Territory has a population sufficient to entitle it to admission as a State, and the general interests of the nation, as well as the welfare of the citizens of the Territory, require its advance from the Territorial form of government to the responsibilities and privileges of a State. This important change will not, however, be approved by the country while the citizens of Utah in very considerable number uphold a practice which is condemned as a crime by the laws of all civilized communities throughout the world. The law for the suppression of this offense was enacted with great unanimity by Congress more than seventeen years ago, but has remained until recently a dead letter in the Territory of Utah, because of the peculiar difficulties attending its enforcement. The opinion widely prevailed among the citizens of Utah that the law was in contravention of the constitutional guaranty of religious freedom. This objection is now removed. The Supreme Court of the United States has decided the law to be within the legislative power of Congress and binding as a rule of action for all who reside within the Territories. There is no longer any reason for delay or hesitation in its enforcement. It should be firmly and effectively executed. If not sufficiently stringent in its provisions, it should be amended; and in aid of the purpose in view I recommend that more comprehensive and more searching methods for preventing as well as punishing this crime be provided. If necessary to secure obedience to the law, the enjoyment and exercise of the rights and privileges of citizenship in the Territories of the United States may be withheld or withdrawn from those who violate or oppose the enforcement of the law on this subject. The elections of the past year, though occupied only with State officers, have not failed to elicit in the political discussions which attended them all over the country new and decisive evidence of the deep interest which the great body of citizens take in the progress of the country toward a more general and complete establishment, at whatever cost, of universal security and freedom in the exercise of the elective franchise. While many topics of political concern demand great attention from our people, both in the sphere of national and State authority, I find no reason to qualify the opinion I expressed in my last annual message, that no temporary or administrative interests of government, however urgent or weighty, will ever displace the zeal of our people in defense of the primary rights of citizenship, and that the power of public opinion will override all political prejudices, and all sectional and State attachments in demanding that all over our wide territory the name and character of citizen of the United States shall mean one and the same thing and carry with them unchallenged security and respect. I earnestly appeal to the intelligence and patriotism of all good citizens of every part of the country, however much they maybe divided in opinions on other political subjects, to unite in compelling obedience to existing laws aimed at the protection of the right of suffrage. I respectfully urge upon Congress to supply any defects in these laws which experience has shown and which it is within its power to remedy. I again invoke the cooperation of the executive and legislative authorities of the States in this great purpose. I am fully convinced that if the public mind can be set at rest on this paramount question of popular rights no serious obstacle will thwart or delay the complete pacification of the country or retard the general diffusion of prosperity. In a former message I invited the attention of Congress to the subject of the reformation of the civil service of the Government, and expressed the intention of transmitting to Congress as early as practicable a report upon this subject by the chairman of the Civil Service Commission. In view of the facts that during a considerable period the Government of Great Britain has been dealing with administrative problems and abuses in various particulars analogous to those presented in this country, and that in recent years the measures adopted were understood to have been effective and in every respect highly satisfactory, I thought it desirable to have fuller information upon the subject, and accordingly requested the chairman of the Civil Service Commission to make a thorough investigation for this purpose. The result has been an elaborate and comprehensive report. The report sets forth the history of the partisan spoils system in Great Britain, and of the rise and fall of the parliamentary patronage, and of official interference with the freedom of elections. It shows that after long trials of various kinds of examinations those which are competitive and open on equal terms to all, and which are carried on under the superintendence of a single commission, have, with great advantage, been established as conditions of admission to almost every official place in the subordinate administration of that country and of British India. The completion of the report, owing to the extent of the labor involved in its preparation and the omission of Congress to make any provision either for the compensation or the expenses of the Commission, has been postponed until the present time. It is herewith transmitted to Congress. While the reform measures of another government are of no authority for us, they are entitled to influence to the extent to which their intrinsic wisdom and their adaptation to our institutions and social life may commend them to our consideration. The views I have heretofore expressed concerning the defects and abuses in our civil administration remain unchanged, except in so far as an enlarged experience has deepened my sense of the duty both of officers and of the people themselves to cooperate for their removal. The grave evils and perils of a partisan spoils system of appointment to office and of office tenure are now generally recognized. In the resolutions of the great parties, in the reports of Departments, in the debates and proceedings of Congress, in the messages of Executives, the gravity of these evils has been pointed out and the need of their reform has been admitted. To command the necessary support, every measure of reform must be based on common right and justice, and must be compatible with the healthy existence of great parties, which are inevitable and essential in a free state. When the people have approved a policy at a national election, confidence on the part of the officers they have selected and of the advisers who, in accordance with our political institutions, should be consulted in the policy which it is their duty to carry into effect is indispensable. It is eminently proper that they should explain it before the people, as well as illustrate its spirit in the performance of their official duties. Very different considerations apply to the greater number of those who fill the subordinate places in the civil service. Their responsibility is to their superiors in official position. It is their duty to obey the legal instructions of those upon whom that authority is devolved, and their best public service consists in the discharge of their functions irrespective of partisan politics. Their duties are the same whatever party is in power and whatever policy prevails. As a consequence it follows that their tenure of office should not depend on the prevalence of any policy or the supremacy of any party, but should be determined by their capacity to serve the people most usefully quite irrespective of partisan interests. The same considerations that should govern the tenure should also prevail in the appointment, discipline, and removal of these subordinates. The authority of appointment and removal is not a perquisite, which may be used to aid a friend or reward a partisan, but is a trust, to be exercised in the public interest under all the sanctions which attend the obligation to apply the public funds only for public purposes. Every citizen has an equal right to the honor and profit of entering the public service of his country. The only just ground of discrimination is the measure of character and capacity he has to make that service most useful to the people. Except in cases where, upon just and recognized principles as upon the theory of pensions -offices and promotions are bestowed as rewards for past services, their bestowal upon any theory which disregards personal merit is an act of injustice to the citizen, as well as a breach of that trust subject to which the appointing power is held. In the light of these principles it becomes of great importance to provide just and adequate means, especially for every Department and large administrative office, where personal discrimination on the part of its head is not practicable, for ascertaining those qualifications to which appointments and removals should have reference. To fail to provide such means is not only to deny the opportunity of ascertaining the facts upon which the most righteous claim to office depends, but of necessity to discourage all worthy aspirants by handing over appointments and removals to mere influence and favoritism. If it is the right of the worthiest claimant to gain the appointment and the interest of the people to bestow it upon him, it would seem clear that a wise and just method of ascertaining personal fitness for office must be an important and permanent function of every just and wise government. It has long since become impossible in the great offices for those having the duty of nomination and appointment to personally examine into the individual qualifications of more than a small proportion of those seeking office, and with the enlargement of the civil service that proportion must continue to become less. In the earlier years of the Government the subordinate offices were so few in number that it was quite easy for those making appointments and promotions to personally ascertain the merits of candidates. Party managers and methods had not then become powerful agencies of coercion, hostile to the free and just exercise of the appointing power. A large and responsible part of the duty of restoring the civil service to the desired purity and efficiency rests upon the President, and it is my purpose to do what is within my power to advance such prudent and gradual measures of reform as will most surely and rapidly bring about that radical change of system essential to make our administrative methods satisfactory to a free and intelligent people. By a proper exercise of authority it is in the power of the Executive to do much to promote such a reform. But it can not be too clearly understood that nothing adequate can be accomplished without cooperation on the part of Congress and considerate and intelligent support among the people. Reforms which challenge the generally accepted theories of parties and demand changes in the methods of Departments are not the work of a day. Their permanent foundations must be laid in sound principles and in an experience which demonstrates their wisdom and exposes the errors of their adversaries. Every worthy officer desires to make his official action a gain and an honor to his country; but the people themselves, far more than their officers in public station, are interested in a pure, economical, and vigorous administration. By laws enacted in 1853 and 1855, and now in substance incorporated in the Revised Statutes, the practice of arbitrary appointments to the several subordinate grades in the great Departments was condemned, and examinations as to capacity, to be conducted by departmental boards of examiners, were provided for and made conditions of admission to the public service. These statutes are a decision by Congress that examinations of some sort as to attainments and capacity are essential to the well being of the public service. The important questions since the enactment of these laws have been as to the character of these examinations, and whether official favor and partisan influence or common right and merit were to control the access to the examinations. In practice these examinations have not always been open to worthy persons generally who might wish to be examined. Official favoritism and partisan influence, as a rule, appear to have designated those who alone were permitted to go before the examining boards, subjecting even the examiners to a pressure from the friends of the candidates very difficult to resist. As a consequence the standard of admission fell below that which the public interest demanded. It was also almost inevitable that a system which provided for various separate boards of examiners, with no common supervision or uniform method of procedure, should result in confusion, inconsistency, and inadequate tests of capacity, highly detrimental to the public interest. A further and more radical change was obviously required. In the annual message of December, 1870, my predecessor declared that There is no duty which so much embarrasses the Executive and heads of Departments as that of appointments, nor is there any such arduous and thankless labor imposed on Senators and Representatives as that of finding places for constituents. The present system does not secure the best men, and often not even fit men, for public place. The elevation and purification of the civil service of the Government will be hailed with approval by the whole people of the United States. Congress accordingly passed the act approved March 3, 1871, “to regulate the civil service of the United States and promote the efficiency thereof,” giving the necessary authority to the Executive to inaugurate a proportion reform. Acting under this statute, which was interpreted as intended to secure a system of just and effectual examinations under uniform supervision, a number of eminently competent persons were selected for the purpose, who entered with zeal upon the discharge of their duties, prepared with an intelligent appreciation of the requirements of the service the regulations contemplated, and took charge of the examinations, and who in their capacity as a board have been known as the “Civil Service Commission.” Congress for two years appropriated the money needed for the compensation and for the expense of carrying on the work of the Commission. It appears from the report of the Commission submitted to the President in April, 1874, that examinations had been held in various sections of the country, and that an appropriation of about $ 25,000 would be required to meet the annual expenses, including salaries, involved in discharging the duties of the Commission. The report was transmitted to Congress by special message of April 18, 1874, with the following favorable comment upon the labors of the Commission: If sustained by Congress, I have no doubt the rules can, after the experience gained, be so improved and enforced as to still more materially benefit the public service and relieve the Executive, members of Congress, and the heads of Departments from influences prejudicial to good administration. The rules, as they have hitherto been enforced, have resulted beneficially, as is shown by the opinions of the members of the Cabinet and their subordinates in the Departments, and in that opinion I concur. And in the annual message of December of the same year similar views are expressed and an appropriation for continuing the work of the Commission again advised. The appropriation was not made, and as a consequence the active work of the Commission was suspended, leaving the Commission itself still in existence. Without the means, therefore, of causing qualifications to be tested in any systematic manner or of securing for the public service the advantages of competition upon any extensive plan, I recommended in my annual message of December, 1877, the making of an appropriation for the resumption of the work of the Commission. In the meantime, however, competitive examinations, under many embarrassments, have been conducted within limited spheres in the Executive Departments in Washington and in a number of the custom houses and post-offices of the principal cities of the country, with a view to further test their effects, and in every instance they have been found to be as salutary as they are stated to have been under the Administration of my predecessor. I think the economy, purity, and efficiency of the public service would be greatly promoted by their systematic introduction, wherever practicable, throughout the entire civil service of the Government, together with ample provision for their general supervision in order to secure consistency and uniform justice. Reports from the Secretary of the Interior, from the Postmaster-General, from the postmaster in the city of New York, where such examinations have been some time on trial, and also from the collector of the port, the naval officer, and the surveyor in that city, and from the postmasters and collectors in several of the other large cities, show that the competitive system, where applied, has in various ways contributed to improve the public service. The reports show that the results have been salutary in a marked degree, and that the general application of similar rules can not fail to be of decided benefit to the service. The reports of the Government officers, in the city of New York especially, bear decided testimony to the utility of open competitive examinations in their respective offices, showing that These examinations and the excellent qualifications of those admitted to the service through them have had a marked incidental effect upon the persons previously in the service, and particularly upon those aspiring to promotion. There has been on the part of these latter an increased interest in the work and a desire to extend acquaintance with it beyond the particular desk occupied, and thus the morale of the entire force has been raised. The examinations have been attended by many citizens, who have had an opportunity to thoroughly investigate the scope and character of the tests and the method of determining the results, and those visitors have without exception approved the methods employed, and several of them have publicly attested their favorable opinion. Upon such considerations I deem it my duty to renew the recommendation contained in my annual message of December, 1877, requesting Congress to make the necessary appropriation for the resumption of the work of the Civil Service Commission. Economy will be promoted by authorizing a moderate compensation to persons in the public service who may perform extra labor upon or under the Commission, as the Executive may direct. I am convinced that if a just and adequate test of merit is enforced for admission to the public service and in making promotions such abuses as removals without good cause and partisan and official interference with the proper exercise of the appointing power will in large measure disappear. There are other administrative abuses to which the attention of Congress should be asked in this connection. Mere partisan appointments and the constant peril of removal without cause very naturally lead to an absorbing and mischievous political activity on the part of those thus appointed, which not only interferes with the due discharge of official duty, but is incompatible with the freedom of elections. Not without warrant in the views of several of my predecessors in the Presidential office, and directly within the law of 1871, already cited, I endeavored, by regulation made on the 22d day of June, 1877, to put some reasonable limits to such abuses. It may not be easy, and it may never perhaps be necessary, to define with precision the proper limit of political action on the part of Federal officers. But while their right to hold and freely express their opinions can not be questioned, it is very plain that they should neither be allowed to devote to other subjects the time needed for the proper discharge of their official duties nor to use the authority of their office to enforce their own opinions or to coerce the political action of those who hold different opinions. Reasons of justice and public policy quite analogous to those which forbid the use of official power for the oppression of the private citizen impose upon the Government the duty of protecting its officers and agents from arbitrary exactions. In whatever aspect considered, the practice of making levies for party purposes upon the salaries of officers is highly demoralizing to the public service and discreditable to the country. Though an officer should be as free as any other citizen to give his own money in aid of his opinions or his party, he should also be as free as any other citizen to refuse to make such gifts. If salaries are but a fair compensation for the time and labor of the officer, it is gross injustice to levy a tax upon them. If they are made excessive in order that they may bear the tax, the excess is an indirect robbery of the public funds. I recommend, therefore, such a revision and extension of present statutes as shall secure to those in every grade of official life or public employment the protection with which a great and enlightened nation should guard those who are faithful in its service. Our relations with foreign countries have continued peaceful. With Great Britain there are still unsettled questions, growing out of the local laws of the maritime provinces and the action of provincial authorities deemed to be in derogation of rights secured by treaty to American fishermen. The United States minister in London has been instructed to present a demand for $ 105,305.02 in view of the damages received by American citizens at Fortune Bay on the 6th day of January, 1878. The subject has been taken into consideration by the British Government, and an early reply is anticipated. Upon the completion of the necessary preliminary examinations the subject of our participation in the provincial fisheries, as regulated by treaty, will at once be brought to the attention of the British Government, with a view to an early and permanent settlement of the whole question, which was only temporarily adjusted by the treaty of Washington. Efforts have been made to obtain the removal of restrictions found injurious to the exportation of cattle to the United Kingdom. Some correspondence has also occurred with regard to the rescue and saving of life and property upon the Lakes, which has resulted in important modifications of the previous regulations of the Dominion government on the subject in the interest of humanity and commerce. In accordance with the joint resolution of the last session of Congress, commissioners were appointed to represent the United States at the two international exhibitions in Australia, one of which is now in progress at Sydney, and the other to be held next year at Melbourne. A desire has been expressed by our merchants and manufacturers interested in the important and growing trade with Australia that an increased provision should be made by Congress for the representation of our industries at the Melbourne exhibition of next year, and the subject is respectfully submitted to your favorable consideration. The assent of the Government has been given to the landing on the coast of Massachusetts of a new and independent transatlantic cable between France, by way of the French island of St. Pierre, and this country, subject to any future legislation of Congress on the subject. The conditions imposed before allowing this connection with our shores to be established are such as to secure its competition with any existing or future lines of marine cable and preclude amalgamation therewith, to provide for entire equality of rights to our Government and people with those of France in the use of the cable, and prevent any exclusive possession of the privilege as accorded by France to the disadvantage of any future cable communication between France and the United States which may be projected and accomplished by our citizens. An important reduction of the present rates of cable communication with Europe, felt to be too burdensome to the interests of our commerce, must necessarily flow from the establishment of this competing line. The attention of Congress was drawn to the propriety of some general regulation by Congress of the whole subject of transmarine cables by my predecessor in his message of December 7, 1875, and I respectfully submit to your consideration the importance of Congressional action in the matter. The questions of grave importance with Spain growing out of the incidents of the Cuban insurrection have been for the most part happily and honorably settled. It may reasonably be anticipated that the commission now sitting in Washington for the decision of private cases in this connection will soon be able to bring its labors to a conclusion. The long standing question of East Florida claims has lately been renewed as a subject of correspondence, and may possibly require Congressional action for its final disposition. A treaty with the Netherlands with respect to consular rights and privileges similar to those with other powers has been signed and ratified, and the ratifications were exchanged on the 31st of July last. Negotiations for extradition treaties with the Netherlands and with Denmark are now in progress. Some questions with Switzerland in regard to pauper and convict emigrants have arisen, but it is not doubted that they will be arranged upon a just and satisfactory basis. A question has also occurred with respect to an asserted claim by Swiss municipal authorities to exercise tutelage over persons and property of Swiss citizens naturalized in this country. It is possible this may require adjustment by treaty. With the German Empire frequent questions arise in connection with the Subjects of naturalization and expatriation, but the Imperial Government has constantly manifested a desire to strictly maintain and comply with all treaty stipulations in regard to them. In consequence of the omission of Congress to provide for a diplomatic representative at Athens, the legation to Greece has been withdrawn. There is now no channel of diplomatic communication between the two countries, and the expediency of providing for one in some form is submitted to Congress. Relations with Austria, Russia, Italy, Portugal, Turkey, and Belgium continue amicable, and marked by no incident of especial importance. A change of the personal head of the Government of Egypt has taken place. No change, however, has occurred in the relations between Egypt and the United States. The action of the Egyptian Government in presenting to the city of New York one of the ancient obelisks, which possess such historic interest, is highly appreciated as a generous mark of international regard. If prosperity should attend the enterprise of its transportation across the Atlantic, its erection in a conspicuous position in the chief commercial city of the nation will soon be accomplished. The treaty recently made between Japan and the United States in regard to the revision of former commercial treaties it is now believed will be followed by similar action on the part of other treaty powers. The attention of Congress is again invited to the subject of the indemnity funds received some years since from Japan and China, which, with their accumulated interest, now amount to considerable sums. If any part of these funds is justly due to American citizens, they should receive it promptly; and whatever may have been received by this Government in excess of strictly just demands should in some form be returned to the nations to whom it equitably belongs. The Government of China has signified its willingness to consider the question of the emigration of its subjects to the United States with a dispassionate fairness and to cooperate in such measures as may tend to prevent injurious consequences to the United States. The negotiations are still proceeding, and will be pressed with diligence. A question having arisen between China and Japan about the Lew Chew Islands, the United States Government has taken measures to inform those powers of its readiness to extend its good offices for the maintenance of peace if they shall mutually deem it desirable and find it practicable to avail themselves of the proffer. It is a gratification to be able to announce that, through the judicious and energetic action of the military commanders of the two nations on each side of the Rio Grande, under the instructions of their respective Governments, raids and depredations have greatly decreased, and in the localities where formerly most destructive have now almost wholly ceased. In view of this result, I entertain a confident expectation that the prevalence of quiet on the border will soon become so assured as to justify a modification of the present orders to our military commanders as to crossing the border, without encouraging such disturbances as would endanger the peace of the two countries. The third installment of the award against Mexico under the claims commission of July 4, 1868, was duly paid, and has been put in course of distribution in pursuance of the act of Congress providing for the same. This satisfactory situation between the two countries leads me to anticipate an expansion of our trade with Mexico and an increased contribution of capital and industry by our people to the development of the great resources of that country. I earnestly commend to the wisdom of Congress the provision of suitable legislation looking to this result. Diplomatic intercourse with Colombia is again fully restored by the arrival of a minister from that country to the United States. This is especially fortunate in view of the fact that the question of an inter-oceanic canal has recently assumed a new and important aspect and is now under discussion with the Central American countries through whose territory the canal, by the Nicaragua route, would have to pass. It is trusted that enlightened statesmanship on their part will see that the early prosecution of such a work will largely inure to the benefit, not only of their own citizens and those of the United States, but of the commerce of the civilized world. It is not doubted that should the work be undertaken under the protective auspices of the United States, and upon satisfactory concessions for the right of way and its security by the Central American Governments, the capital for its completion would be readily furnished from this country and Europe, which might, failing such guaranties, prove inaccessible. Diplomatic relations with Chile have also been strengthened by the reception of a minister from that country. The war between Peru, Bolivia, and Chile still continues. The United States have not deemed it proper to interpose in the matter further than to convey to all the Governments concerned the assurance that the friendly offices of the Government of the United States for the restoration of peace upon an honorable basis will be extended in case the belligerents shall exhibit a readiness to accept them. Cordial relations continue with Brazil and the Argentine Republic, and trade with those countries is improving. A provision for regular and more frequent mail communication, in our own ships, between the ports of this country and the nations of South America seems to me to deserve the attention of Congress as an essential precursor of an enlargement of our commerce with them and an extension of our carrying trade. A recent revolution in Venezuela has been followed by the establishment of a provisional government. This government has not yet been formally recognized, and it is deemed desirable to await the proposed action of the people which is expected to give it the sanction of constitutional forms. A naval vessel has been sent to the Samoan Islands to make surveys and take possession of the privileges ceded to the United States by Samoa in the harbor of Pago-Pago. A coaling station is to be established there, which will be convenient and useful to United States vessels. The subject of opening diplomatic relations with Roumania and Servia, now become independent sovereignties, is at present under consideration, and is the subject of diplomatic correspondence. There is a gratifying increase of trade with nearly all European and American countries, and it is believed that with judicious action in regard to its development it can and will be still more enhanced and that American products and manufactures will find new and expanding markets. The reports of diplomatic and consular officers upon this subject, under the system now adopted, have resulted in obtaining much valuable information, which has been and will continue to be laid before Congress and the public from time to time. The third article of the treaty with Russia of March 30, 1867, by which Alaska was ceded to the United States, provides that the inhabitants of the ceded territory, with the exception of the uncivilized native tribes, shall be admitted to the enjoyment of all the rights of citizens of the United States and shall be maintained and protected in the free enjoyment of their liberty, property, and religion. The uncivilized tribes are subject to such laws and regulations as the United States may from time to time adopt in regard to the aboriginal tribes of that country. Both the obligations of this treaty and the necessities of the people require that some organized form of government over the Territory of Alaska be adopted. There appears to be no law for the arrest of persons charged with slaveholder offenses, such as assault, robbery, and murder, and no magistrate authorized to issue or execute process in such cases. Serious difficulties have already arisen from offenses of this character, not only among the original inhabitants, but among citizens of the United States and other countries who have engaged in mining, fishing, and other business operations within the territory. A bill authorizing the appointment of justices of the peace and constables and the arrest and detention of persons charged with criminal offenses, and providing for an appeal to United States courts for the district of Oregon in suitable cases, will at a proper time be submitted to Congress. The attention of Congress is called to the annual report of the Secretary of the Treasury on the condition of the public finances. The ordinary revenues from all sources for the fiscal year ended June 30, 1879, were $ 273,827,184.46; the ordinary expenditures for the same period were $ 266,947,883.53, leaving a surplus revenue for the year of $ 6,879,300.93. The receipts for the present fiscal year, ending June 30, 1880, actual and estimated, are as follows: Actual receipts for the first quarter, commencing July 1, 1879, $ 79,843,663.61; estimated receipts for the remaining three quarters of the year, $ 208,156,336.39; total receipts for the current fiscal year, actual and estimated, $ 288,000,000. The expenditures for the same period will be, actual and estimated, as follows: For the quarter commencing July 1, 1879, actual expenditures, $ 91,683,385.10; and for the remaining three quarters of the year the expenditures are estimated at $ 172,316,614.90, making the total expenditures $ 264,000,000, and leaving an estimated surplus revenue for the year ending June 30, 1880, of $ 24,000,000. The total receipts during the next fiscal year, ending June 30, 1881, estimated according to existing laws, will be $ 288,000,000, and the estimated ordinary expenditures for the same period will be $ 278,097,364.39, leaving a surplus of $ 9,902,635.61 for that year. The large amount expended for arrears of pensions during the last and the present fiscal year, amounting to $ 21,747,249.60, has prevented the application of the full amount required by law to the sinking fund for the current year; but these arrears having been substantially paid, it is believed that the sinking fund can hereafter be maintained without any change of existing law. The Secretary of War reports that the War Department estimates for the fiscal year ending June 30, 1881, are $ 40,380,428.93, the same being for a less sum of money than any annual estimate rendered to Congress from that Department during a period of at least twelve years. He concurs with the General of the Army in recommending such legislation as will authorize the enlistment of the full number of 25,000 men for the line of the Army, exclusive of the 3,463 men required for detached duty, and therefore not available for service in the field. He also recommends that Congress be asked to provide by law for the disposition of a large number of abandoned military posts and reservations, which, though very valuable in themselves, have been rendered useless for military purposes by the advance of civilization and settlement. He unites with the Quartermaster-General in recommending that an appropriation be made for the construction of a cheap and perfectly fireproof building for the safe storage of a vast amount of money accounts, vouchers, claims, and other valuable records now in the Quartermaster-General 's Office, and exposed to great risk of total destruction by fire. He also recommends, in conformity with the views of the Judge-Advocate-General, some declaratory legislation in reference to the military statute of limitations as applied to the crime of desertion. In these several recommendations I concur. The Secretary of War further reports that the work for the improvement of the South Pass of the Mississippi River, under contract with Mr. James B. Eads, made in pursuance of an act of Congress, has been prosecuted during the past year with a greater measure of success in the attainment of results than during any previous year. The channel through the South Pass, which at the beginning of operations in June, 1875, had a depth of only 7 1/2 feet of water, had on the 8th of July, 1879, a minimum depth of 26 feet, having a width of not less than 200 feet and a central depth of 30 feet. Payments have been made in accordance with the statute, as the work progressed, amounting in the aggregate to $ 4,250,000; and further payments will become due, as provided by the statute, in the event of success in maintaining the channel now secured. The reports of the General of the Army and of his subordinates present a full and detailed account of the military operations for the suppression of hostilities among the Indians of the Ute and Apache tribes, and praise is justly awarded to the officers and troops engaged for promptness, skill, and courage displayed. The past year has been one of almost unbroken peace and quiet on the Mexican frontier, and there is reason to believe that the efforts of this Government and of Mexico to maintain order in that region will prove permanently successful. This Department was enabled during the past year to find temporary, though crowded, accommodations and a safe depository for a portion of its records in the completed east wing of the building designed for the State, War, and Navy Departments. The construction of the north wing of the building, a part of the structure intended for the use of the War Department, is being carried forward with all possible dispatch, and the work should receive from Congress such liberal appropriations as will secure its speedy completion. The report of the Secretary of the Navy shows continued improvement in that branch of the service during the last fiscal year. Extensive repairs have been made upon vessels, and two new ships have been completed and made ready for sea. The total expenditures of the year ended June 30, 1879, including specific appropriations not estimated for by the Department, were $ 13,555,710.09. The expenses chargeable to the year, after deducting the amount of these specific appropriations, were $ 13,343,317.79; but this is subject to a reduction of $ 283,725.99, that amount having been drawn upon warrants, but not paid out during the year. The amount of appropriations applicable to the last fiscal year was $ 14,538,646.17. There was, therefore, a balance of $ 1,479,054.37 remaining unexpended and to the credit of the Department on June 30, 1879. The estimates for the fiscal year ending June 30, 1881, are $ 14,864,147.95, which exceeds the appropriations for the present fiscal year $ 361,897.28. The reason for this increase is explained in the Secretary's report. The appropriations available for the present fiscal year are $ 14,502,250.67, which will, in the opinion of the Secretary, answer all the ordinary demands of the service. The amount drawn from the Treasury from July 1 to November 1, 1879 was $ 5,770,404.12, of which $ 1,095,440.33 has been refunded, leaving as the expenditure for that period $ 4,674,963.79. If the expenditures of the remaining two-thirds of the year do not exceed the proportion for these four months, there will remain unexpended at the end of the year $ 477,359.30 of the current appropriations. The report of the Secretary shows the gratifying fact that among all the disbursing officers of the Pay Corps of the Navy there is not one who is a defaulter to the extent of a single dollar. I unite with him in recommending the removal of the observatory to a more healthful location. That institution reflects credit upon the nation, and has obtained the approbation of scientific men in all parts of the world. Its removal from its present location would not only be conducive to the health of its officers and professors, but would greatly increase its usefulness. The appropriation for judicial expenses, which has heretofore been made for the Department of Justice in gross, was subdivided at the last session of Congress, and no appropriation whatever was made for the payment of the fees of marshals and their deputies, either in the service of process or for the discharge of other duties; and since June 30 these officers have continued the performance of their duties without compensation from the Government, taking upon themselves the necessary incidental outlays, as well as rendering their own services. In only a few unavoidable instances has the proper execution of the process of the United States failed by reason of the absence of the requisite appropriation. This course of official conduct on the part of these officers, highly creditable to their fidelity, was advised by the Attorney-General, who informed them, however, that they would necessarily have to rely for their compensation upon the prospect of future legislation by Congress. I therefore especially recommend that immediate appropriation be made by Congress for this purpose. The act making the principal appropriation for the Department of Justice at previous sessions has uniformly contained the following clause: And for defraying the expenses which my be incurred in the enforcement of the act approved February 28, 1871, entitled “An act to amend an act approved May 31, 1870, entitled ' An act to enforce the rights of citizens of the United States to vote in the several States of this Union, and for other purposes, '” or any acts amendatory thereof or supplementary thereto. No appropriation was made for this purpose for the current year. As no general election for Members of Congress occurred, the omission was a matter of little practical importance. Such election will, however, take place during the ensuing year, and the appropriation made for the pay of marshals and deputies should be sufficient to embrace compensation for the services they may be required to perform at such elections. The business of the Supreme Court is at present largely in arrears. It can not be expected that more causes can be decided than are now disposed of in its annual session, or that by any assiduity the distinguished magistrates who compose the court can accomplish more than is now done. In the courts of many of the circuits also the business has increased to such an extent that the delay of justice will call the attention of Congress to an appropriate remedy. It is believed that all is done in each circuit which can fairly be expected from its judicial force. The evils arising from delay are less heavily felt by the United States than by private suitors, as its causes are advanced by the courts when it is seen that they involve the discussion of questions of a public character. The remedy suggested by the Attorney-General is the appointment of additional circuit judges and the creation of an intermediate court of errors and appeals, which shall relieve the Supreme Court of a part of its jurisdiction, while a larger force is also obtained for the performance of circuit duties. I commend this suggestion to the consideration of Congress. It would seem to afford a complete remedy, and would involve, if ten additional circuit judges are appointed, an expenditure, at the present rate of salaries, of not more than $ 60,000 a year, which would certainly be small in comparison with the objects to be attained. The report of the Postmaster-General bears testimony to the general revival of business throughout the country. The receipts of the Post-Office Department for the fiscal year ended June 30, 1879, were $ 30,041,982.86, being $ 764,465.91 more than the revenues of the preceding year. The amount realized from the sale of postage stamps, stamped envelopes, and postal cards was $ 764,465.91 more than in the preceding year, and $ 2,387,559.23 more than in 1877. The expenditures of the Department were $ 33,449,899.45, of which the sum of $ 376,461.63 was paid on liabilities incurred in preceding years. The expenditures during the year were $ 801,209.77 less than in the preceding year. This reduction is to be attributed mainly to the operation of the law passed June 17, 1878, changing the compensation of postmasters from a commission on the value of stamps sold to a commission on stamps canceled. The amount drawn from the Treasury on appropriations, in addition to the revenues of the Department, was $ 3,031,454.96, being $ 2,276,197.86 less than in the preceding year. The expenditures for the fiscal year ending June 30, 1881, are estimated at $ 39,920,900 and the receipts from all sources at $ 32,210,000, leaving a deficiency to be appropriated for out of the Treasury of $ 7,710,900. The relations of the Department with railroad companies have been harmonized, notwithstanding the general reduction by Congress of their compensation by the appropriation for special facilities, and the railway post-office lines have been greatly extended, especially in the Southern States. The interests of the Railway Mail Service and of the public would be greatly promoted and the expenditures could be more readily controlled by the classification of the employees of the Railway Mail Service as recommended by the Postmaster-General, the appropriation for salaries, with respect to which the maximum limit is already fixed by law, to be made in gross. The Postmaster-General recommends an amendment of the law regulating the increase of compensation for increased service and increased speed on star routes, so as to enable him to advertise for proposals for such increased service and speed. He also suggests the advantages to accrue to the commerce of the country from the enactment of a general law authorizing contracts with Assembly have steamers, carrying the American flag, for transporting the mail between ports of the United States and ports of the West Indies and South America, at a fixed maximum price per mile, the amount to be expended being regulated by annual appropriations, in like manner with the amount paid for the domestic star service. The arrangement made by the Postmaster-General and the Secretary of the Treasury for the collection of duty upon books received in the mail from foreign countries has proved so satisfactory in its practical operation that the recommendation is now made that Congress shall extend the provisions of the act of March 3, 1879, under which this arrangement was made, so as to apply to all other dutiable articles received in the mails from foreign countries. The reports of the Secretary of the Interior and of the Commissioner of Indian Affairs, setting forth the present state of our relations with the Indian tribes on our territory, the measures taken to advance their civilization and prosperity, and the progress already achieved by them, will be found of more than ordinary interest. The general conduct of our Indian population has been so satisfactory that the occurrence of two disturbances, which resulted in bloodshed and destruction of property, is all the more to be lamented. The history of the outbreak on the White River Ute Reservation, in western Colorado, has become so familiar by elaborate reports in the public press that its remarkable incidents need not be stated here in detail. It is expected that the settlement of this difficulty will lead to such arrangements as will prevent further hostile contact between the Indians and the border settlements in western Colorado. The other disturbance occurred at the Mescalero Agency, in New Mexico, where Victoria, at the head of a small band of marauders, after committing many atrocities, being vigorously chased by a military force, made his way across the Mexican border and is now on foreign soil. While these occurrences, in which a comparatively small number of Indians were engaged, are most deplorable, a vast majority of our Indian population have fully justified the expectations of those who believe that by humane and peaceful influences the Indian can be led to abandon the habits of savage life and to develop a capacity for useful and civilized occupations. What they have already accomplished in the pursuit of agricultural and mechanical work, the remarkable success which has attended the experiment of employing as freighters a class of Indians hitherto counted among the wildest and most intractable, and the general and urgent desire expressed by them for the education of their children may be taken as sufficient proof that they will be found capable of accomplishing much more if they continue to be wisely and fairly guided. The “Indian policy” sketched in the report of the Secretary of the Interior, the object of which is to make liberal provision for the education of Indian youth, to settle the Indians upon farm lots in severalty, to give them title in fee to their farms, inalienable for a certain number of years, and when their wants are thus provided for to dispose by sale of the lands on their reservations not occupied and used by them, a fund to be formed out of the proceeds for the benefit of the Indians, which will gradually relieve the Government of the expenses now provided for by annual appropriations, must commend itself as just and beneficial to the Indians, and as also calculated to remove those obstructions which the existence of large reservations presents to the settlement and development of the country. I therefore earnestly recommend the enactment of a law enabling the Government to give Indians a title in fee, inalienable for twenty-five years, to the farm lands assigned to them by allotment. I also repeat the recommendation made in my first annual message, that a law be passed admitting Indians who can give satisfactory proof of having by their own labor supported their families for a number of years, and who are willing to detach themselves from their tribal relations, to the benefit of the homestead act, and to grant them patents containing the same provision of inalienability for a certain period. The experiment of sending a number of Indian children of both sexes to the Hampton Normal and Agricultural Institute, in Virginia, to receive an elementary English education and practical instruction in farming and other useful industries, has led to results so promising that it was thought expedient to turn over the cavalry barracks at Carlisle, in Pennsylvania, to the Interior Department for the establishment of an Indian school on a larger scale. This school has now 158 pupils, selected from various tribes, and is in full operation. Arrangements are also made for the education of a number of Indian boys and girls belonging to tribes on the Pacific Slope in a similar manner, at Forest Grove, in Oregon. These institutions will commend themselves to the liberality of Congress and to the philanthropic munificence of the American people. Last spring information was received of the organization of an extensive movement in the Western States, the object of which was the occupation by unauthorized persons of certain lands in the Indian Territory ceded by the Cherokees to the Government for the purpose of settlement by other Indian tribes. On the 26th of April I issued a proclamation warning all persons against participation in such an attempt, and by the cooperation of a military force the invasion was promptly checked. It is my purpose to protect the rights of the Indian inhabitants of that Territory to the full extent of the executive power; but it would be unwise to ignore the fact that a territory so large and so ' fertile, with a population so sparse and with so great a wealth of unused resources, will be found more exposed to the repetition of such attempts as happened this year when the surrounding States are more densely settled and the westward movement of our population looks still more eagerly for fresh lands to occupy. Under such circumstances the difficulty of maintaining the Indian Territory in its present state will greatly increase, and the Indian tribes inhabiting it would do well to prepare for such a contingency. I therefore fully approve of the advice given to them by the Secretary of the Interior on a recent occasion, to divide among themselves in severalty as large a quantity of their lands as they can cultivate; to acquire individual title in fee instead of their present tribal ownership in common, and to consider in what manner the balance of their lands may be disposed of by the Government for their benefit. By adopting such a policy they would more certainly secure for themselves the value of their possessions, and at the same time promote their progress in civilization and prosperity, than by endeavoring to perpetuate the present state of things in the Territory. The question whether a change in the control of the Indian service should be made was in the Forty-fifth Congress referred to a joint committee of both Houses for inquiry and report. In my last annual message I expressed the hope that the decision of that question, then in prospect, would “arrest further agitation of this subject, such agitation being apt to produce a disturbing effect upon the service as well as on the Indians themselves.” Since then, the committee having reported, the question has been decided in the negative by a vote in the House of Representatives. For the reasons here stated, and in view of the fact that further uncertainty on this point will be calculated to obstruct other much-needed legislation, to weaken the discipline of the service, and to unsettle salutary measures now in progress for the government and improvement of the Indians, I respectfully recommend that the decision arrived at by Congress at its last session be permitted to stand. The efforts made by the Department of the Interior to arrest the depredations on the timber lands of the United States have been continued, and have met with considerable success. A large number of cases of trespass have been prosecuted in the courts of the United States; others have been settled, the trespassers offering to make payment to the Government for the value of the timber taken by them. The proceeds of these prosecutions and settlements turned into the Treasury far exceed in amount the sums appropriated by Congress for this purpose. A more important result, however, consists in the fact that the destruction of our public forests by depredation, although such cases still occur, has been greatly reduced in extent, and it is probable that if the present policy is vigorously pursued and sufficient provision to that end is made by Congress such trespasses, at least those on a large scale, can be entirely suppressed, except in the Territories, where timber for the daily requirements of the population can not, under the present state of the law, be otherwise obtained. I therefore earnestly invite the attention of Congress to the recommendation made by the Secretary of the Interior, that a law be enacted enabling the Government to sell timber from the public lands without conveying the fee, where such lands are principally valuable for the timber thereon, such sales to be so regulated as to conform to domestic wants and business requirements, while at the same time guarding against a sweeping destruction of the forests. The enactment of such a law appears to become a more pressing necessity every day. My recommendations in former messages are renewed in favor of enlarging the facilities of the Department of Agriculture. Agriculture is the leading interest and the permanent industry of our people. It is to the abundance of agricultural production, as compared with our home consumption, and the largely increased and highly profitable market abroad which we have enjoyed in recent years, that we are mainly indebted for our present prosperity as a people. We must look for its continued maintenance to the same substantial resource. There is no branch of industry in which labor, directed by scientific knowledge, yields such increased production in comparison with unskilled labor, and no branch of the public service to which the encouragement of liberal appropriations can be more appropriately extended. The omission to render such aid is not a wise economy, but, on the contrary, undoubtedly results in losses of immense sums annually that might be saved through well directed efforts by the Government to promote this vital interest. The results already accomplished with the very limited means heretofore placed at the command of the Department of Agriculture is an earnest of what may be expected with increased appropriations for the several purposes indicated in the report of the Commissioner, with a view to placing the Department upon a footing which will enable it to prosecute more effectively the objects for which it is established. Appropriations are needed for a more complete laboratory, for the establishment of a veterinary division and a division of forestry, and for an increase of force. The requirements for these and other purposes, indicated in the report of the Commissioner under the head of the immediate necessities of the Department, will not involve any expenditure of money that the country can not with propriety now undertake in the interests of agriculture. It is gratifying to learn from the Bureau of Education the extent to which educational privileges throughout the United States have been advanced during the year. No more fundamental responsibility rests upon Congress than that of devising appropriate measures of financial aid to education, supplemental to local action in the States and Territories and in the District of Columbia. The wise forethought of the founders of our Government has not only furnished the basis for the support of the smallpox systems of the newer States, but laid the foundations for the maintenance of their universities and colleges of agriculture and the mechanic arts. Measures in accordance with this traditional policy, for the further benefit of all these interests and the extension of the same advantages to every portion of the country, it is hoped will receive your favorable consideration. To preserve and perpetuate the national literature should be among the foremost cares of the National Legislature. The library gathered at the Capitol still remains unprovided with any suitable accommodations for its rapidly increasing stores. The magnitude and importance of the collection, increased as it is by the deposits made under the law of copyright, by domestic and foreign exchanges, and by the scientific library of the Smithsonian Institution, call for building accommodations which shall be at once adequate and fireproof. The location of such a public building, which should provide for the pressing necessities of the present and for the vast increase of the nation's books in the future, is a matter which addresses itself to the discretion of Congress. It is earnestly recommended as a measure which should unite all suffrages and which should no longer be delayed. The joint commission created by the act of Congress of August 2, 1876, for the purpose of supervising and directing the completion of the Washington National Monument, of which commission the President is a member, has given careful attention to this subject, and already the strengthening of the foundation has so far progressed as to insure the entire success of this part of the work. A massive layer of masonry has been introduced below the original foundation, widening the base, increasing the stability of the structure, and rendering it possible to carry the shaft to completion. It is earnestly recommended that such further appropriations be made for the continued prosecution of the work as may be necessary for the completion of this national monument at an early day. In former messages, impressed with the importance of the subject, I have taken occasion to commend to Congress the adoption of a generous policy toward the District of Columbia. The report of the Commissioners of the District, herewith transmitted, contains suggestions and recommendations, to all of which I earnestly invite your careful attention. I ask your early and favorable consideration of the views which they express as to the urgent need of legislation for the reclamation of the marshes of the Potomac and its Eastern Branch within the limits of the city, and for the repair of the streets of the capital, heretofore laid with wooden blocks and now by decay rendered almost impassable and a source of imminent danger to the health of its citizens. The means at the disposal of the Commissioners are wholly inadequate for the accomplishment of these important works, and should be supplemented by timely appropriations from the Federal Treasury. The filling of the flats in front of the city will add to the adjacent lands and parks now owned by the United States a large and valuable domain, sufficient, it is thought, to reimburse its entire cost, and will also, as an incidental result, secure the permanent improvement of the river for the purposes of navigation. The Constitution having invested Congress with supreme and exclusive jurisdiction over the District of Columbia, its citizens must of necessity look to Congress alone for all needful legislation affecting their interests; and as the territory of this District is the common property of the people of the United States, who equally with its resident citizens are interested in the prosperity of their capital, I can not doubt that you will be amply sustained by the general voice of the country in any measures you may adopt for this purpose. I also invite the favorable consideration of Congress to the wants of the public schools of this District, as exhibited in the report of the Commissioners. While the number of pupils is rapidly increasing, no adequate provision exists for a corresponding increase of school accommodation, and the Commissioners are without the means to meet this urgent need. A number of the buildings now used for school purposes are rented, and are in important particulars unsuited for the purpose. The cause of popular education in the District of Columbia is surely entitled to the same consideration at the hands of the National Government as in the several States and Territories, to which munificent grants of the public lands have been made for the endowment of schools and universities\n",
      "[457, 139, 2, 1, 269, 3, 230, 2, 354, 1, 324, 2, 1, 2419, 3572, 57, 15, 2970, 5, 27, 112, 1846, 424, 87, 665, 1964, 9, 969, 3, 2043, 4, 1, 2, 25, 127, 9, 1, 251, 3, 3373, 488, 2, 118, 387, 23, 11, 52, 1866, 1, 102, 2179, 1015, 23, 15, 1534, 5, 12, 92, 538, 210, 66, 95, 685, 425, 4, 57, 21, 1686, 20, 1, 664, 830, 2, 1, 36, 1069, 2396, 1, 173, 239, 2, 1, 63, 14, 3611, 57, 24, 1, 822, 1207, 2, 1, 3889, 130, 34, 1, 69, 1417, 3, 5, 1, 837, 2552, 17, 104, 43, 38, 1126, 1230, 4, 10, 4223, 5, 1981, 210, 1, 1776, 2, 964, 95, 32, 15, 31, 1369, 4223, 24, 3, 5, 25, 173, 2990, 92, 3, 381, 5, 25, 986, 2, 1, 63, 32, 21, 431, 3, 574, 93, 18, 1, 3132, 2, 1981, 1, 659, 65, 1, 285, 9, 603, 3, 778, 5, 1232, 9, 43, 38, 1126, 26, 31, 3191, 390, 3, 1, 2177, 3313, 2, 1981, 3, 3229, 5, 1232, 9, 1126, 26, 31, 100, 251, 1, 1809, 2, 1, 2916, 3573, 4397, 28, 3771, 9, 43, 38, 1126, 115, 1, 338, 2, 43, 38, 1126, 4223, 8, 91, 1463, 106, 106, 1, 3889, 2, 2553, 1456, 26, 31, 1212, 17, 6, 100, 76, 4104, 2, 173, 20, 6, 750, 3132, 5, 441, 4, 1, 244, 2, 1, 509, 70, 11, 21, 3037, 4, 1234, 65, 40, 472, 880, 20, 58, 119, 5, 235, 3, 589, 1, 689, 152, 659, 9, 12, 1956, 3, 1016, 615, 26, 1490, 6, 251, 857, 2, 235, 5, 12, 676, 23, 26, 31, 574, 5, 603, 30, 1, 1776, 2, 813, 95, 4, 836, 1199, 4, 1, 338, 2, 91, 106, 106, 210, 1, 3889, 2, 2553, 1456, 49, 26, 113, 31, 6, 1710, 3, 1919, 932, 2, 1, 92, 686, 1, 793, 2, 1, 36, 2091, 84, 462, 433, 681, 190, 15, 31, 2540, 34, 28, 719, 802, 5, 338, 4, 356, 572, 25, 2, 1, 118, 516, 23, 33, 87, 137, 172, 1, 338, 2, 190, 1882, 2798, 17, 1, 657, 2, 1, 516, 210, 616, 146, 8, 1782, 1, 793, 2540, 64, 1402, 5, 390, 2740, 3, 1, 255, 2, 12, 139, 52, 1930, 1, 92, 2644, 8, 133, 359, 62, 223, 128, 1, 338, 2, 1, 118, 516, 23, 185, 242, 62, 131, 85, 8, 2820, 2, 23, 1221, 106, 106, 1334, 190, 34, 1, 523, 2, 569, 433, 681, 3, 1, 857, 8, 5, 793, 2091, 807, 433, 681, 190, 13, 8, 814, 7, 16, 135, 2, 1, 92, 516, 39, 10, 17, 1, 512, 2, 462, 433, 681, 793, 3, 17, 1, 629, 2, 190, 23, 22, 272, 10, 2462, 91, 1196, 106, 106, 39, 10, 2798, 1882, 4, 1, 285, 4, 347, 16, 189, 629, 2, 190, 4, 10, 574, 17, 1, 43, 38, 294, 219, 8, 505, 23, 13, 8, 1244, 22, 10, 453, 17, 57, 169, 41, 137, 424, 1, 2118, 2, 603, 17, 1, 2, 1, 43, 38, 169, 1, 95, 436, 82, 33, 1463, 1, 2118, 2, 778, 588, 210, 1, 1170, 2, 1, 130, 9, 7, 213, 116, 4, 836, 146, 4835, 33, 3341, 106, 2, 23, 1143, 2820, 15, 31, 1039, 30, 1, 285, 3, 21, 52, 5, 1570, 3, 4171, 2242, 21, 192, 5, 1, 1540, 2, 1, 36, 1, 2, 1, 2013, 9, 1408, 2, 175, 126, 1, 43, 38, 3, 1, 1335, 509, 119, 2, 394, 4, 369, 6, 661, 147, 9, 1, 1278, 2, 603, 3, 778, 5, 1, 1083, 244, 2, 1, 70, 2502, 111, 4, 490, 7, 57, 4454, 30, 74, 219, 24, 1, 129, 198, 1, 76, 4104, 2, 235, 1121, 3, 152, 22, 875, 169, 1, 620, 82, 41, 103, 1810, 23, 73, 108, 10, 128, 2869, 294, 376, 20, 1, 2118, 14, 46, 303, 1655, 1159, 65, 57, 1, 450, 2, 2971, 1, 191, 2, 1, 285, 4, 4619, 1, 2118, 2, 778, 588, 65, 1, 137, 823, 3280, 1, 744, 441, 2, 1, 778, 1267, 158, 3, 1402, 242, 62, 1, 744, 441, 2, 1, 603, 1267, 13, 8, 2767, 4453, 4, 564, 53, 34, 20, 178, 58, 51, 153, 21, 4508, 122, 1489, 51, 1, 4687, 1981, 8, 1860, 97, 1570, 13, 22, 51, 4508, 122, 1489, 561, 317, 1, 2991, 1152, 2, 441, 3, 272, 1850, 1, 2062, 751, 23, 8, 6, 750, 2, 153, 603, 3, 778, 23, 101, 10, 2, 3132, 441, 1267, 9, 1267, 20, 1, 1083, 244, 2, 1, 70, 1, 2031, 30, 1570, 2, 43, 38, 1126, 20, 1, 904, 2, 823, 3063, 5, 381, 2214, 8, 6, 756, 4, 10, 286, 5, 12, 227, 316, 6, 740, 3, 1920, 750, 23, 50, 10, 1424, 18, 1, 166, 3, 199, 2, 1, 36, 3, 1, 190, 3, 182, 2, 1, 37, 13, 8, 66, 1677, 1437, 7, 1, 512, 2, 823, 3063, 1788, 244, 695, 1399, 65, 1, 284, 3, 686, 2, 1, 36, 702, 5, 2741, 1133, 8, 122, 3731, 5, 1, 196, 3, 6, 1478, 2, 920, 664, 404, 1, 512, 2, 43, 38, 1126, 169, 1, 1059, 374, 81, 20, 1, 904, 2, 823, 3063, 126, 381, 980, 33, 19, 847, 702, 18, 6, 222, 2, 1, 63, 30, 4982, 2675, 1, 1570, 2, 47, 1126, 18, 1788, 244, 9, 55, 345, 2, 69, 160, 1, 2480, 2, 16, 213, 33, 19, 2552, 17, 1, 4333, 2, 1, 104, 87, 23, 32, 64, 1039, 32, 2541, 1, 2992, 3, 2001, 2, 47, 1126, 34, 1, 2554, 1582, 345, 1656, 20, 1, 4398, 2, 1, 751, 9, 23, 32, 64, 453, 1, 166, 2, 1, 43, 38, 1836, 4, 30, 1, 1312, 2, 1, 196, 26, 31, 4, 1206, 1, 1777, 2, 6, 118, 516, 3, 78, 30, 543, 5, 69, 2, 81, 2215, 15, 31, 732, 32, 15, 31, 574, 572, 24, 1, 599, 2, 88, 18, 1375, 18, 249, 20, 16, 353, 3, 9, 16, 213, 13, 8, 1013, 7, 1, 456, 172, 9, 1, 4562, 2, 6, 2993, 1222, 802, 4, 1, 92, 516, 185, 6, 988, 345, 10, 1160, 51, 55, 278, 2, 1, 1181, 28, 549, 2, 1336, 8, 1287, 174, 17, 57, 13, 8, 1361, 7, 522, 26, 899, 7, 6, 199, 39, 10, 1043, 24, 3, 4276, 23, 22, 19, 4688, 1, 619, 2, 59, 1033, 4, 1, 2917, 3, 23, 22, 1191, 342, 388, 2, 588, 2798, 4, 1, 285, 1, 662, 2893, 1478, 17, 6, 251, 255, 2, 1, 3656, 3, 139, 2, 1, 311, 2, 3038, 2, 1, 172, 2, 1, 43, 38, 9, 1, 2570, 3, 2002, 2, 1042, 1, 277, 2, 83, 202, 2, 1, 36, 16, 311, 26, 6, 692, 802, 4, 13, 4, 1721, 18, 6, 99, 3, 1, 129, 239, 2, 1, 105, 18, 108, 18, 1, 624, 2, 1, 139, 2, 1, 311, 553, 41, 893, 30, 1, 1600, 501, 2, 36, 4, 1, 1030, 3, 1722, 2, 6, 99, 16, 189, 278, 22, 19, 303, 10, 987, 17, 1, 63, 183, 1, 139, 2, 3038, 5, 100, 1464, 255, 3772, 6, 1137, 23, 8, 3547, 18, 6, 769, 17, 1, 172, 2, 25, 1483, 856, 535, 1, 70, 1, 104, 9, 1, 3847, 2, 16, 2463, 33, 1749, 20, 76, 17, 57, 45, 62, 85, 266, 29, 26, 2571, 310, 970, 6, 2216, 1425, 5, 1, 311, 2, 3038, 107, 2, 1, 2119, 1208, 4097, 41, 1004, 1, 507, 3039, 3694, 258, 1, 139, 2, 3038, 7, 1, 104, 33, 5, 2, 1, 533, 3374, 2, 1506, 180, 16, 2822, 8, 52, 1632, 1, 913, 416, 2, 1, 43, 38, 26, 1370, 1, 104, 4, 10, 185, 1, 887, 110, 2, 57, 3, 4169, 18, 6, 717, 2, 175, 9, 25, 42, 185, 1, 933, 49, 8, 48, 583, 55, 378, 9, 1200, 28, 5, 41, 1004, 13, 50, 10, 2768, 3, 2060, 2645, 51, 19, 3013, 5, 41, 521, 13, 50, 10, 2918, 3, 5, 469, 2, 1, 213, 5, 353, 14, 490, 7, 45, 1419, 3, 45, 4765, 848, 9, 2593, 18, 108, 18, 16, 769, 10, 453, 51, 174, 4, 347, 2870, 4, 1, 104, 1, 3064, 3, 590, 2, 1, 177, 3, 1722, 2, 1384, 5, 1, 933, 2, 1, 43, 38, 73, 10, 4399, 28, 2555, 30, 59, 42, 3512, 28, 2594, 1, 1004, 2, 1, 104, 24, 16, 198, 1, 981, 2, 1, 233, 82, 604, 2443, 84, 20, 99, 305, 15, 19, 1192, 4, 5, 1, 229, 1993, 23, 2481, 53, 25, 115, 1, 63, 74, 3, 3812, 865, 2, 1, 1233, 190, 23, 1, 76, 766, 2, 139, 155, 5, 1, 227, 2, 1, 63, 316, 6, 45, 129, 3, 701, 765, 34, 581, 398, 2, 1787, 182, 3, 180, 5, 1, 590, 2, 1, 183, 96, 2, 229, 992, 659, 76, 277, 30, 12, 37, 153, 5, 1, 3937, 2, 118, 3, 99, 284, 14, 340, 48, 378, 4, 1, 507, 14, 939, 5, 66, 95, 685, 425, 7, 48, 1096, 28, 2021, 239, 2, 36, 303, 1734, 28, 22, 223, 1, 3732, 2, 12, 37, 5, 335, 2, 1, 2438, 177, 2, 1384, 3, 7, 1, 110, 2, 92, 507, 22, 25, 229, 3, 25, 3192, 3, 99, 5, 3513, 7, 25, 115, 12, 1867, 311, 1, 1187, 3, 386, 2, 671, 2, 1, 43, 38, 101, 680, 54, 3, 1, 136, 458, 3, 705, 20, 53, 182, 3, 391, 14, 1215, 1699, 4, 1, 1394, 3, 1898, 2, 25, 127, 139, 2, 83, 135, 2, 1, 63, 303, 133, 32, 2227, 2113, 5, 1851, 24, 58, 229, 973, 4, 2313, 5, 2870, 4, 456, 172, 3938, 34, 1, 373, 2, 1, 121, 2, 3773, 14, 2972, 1159, 65, 57, 4, 875, 55, 4563, 5, 47, 172, 23, 522, 26, 899, 3, 23, 13, 8, 185, 41, 110, 4, 1554, 14, 207, 4457, 1, 544, 2, 1, 299, 3, 887, 956, 2, 1, 38, 5, 16, 76, 213, 14, 154, 576, 1931, 7, 51, 1, 92, 791, 39, 10, 401, 34, 749, 24, 16, 4509, 171, 2, 1371, 177, 48, 542, 4836, 22, 28, 1200, 1, 701, 2, 1, 63, 28, 1, 129, 2, 387, 5, 6, 958, 425, 14, 2003, 1, 277, 2, 57, 4, 1, 198, 2, 1, 2, 1, 374, 148, 2, 1, 36, 3, 939, 1, 1868, 2, 4, 57, 18, 556, 18, 1582, 6, 263, 65, 16, 198, 17, 1, 1994, 2, 1, 374, 148, 307, 5, 353, 2, 1, 706, 7, 169, 6, 1464, 345, 1, 36, 2, 76, 709, 26, 31, 1547, 20, 2021, 351, 3, 1899, 5, 801, 4983, 4, 59, 900, 5, 16, 63, 3, 7, 5, 611, 85, 1, 376, 667, 64, 1308, 4, 15, 31, 614, 3, 5, 83, 391, 1642, 897, 14, 551, 13, 1351, 4, 15, 573, 65, 1, 198, 3, 2769, 2699, 1, 1994, 2, 1, 374, 148, 307, 4, 89, 6, 2444, 1352, 9, 16, 213, 1, 344, 26, 31, 40, 3, 1419, 263, 1, 263, 1541, 1, 234, 2, 1, 2228, 147, 5, 76, 709, 3, 2, 1, 1471, 3, 1289, 2, 1, 3, 2, 921, 1729, 20, 1, 180, 2, 981, 13, 1309, 7, 160, 149, 4689, 2, 801, 1982, 2, 2343, 59, 23, 21, 2080, 3, 487, 24, 472, 471, 4, 25, 3, 23, 21, 919, 24, 87, 1, 2, 6, 560, 307, 15, 20, 76, 854, 31, 514, 18, 375, 2, 1721, 4, 459, 83, 921, 225, 5, 1, 3574, 245, 2, 7, 63, 3, 2, 728, 3065, 1, 2742, 2, 1, 263, 3435, 4, 1, 696, 2, 1, 301, 912, 5, 41, 2420, 3, 1, 2, 57, 4, 89, 55, 493, 383, 9, 1, 1560, 28, 1, 1105, 2, 1, 307, 26, 31, 4837, 310, 1, 137, 69, 13, 8, 1828, 2180, 4, 57, 183, 1, 497, 376, 2, 240, 36, 21, 2, 48, 284, 9, 60, 32, 21, 960, 4, 753, 4, 1, 696, 4, 23, 27, 974, 3, 27, 4, 12, 534, 3, 467, 179, 73, 2150, 53, 4, 12, 325, 1, 761, 14, 15, 1337, 939, 2063, 1, 4563, 3, 1899, 5, 12, 374, 245, 626, 3984, 702, 5, 44, 193, 18, 40, 2743, 522, 26, 66, 500, 2, 1, 199, 153, 2, 305, 3, 2, 1, 37, 270, 4, 2116, 9, 27, 1491, 1, 1747, 1571, 3, 4564, 2, 6, 2228, 147, 2, 1239, 4, 254, 3, 2, 254, 3695, 21, 52, 1169, 1083, 5, 1, 2610, 2, 1, 76, 554, 5, 1, 1201, 2, 881, 5, 1, 3657, 3, 1535, 2, 57, 5, 1, 2611, 2, 1, 2, 47, 1571, 26, 31, 2973, 93, 3, 1, 170, 2, 27, 497, 26, 31, 1518, 4, 1223, 1, 174, 217, 83, 488, 2, 497, 67, 10, 695, 24, 306, 121, 3, 267, 3, 67, 10, 20, 1, 2312, 1003, 2, 76, 554, 23, 21, 1992, 3, 595, 5, 6, 145, 99, 78, 1, 37, 15, 987, 6, 166, 34, 6, 118, 546, 455, 24, 1, 135, 2, 1, 305, 32, 15, 2192, 3, 2, 1, 3436, 42, 5, 1507, 20, 12, 229, 534, 50, 10, 5, 1, 166, 23, 13, 8, 27, 199, 4, 705, 97, 369, 8, 2081, 13, 8, 4277, 337, 7, 32, 50, 3437, 13, 128, 1, 37, 18, 108, 18, 41, 336, 5, 1, 1527, 2, 27, 921, 333, 100, 397, 1816, 1608, 4, 1, 359, 255, 2, 59, 42, 2856, 1, 3574, 838, 5, 1, 374, 148, 27, 331, 8, 4, 27, 5, 921, 568, 13, 8, 27, 199, 4, 4838, 1, 823, 1810, 2, 59, 65, 640, 7, 284, 8, 3, 27, 243, 92, 148, 4224, 5, 1, 1536, 2, 27, 1687, 2, 2228, 1245, 27, 333, 21, 1, 136, 581, 346, 8, 5, 110, 3, 581, 166, 18, 6, 1664, 13, 1957, 7, 27, 3695, 2, 254, 50, 19, 1711, 24, 1, 2, 55, 166, 28, 1, 4105, 2, 55, 346, 29, 50, 10, 779, 17, 27, 904, 4, 634, 1, 37, 102, 1188, 2, 2228, 239, 1, 136, 1816, 7, 50, 2646, 1, 3695, 50, 113, 2256, 5, 1, 1239, 2542, 3, 1491, 2, 47, 1, 284, 2, 1239, 3, 1491, 8, 19, 6, 23, 73, 10, 506, 4, 469, 6, 1760, 28, 2403, 6, 2228, 29, 8, 6, 627, 4, 10, 1583, 5, 1, 92, 190, 87, 25, 1, 3314, 23, 3575, 1, 1062, 4, 1608, 1, 92, 1073, 84, 9, 92, 593, 83, 671, 26, 40, 472, 121, 4, 1, 524, 3, 1929, 2, 3015, 1, 92, 148, 2, 77, 63, 1, 84, 109, 796, 2, 1633, 8, 1, 488, 2, 386, 3, 904, 75, 26, 4, 89, 7, 148, 102, 1414, 4, 1, 37, 702, 5, 531, 141, 65, 109, 3, 1083, 404, 18, 65, 1, 2595, 2, 2022, 1067, 3, 21, 18, 3848, 9, 233, 1125, 27, 65, 55, 2595, 23, 663, 2445, 8, 40, 130, 2, 2181, 4, 1, 671, 18, 108, 18, 6, 4334, 2, 7, 627, 198, 4, 23, 1, 3733, 110, 8, 463, 5, 1, 1086, 2, 47, 404, 13, 1695, 2, 76, 450, 4, 350, 109, 3, 770, 222, 494, 9, 83, 202, 3, 251, 2021, 254, 141, 663, 1633, 24, 1, 135, 2, 41, 1291, 8, 19, 1582, 9, 59, 3890, 4, 23, 2314, 3, 50, 15, 1643, 4, 941, 4, 350, 61, 222, 8, 19, 84, 4, 1813, 1, 309, 2, 1, 706, 65, 23, 1, 102, 1000, 4, 254, 1654, 29, 2, 543, 4, 25, 1548, 17, 115, 2314, 3, 4, 1235, 753, 3, 51, 13, 8, 1, 121, 2, 1, 4, 1641, 1, 1239, 3, 1, 190, 2, 1, 37, 4, 13, 65, 211, 13, 46, 975, 399, 7, 6, 888, 3, 109, 1457, 2, 663, 2744, 9, 254, 67, 10, 40, 189, 3, 661, 2941, 2, 83, 109, 3, 888, 36, 13, 26, 149, 210, 317, 1174, 5, 1, 76, 1067, 9, 59, 357, 1, 199, 2, 4172, 3, 1239, 4, 2823, 2697, 97, 1, 470, 3890, 2, 45, 62, 6, 390, 1415, 2, 59, 1500, 254, 3, 20, 1, 3014, 2, 1, 374, 148, 7, 1415, 67, 256, 4, 317, 242, 5, 1, 1761, 85, 2, 1, 36, 1, 3574, 1067, 64, 44, 282, 5, 255, 7, 13, 33, 1188, 1074, 9, 59, 280, 2314, 3, 4, 2823, 4278, 1, 3104, 2, 2302, 346, 3, 848, 79, 19, 168, 317, 1131, 1330, 2, 1770, 4, 1, 145, 3, 109, 590, 2, 1, 3733, 110, 6, 251, 3, 817, 135, 2, 1, 199, 2, 3402, 1, 374, 148, 4, 1, 2062, 3, 927, 2334, 65, 1, 72, 3, 13, 8, 66, 213, 4, 56, 71, 8, 185, 66, 110, 4, 893, 61, 3774, 3, 3223, 376, 2, 497, 18, 22, 102, 1591, 3, 1375, 323, 91, 7, 2722, 278, 2, 147, 595, 4, 89, 12, 2021, 848, 897, 4, 6, 145, 3, 2243, 37, 17, 6, 337, 590, 2, 284, 13, 8, 5, 1, 110, 2, 1, 299, 4, 56, 133, 4, 1017, 61, 6, 497, 29, 13, 39, 19, 10, 215, 1038, 1308, 7, 412, 770, 39, 10, 1087, 122, 544, 24, 1, 135, 2, 57, 3, 3, 2243, 217, 258, 1, 37, 1634, 23, 789, 1, 1169, 1424, 2, 554, 3, 659, 963, 5, 1, 848, 2, 881, 21, 19, 1, 98, 2, 6, 150, 27, 661, 2797, 67, 10, 1144, 5, 920, 404, 3, 5, 40, 522, 23, 27, 974, 3, 1, 4984, 2, 27, 2770, 83, 1548, 910, 3473, 4, 89, 77, 921, 175, 6, 1641, 3, 40, 524, 4, 77, 63, 29, 1, 37, 270, 193, 45, 62, 27, 305, 5, 92, 2344, 21, 1438, 5, 6, 4510, 3342, 3, 3403, 245, 17, 172, 1749, 5, 3, 3, 52, 5, 3404, 4907, 5, 1, 2919, 1983, 1, 1137, 2, 3438, 2314, 4, 1, 342, 3574, 3514, 5, 1, 76, 881, 33, 3547, 3, 2343, 18, 4, 904, 4, 10, 1883, 17, 3548, 3813, 2, 64, 453, 9, 3, 80, 375, 2, 1721, 4, 1, 92, 148, 47, 1983, 21, 6, 621, 17, 57, 7, 2343, 2, 86, 2345, 18, 4, 3, 904, 21, 595, 4, 1, 108, 158, 2, 1, 92, 148, 1, 189, 411, 210, 1, 1794, 2, 47, 172, 15, 31, 18, 4, 1, 386, 2, 47, 2343, 3, 253, 921, 676, 3, 2228, 753, 28, 306, 121, 3, 2445, 64, 4, 261, 1, 1783, 4, 1, 2343, 5, 1137, 47, 2343, 15, 19, 293, 31, 487, 4, 1548, 481, 1169, 42, 224, 772, 4, 10, 4024, 921, 3, 2228, 753, 18, 6, 717, 1625, 4, 15, 2994, 59, 42, 547, 64, 1421, 4, 206, 128, 1, 3813, 159, 1, 4, 6, 2004, 30, 1, 555, 2, 1, 2302, 100, 601, 4, 2182, 18, 6, 1664, 1, 1152, 2, 1721, 3658, 2257, 7, 23, 1, 92, 190, 1837, 13, 33, 113, 459, 1992, 7, 6, 147, 23, 453, 9, 801, 1601, 3813, 2, 20, 48, 306, 1572, 28, 1626, 1457, 2, 2482, 50, 344, 5, 3343, 3, 2183, 2440, 2, 904, 1642, 4, 1, 92, 190, 6, 294, 3, 45, 2722, 278, 33, 2767, 505, 5, 1, 685, 425, 2, 1224, 66, 2647, 1070, 7, 49, 8, 48, 199, 23, 44, 133, 1, 299, 3, 2064, 2, 881, 18, 7, 2, 2314, 367, 8, 49, 55, 61, 3, 301, 1063, 24, 1884, 3, 354, 18, 7, 2, 2843, 838, 9, 4458, 1, 137, 147, 288, 19, 347, 1, 243, 117, 3, 673, 19, 159, 2272, 117, 9, 92, 225, 1, 3, 2, 1, 374, 148, 2, 1, 36, 22, 10, 20, 1127, 17, 1, 241, 37, 2, 1, 43, 38, 57, 2769, 329, 1, 130, 987, 616, 447, 2612, 2335, 1, 374, 148, 2, 1, 43, 38, 3, 1017, 1, 927, 1492, 114, 846, 1, 174, 284, 4, 1, 299, 4, 6, 1415, 497, 1618, 87, 16, 1300, 23, 33, 18, 1261, 4, 347, 6, 147, 2, 109, 3, 2343, 87, 1626, 1572, 6, 255, 2, 4277, 2648, 481, 64, 2192, 9, 1, 213, 42, 1341, 20, 3732, 65, 1, 1536, 2, 27, 333, 892, 20, 40, 2243, 2649, 2, 1, 1965, 2, 1, 148, 1, 1051, 2552, 3, 641, 1088, 2, 1, 2343, 3, 42, 5, 27, 904, 18, 6, 700, 15, 31, 525, 18, 1, 148, 307, 114, 57, 9, 131, 85, 2723, 1, 244, 623, 9, 1, 1560, 3, 9, 1, 1297, 2, 1145, 24, 1, 98, 2, 1, 307, 13, 1584, 30, 1, 263, 2, 1, 307, 834, 4, 1, 72, 5, 1106, 7, 2343, 79, 31, 463, 5, 801, 1972, 2, 1, 63, 3, 7, 40, 869, 2, 91, 1322, 106, 46, 10, 505, 4, 281, 1, 685, 1105, 486, 2523, 912, 5, 1, 333, 2, 1, 307, 1, 263, 33, 2180, 4, 57, 17, 355, 425, 2, 1106, 1532, 20, 1, 819, 1288, 3344, 65, 1, 2942, 2, 1, 307, 51, 1852, 17, 57, 14, 15, 48, 653, 1, 917, 39, 160, 1, 522, 2676, 10, 44, 1829, 3, 2520, 18, 4, 192, 45, 3474, 682, 1, 92, 148, 3, 2282, 1, 299, 324, 2, 57, 3, 1, 2064, 2, 881, 30, 3549, 4, 127, 245, 1, 917, 18, 32, 15, 2082, 31, 2520, 15, 1996, 18, 8, 899, 17, 1, 1851, 2, 1, 324, 2, 1, 1789, 3, 27, 5, 1, 881, 3, 5, 7, 507, 14, 3168, 3, 5, 1, 685, 425, 2, 1224, 2, 1, 136, 82, 902, 761, 21, 939, 3, 40, 869, 9, 1400, 1, 98, 2, 1, 307, 207, 3193, 1, 869, 33, 19, 80, 3, 18, 6, 1664, 1, 1644, 98, 2, 1, 307, 33, 3439, 1271, 1, 307, 360, 192, 5, 1003, 122, 1, 222, 315, 2, 3890, 4, 10, 2771, 5, 55, 4908, 837, 28, 2, 1568, 9, 1, 92, 148, 1, 1403, 2, 880, 65, 55, 2258, 308, 14, 1013, 5, 66, 685, 425, 2, 1224, 1, 280, 2, 40, 869, 9, 1, 3889, 2, 1, 98, 2, 1, 307, 5, 1, 2378, 303, 2080, 2343, 87, 96, 3939, 15, 31, 1883, 185, 988, 5, 1, 299, 881, 5, 321, 3, 5, 6, 255, 2, 1, 3249, 1268, 3, 978, 1067, 2, 1, 1335, 647, 2, 1, 63, 20, 6, 353, 4, 294, 985, 27, 2065, 3, 5, 83, 1575, 32, 15, 31, 379, 4, 10, 18, 3940, 18, 32, 21, 1005, 4, 15, 31, 87, 1, 245, 2, 66, 2647, 14, 123, 1, 262, 3, 927, 2, 1, 92, 148, 46, 10, 903, 2943, 17, 27, 4908, 3440, 1748, 1582, 535, 1, 587, 374, 148, 2, 1, 36, 209, 20, 1938, 493, 9, 27, 129, 1572, 5, 228, 4, 347, 3, 1626, 267, 1201, 30, 1, 191, 2, 1, 1395, 30, 1, 1817, 129, 30, 1, 1817, 5, 1, 466, 2, 74, 1216, 141, 61, 2343, 15, 31, 86, 69, 24, 1700, 3, 113, 30, 1, 2, 1, 2203, 1, 642, 910, 3, 1, 5, 7, 466, 3, 30, 1, 3891, 3, 5, 342, 2, 1, 58, 251, 647, 668, 7, 1, 2080, 147, 141, 1323, 26, 5, 801, 782, 2940, 4, 1218, 1, 92, 148, 1, 1201, 668, 7, 1, 559, 15, 31, 3940, 5, 6, 1710, 1024, 3, 7, 1, 129, 1139, 2, 902, 917, 39, 19, 941, 4, 10, 2, 1370, 682, 4, 1, 148, 1, 1201, 2, 1, 36, 305, 5, 1, 466, 2, 74, 1216, 494, 1334, 1370, 2613, 4, 1, 2, 487, 2080, 2343, 5, 27, 1561, 1067, 2204, 7, 47, 2343, 3, 1, 3135, 3890, 2, 59, 1518, 4, 1, 148, 138, 53, 15, 79, 6, 1710, 4106, 369, 65, 1, 481, 2650, 5, 1, 148, 3, 1153, 65, 59, 4, 1973, 49, 26, 31, 24, 1, 135, 2, 47, 1555, 40, 341, 190, 5, 1, 98, 3, 6, 527, 4, 1138, 20, 13, 499, 1, 945, 4279, 2443, 3, 272, 1, 2, 1, 587, 221, 26, 31, 1627, 1, 2343, 15, 31, 2481, 17, 96, 139, 42, 15, 79, 40, 309, 4, 2745, 4280, 1, 2464, 3, 386, 2, 1, 2440, 3, 1, 1457, 2, 3696, 1, 559, 3, 59, 15, 122, 2505, 987, 1, 848, 1272, 3, 342, 2, 53, 15, 3281, 27, 1288, 507, 65, 61, 1816, 14, 2273, 13, 66, 199, 4, 1602, 1, 1112, 1762, 5, 66, 685, 425, 2, 1224, 57, 4, 89, 1, 174, 869, 9, 1, 3889, 2, 1, 98, 2, 1, 374, 148, 307, 262, 22, 10, 2943, 17, 2971, 6, 3375, 1560, 4, 481, 5, 1, 92, 148, 42, 73, 1939, 2920, 301, 65, 28, 87, 1, 307, 18, 1, 299, 73, 730, 14, 154, 1931, 7, 51, 6, 109, 3, 770, 985, 2, 2445, 8, 2520, 9, 1721, 4, 1, 92, 148, 3, 5, 280, 61, 1899, 18, 122, 127, 384, 3, 2228, 3, 921, 1729, 20, 1, 337, 590, 2, 1, 3733, 110, 22, 5, 251, 488, 4690, 49, 21, 58, 2021, 1899, 4, 23, 1, 277, 2, 57, 50, 10, 605, 5, 16, 961, 1235, 2228, 2314, 3, 1, 1219, 2675, 2, 1491, 122, 384, 100, 2824, 565, 4, 40, 3, 229, 2283, 24, 1, 135, 2, 59, 272, 810, 23, 19, 84, 20, 1, 529, 1536, 2, 921, 199, 29, 8, 4839, 20, 1, 180, 2, 981, 19, 122, 3731, 5, 1, 761, 2, 342, 2, 66, 3576, 5, 1, 2044, 254, 3, 1069, 185, 1, 104, 2, 237, 14, 17, 1484, 80, 24, 1, 150, 2, 606, 4, 271, 86, 967, 862, 4, 61, 1899, 13, 73, 19, 10, 1074, 3, 13, 73, 188, 811, 10, 174, 4, 3441, 20, 1, 337, 1489, 2, 229, 175, 24, 1, 135, 2, 162, 305, 29, 183, 27, 121, 4, 550, 3, 2700, 1151, 27, 1851, 39, 19, 10, 3376, 13, 8, 100, 1723, 7, 32, 50, 844, 10, 1031, 4, 4335, 4, 58, 973, 1, 69, 623, 9, 1, 337, 1536, 2, 27, 921, 333, 367, 4, 218, 1, 284, 2, 27, 254, 4, 1379, 27, 103, 1851, 28, 4, 1, 229, 175, 2, 59, 42, 550, 397, 1851, 1113, 2, 267, 3, 92, 166, 1188, 4, 59, 23, 4281, 1, 218, 2, 921, 110, 9, 1, 2479, 2, 1, 381, 671, 1808, 65, 1, 36, 1, 199, 2, 2005, 41, 305, 3, 1316, 30, 3438, 5, 581, 3515, 984, 1, 1137, 2, 280, 9, 346, 593, 65, 1, 2523, 2, 305, 8, 1642, 4, 1, 92, 148, 3, 4, 1, 63, 604, 40, 910, 50, 10, 18, 145, 18, 55, 58, 671, 4, 181, 77, 103, 244, 5, 469, 2, 77, 1851, 28, 77, 346, 75, 50, 113, 10, 18, 145, 18, 55, 58, 671, 4, 2521, 4, 89, 61, 51, 2523, 21, 29, 6, 532, 1560, 9, 1, 69, 3, 301, 2, 1, 910, 13, 8, 2572, 2181, 4, 4691, 6, 238, 65, 53, 51, 32, 21, 80, 2871, 5, 228, 7, 32, 73, 1334, 1, 238, 1, 1809, 8, 40, 2, 1, 92, 1073, 14, 490, 315, 61, 6, 1790, 3, 1252, 2, 137, 1983, 18, 101, 347, 4, 59, 5, 83, 2244, 2, 921, 179, 28, 92, 771, 1, 373, 20, 23, 6, 76, 3, 2475, 105, 50, 1533, 59, 42, 21, 2404, 5, 41, 148, 12, 297, 20, 152, 208, 15, 662, 683, 20, 76, 709, 49, 21, 192, 411, 718, 93, 2, 1, 421, 172, 2, 1, 2894, 2995, 3, 1, 175, 2, 956, 1287, 4, 10, 5, 2, 177, 1089, 17, 205, 4, 68, 1, 43, 38, 632, 5, 2677, 26, 31, 2589, 4, 137, 6, 659, 9, 5, 353, 2, 1, 431, 17, 68, 139, 34, 4456, 3250, 24, 1, 4282, 150, 2, 964, 4173, 1, 198, 26, 31, 286, 97, 325, 17, 1, 728, 36, 3, 40, 556, 2772, 8, 2541, 65, 1, 2742, 2, 1, 174, 2921, 2343, 1, 198, 2, 12, 2032, 5, 1, 3849, 18, 3516, 17, 205, 22, 34, 332, 10, 444, 4, 1, 277, 2, 1, 728, 36, 20, 6, 353, 4, 40, 556, 3, 661, 636, 2, 1, 241, 171, 23, 33, 84, 3734, 2405, 17, 1, 205, 2, 321, 371, 15, 31, 80, 4, 1645, 1, 1491, 2, 2193, 379, 3315, 4, 1, 2, 3735, 4, 1, 43, 3697, 86, 1900, 26, 113, 1534, 20, 434, 4, 1, 3251, 3, 1997, 2, 179, 3, 445, 65, 1, 4766, 23, 26, 1996, 5, 189, 3850, 2, 1, 1018, 1051, 2, 1, 2974, 36, 24, 1, 198, 5, 1, 190, 2, 1273, 3, 300, 5, 1507, 20, 1, 1071, 820, 2, 1, 95, 424, 2, 57, 1292, 64, 810, 4, 1730, 1, 43, 38, 34, 1, 131, 291, 5, 4767, 54, 2, 23, 8, 52, 5, 227, 34, 3, 1, 58, 4, 10, 463, 279, 82, 34, 6, 527, 26, 31, 939, 17, 12, 3736, 3, 2701, 1438, 5, 1, 189, 3, 718, 235, 20, 4767, 7, 40, 341, 493, 50, 10, 80, 17, 57, 9, 1, 2483, 2, 12, 1028, 34, 1, 4511, 2, 279, 82, 3, 1, 198, 8, 2972, 834, 4, 90, 1288, 325, 1, 3194, 2, 1, 36, 26, 31, 257, 4, 1, 3230, 24, 1, 874, 2, 3612, 2, 6, 74, 3, 783, 3282, 126, 1009, 17, 140, 2, 1, 1242, 1100, 2, 2556, 3, 16, 63, 198, 4, 55, 167, 219, 2, 57, 24, 1, 198, 1, 375, 1063, 128, 3814, 16, 961, 20, 12, 2066, 4, 10, 514, 21, 61, 18, 4, 347, 41, 880, 20, 55, 456, 28, 167, 738, 2, 1696, 3282, 3, 4, 350, 9, 587, 1278, 2, 177, 4, 12, 36, 3, 37, 20, 59, 2, 1009, 5, 1, 218, 2, 1, 3282, 3, 446, 55, 1966, 1540, 2, 1, 1376, 18, 3775, 17, 1009, 4, 1, 2, 55, 167, 3282, 1182, 126, 1009, 3, 1, 43, 38, 23, 73, 10, 3, 1087, 17, 12, 139, 40, 189, 629, 2, 1, 137, 549, 2, 3282, 1182, 20, 394, 1049, 4, 10, 215, 4, 1, 239, 2, 12, 300, 67, 1353, 2315, 30, 1, 765, 2, 16, 448, 1, 277, 2, 57, 33, 1901, 4, 1, 2484, 2, 86, 129, 1484, 17, 57, 2, 1, 241, 198, 2, 17, 66, 2647, 5, 77, 425, 2, 1224, 1075, 3, 14, 2972, 1362, 4, 90, 325, 1, 450, 2, 1363, 175, 5, 1, 302, 1, 411, 2, 1747, 450, 20, 971, 718, 93, 2, 1, 3851, 2, 1, 2144, 2092, 15, 31, 9, 1, 102, 135, 2922, 3, 1512, 13, 73, 3345, 10, 2541, 7, 1, 307, 52, 3081, 5, 321, 9, 1, 621, 2, 381, 531, 5, 16, 961, 22, 561, 10, 358, 4, 323, 41, 2942, 4, 6, 1238, 1, 149, 1246, 171, 2, 475, 2596, 540, 26, 2465, 31, 1984, 18, 6, 198, 2, 1900, 3, 73, 2746, 553, 1363, 175, 9, 41, 835, 1385, 6, 205, 20, 1, 20, 391, 4, 2033, 177, 3, 1722, 902, 4, 59, 20, 58, 298, 26, 31, 1177, 3, 2363, 3, 1, 3698, 64, 3771, 24, 1, 2, 813, 95, 687, 9, 4620, 1171, 20, 1, 3, 20, 4768, 21, 52, 5, 227, 86, 411, 20, 5, 434, 4, 3, 15, 2747, 29, 13, 8, 19, 3252, 7, 32, 22, 10, 65, 6, 109, 3, 897, 660, 6, 171, 26, 113, 1534, 20, 391, 4, 40, 3550, 1000, 17, 2895, 956, 4, 590, 115, 481, 3, 445, 2, 139, 4621, 5, 16, 63, 13, 8, 249, 16, 73, 553, 1240, 17, 205, 20, 1, 1193, 1784, 3316, 411, 1897, 5, 961, 20, 1, 973, 2, 2651, 3, 29, 1, 2543, 36, 26, 1324, 3253, 6, 527, 4, 3699, 564, 3, 4769, 20, 25, 205, 3136, 5, 434, 4, 53, 5, 1664, 2, 1, 2, 57, 4, 350, 9, 6, 1037, 1364, 34, 1, 3700, 4, 4174, 26, 31, 2555, 49, 8, 52, 48, 4225, 2, 1037, 1182, 126, 1, 131, 208, 3, 1, 3283, 2, 786, 9, 54, 5, 86, 501, 8, 834, 4, 57, 297, 20, 3659, 1342, 2303, 4064, 2825, 3, 4336, 256, 3577, 3, 1710, 17, 48, 2077, 2, 4065, 450, 6, 278, 2, 1, 663, 1291, 2, 1, 36, 2, 3254, 26, 286, 225, 48, 278, 303, 26, 1534, 5, 1, 297, 126, 3254, 3, 1, 43, 38, 1, 175, 2, 1, 36, 5, 4909, 4, 1, 466, 2, 74, 1216, 54, 2, 1, 2466, 23, 2194, 61, 1365, 190, 8, 1642, 18, 6, 1827, 2872, 2, 291, 434, 51, 387, 50, 3575, 1, 894, 2, 41, 1053, 552, 1, 1247, 41, 4512, 5, 6, 568, 5, 1, 708, 509, 466, 2, 1, 105, 22, 561, 10, 1087, 1, 205, 970, 80, 126, 1054, 3, 1, 43, 38, 5, 434, 4, 1, 1790, 2, 958, 509, 1171, 13, 8, 52, 814, 22, 10, 1212, 17, 902, 175, 24, 1, 135, 2, 58, 205, 298, 1, 277, 2, 57, 8, 207, 2003, 4, 1, 198, 2, 1, 2524, 1073, 431, 86, 85, 210, 30, 1054, 3, 517, 23, 20, 27, 4985, 190, 52, 338, 4, 1464, 2740, 51, 55, 135, 2, 47, 1073, 8, 2229, 529, 4, 68, 139, 32, 50, 754, 13, 1369, 3, 581, 73, 15, 31, 431, 17, 16, 36, 5, 1809, 2, 3699, 109, 1042, 50, 5, 86, 501, 10, 1701, 4, 1, 119, 4, 640, 13, 2525, 1, 36, 2, 517, 26, 41, 2628, 4, 787, 1, 171, 2, 1, 4283, 2, 41, 973, 4, 1, 43, 38, 20, 6, 2678, 3, 4, 2116, 5, 61, 376, 18, 73, 2526, 4, 446, 3315, 1340, 4, 1, 43, 38, 1, 687, 21, 192, 2702, 3, 22, 10, 4175, 20, 6, 171, 357, 2747, 126, 517, 3, 1054, 91, 1, 855, 1, 43, 38, 36, 26, 286, 376, 4, 3442, 59, 298, 2, 41, 3701, 4, 1138, 41, 127, 1067, 9, 1, 1195, 2, 88, 51, 32, 101, 3769, 2273, 13, 1351, 3, 340, 13, 1582, 4, 3776, 270, 2, 1, 13, 8, 6, 4, 10, 358, 4, 2226, 7, 138, 1, 3, 175, 2, 1, 164, 2975, 2, 1, 131, 119, 24, 178, 625, 2, 1, 3016, 3737, 87, 1, 1810, 2, 27, 1561, 326, 3, 15, 903, 3405, 3, 5, 1, 3061, 141, 3578, 102, 2316, 15, 52, 459, 1399, 3317, 5, 353, 2, 16, 344, 14, 4284, 6, 1524, 3318, 7, 1, 2, 2506, 24, 1, 1140, 22, 561, 317, 44, 2059, 18, 4, 1781, 6, 3346, 2, 1, 137, 1549, 4, 12, 164, 2975, 18, 4, 1, 1140, 122, 2103, 61, 3319, 18, 46, 3892, 1, 88, 2, 1, 131, 208, 1, 577, 2, 1, 3517, 124, 328, 87, 1, 540, 307, 2, 813, 462, 4400, 33, 2748, 574, 3, 26, 31, 271, 5, 260, 2, 2045, 5, 2544, 2, 1, 130, 2, 57, 786, 9, 1, 136, 16, 897, 600, 126, 1, 131, 208, 2502, 111, 4, 3941, 40, 1738, 2, 12, 235, 20, 328, 3, 40, 341, 2507, 2, 439, 3, 492, 17, 12, 37, 4, 1, 429, 2, 1, 76, 437, 2, 7, 63, 14, 1215, 2150, 4, 1, 974, 2, 57, 1, 493, 2, 1853, 219, 1257, 4, 16, 344, 1037, 1141, 20, 2557, 8, 207, 576, 2067, 17, 1, 4337, 2, 6, 632, 30, 7, 63, 4, 1, 43, 38, 16, 8, 494, 2996, 5, 353, 2, 1, 247, 7, 1, 171, 2, 40, 721, 26, 970, 1869, 6, 74, 3, 189, 3515, 3, 8, 52, 87, 1202, 20, 1, 840, 68, 208, 138, 380, 311, 1, 721, 17, 1, 1902, 2629, 46, 15, 4, 628, 13, 8, 4338, 7, 2475, 24, 27, 135, 22, 195, 7, 1, 556, 2570, 2, 61, 6, 98, 22, 1402, 4, 1, 682, 19, 84, 2, 27, 103, 139, 3, 59, 2, 1, 43, 38, 29, 2, 1, 300, 2, 1, 1483, 70, 13, 8, 19, 3252, 7, 50, 1, 98, 10, 2317, 87, 1, 2467, 2, 1, 43, 38, 3, 65, 897, 3777, 9, 1, 121, 2, 140, 3, 41, 182, 17, 1, 840, 68, 326, 1, 439, 9, 41, 2742, 46, 10, 3137, 2406, 30, 16, 63, 3, 394, 23, 224, 4066, 61, 1418, 1037, 297, 20, 2923, 15, 113, 31, 2169, 17, 1, 4285, 2, 6, 632, 30, 7, 63, 1, 81, 126, 3284, 3, 2923, 192, 1646, 1, 43, 38, 15, 19, 1287, 13, 337, 4, 5, 1, 302, 294, 62, 4, 4, 25, 1, 326, 877, 1, 2012, 7, 1, 907, 1067, 2, 1, 36, 2, 1, 43, 38, 9, 1, 1838, 2, 88, 65, 40, 1688, 660, 22, 10, 942, 5, 348, 1, 4401, 101, 3347, 6, 3701, 4, 1032, 53, 2749, 297, 256, 20, 2799, 3, 1, 4840, 377, 3, 235, 20, 59, 208, 8, 3105, 6, 493, 9, 1846, 3, 45, 3316, 1343, 1182, 5, 12, 103, 722, 126, 1, 1094, 2, 16, 63, 3, 1, 119, 2, 259, 94, 797, 4, 111, 4, 1698, 1, 277, 2, 57, 18, 40, 595, 2, 40, 3014, 2, 12, 300, 20, 53, 3, 40, 1252, 2, 12, 1145, 235, 6, 611, 940, 5, 2857, 26, 31, 1212, 17, 1, 765, 2, 6, 2773, 36, 16, 36, 26, 19, 232, 31, 4565, 1083, 3, 13, 8, 1287, 1351, 4, 3702, 1, 461, 175, 2, 1, 37, 23, 8, 1189, 4, 181, 13, 1, 2153, 2, 533, 1885, 6, 642, 1985, 26, 31, 724, 4, 1, 855, 4, 89, 4459, 3, 155, 1540, 2, 1, 1722, 3852, 4, 1, 43, 38, 17, 5, 1, 1772, 2, 6, 2344, 8, 4, 10, 514, 49, 23, 22, 10, 3017, 3, 1414, 4, 43, 38, 617, 1, 198, 2, 1793, 1037, 297, 20, 3, 52, 317, 783, 8, 34, 137, 87, 325, 3, 8, 1, 198, 2, 1037, 1900, 49, 8, 6, 1919, 216, 2, 235, 20, 485, 25, 1129, 3, 68, 208, 3, 13, 8, 814, 7, 20, 175, 5, 434, 4, 41, 429, 13, 39, 3, 22, 10, 192, 45, 3, 7, 68, 615, 3, 1956, 22, 340, 74, 3, 2652, 1050, 1, 1201, 2, 1037, 3, 2033, 305, 65, 16, 198, 87, 1, 147, 52, 667, 15, 1996, 5, 3475, 133, 1811, 573, 23, 26, 31, 3, 22, 256, 4, 10, 1144, 128, 57, 3, 1, 92, 30, 69, 4, 69, 1, 577, 1220, 2, 1, 205, 20, 1342, 2, 616, 530, 4770, 17, 23, 2397, 33, 3852, 4, 1, 43, 38, 1689, 7, 1, 1731, 2, 1, 3852, 311, 20, 1, 2505, 2, 1, 2573, 1665, 101, 10, 1518, 4, 1, 3064, 2, 25, 1, 177, 2, 139, 2, 1, 43, 38, 3, 101, 10, 1160, 3, 1493, 5, 1, 145, 3064, 2, 27, 430, 445, 3, 2034, 1, 1665, 21, 198, 4, 61, 172, 3, 1051, 18, 1, 43, 38, 73, 30, 69, 4, 69, 1807, 5, 434, 4, 1, 1665, 2, 7, 63, 153, 1, 800, 2, 16, 205, 3, 1, 2558, 2, 1, 37, 553, 7, 86, 977, 501, 2, 36, 115, 1, 311, 2, 2397, 10, 667, 49, 1584, 4, 10, 48, 104, 9, 1, 2679, 2, 481, 1573, 20, 3579, 61, 18, 2997, 3, 2527, 3, 48, 4841, 847, 4, 512, 28, 2703, 657, 5, 61, 531, 542, 1208, 15, 237, 2747, 30, 3579, 2, 16, 386, 19, 84, 258, 1, 1458, 1731, 29, 258, 139, 2, 1, 43, 38, 3, 58, 208, 42, 15, 777, 5, 3660, 3, 58, 173, 830, 185, 1, 311, 6, 203, 2971, 1, 1239, 2, 2, 1, 88, 3, 3, 1, 2679, 3, 2, 481, 1573, 20, 1448, 3579, 3, 786, 9, 40, 1699, 4, 43, 38, 707, 9, 1, 672, 2, 2421, 5, 1853, 531, 22, 34, 6, 337, 69, 10, 834, 4, 57, 1, 277, 2, 57, 8, 343, 4, 1, 685, 263, 2, 1, 191, 2, 1, 285, 24, 1, 352, 2, 1, 92, 3082, 1, 1076, 1040, 30, 25, 1390, 9, 1, 436, 82, 1465, 606, 530, 4835, 64, 1, 1076, 503, 9, 1, 136, 345, 64, 1271, 6, 982, 413, 9, 1, 82, 2, 807, 2242, 1, 1045, 9, 1, 137, 436, 82, 1147, 606, 530, 4566, 824, 3, 1064, 21, 18, 1957, 824, 1045, 9, 1, 112, 1404, 813, 146, 4835, 1064, 1045, 9, 1, 1519, 276, 2364, 2, 1, 82, 548, 1045, 9, 1, 1183, 436, 82, 824, 3, 1064, 106, 106, 1, 503, 9, 1, 136, 345, 22, 10, 824, 3, 1064, 18, 1957, 9, 1, 1404, 813, 146, 4835, 824, 503, 580, 3, 9, 1, 1519, 276, 2364, 2, 1, 82, 1, 503, 21, 1064, 34, 2336, 280, 1, 548, 503, 106, 106, 3, 1271, 40, 1064, 982, 413, 9, 1, 82, 1147, 606, 530, 4566, 2, 2413, 106, 106, 1, 548, 1045, 169, 1, 279, 436, 82, 1147, 606, 530, 1248, 1064, 1225, 4, 456, 172, 22, 10, 106, 106, 3, 1, 1064, 1076, 503, 9, 1, 136, 345, 22, 10, 1271, 6, 982, 2, 1301, 9, 7, 82, 1, 251, 338, 3138, 9, 2, 2022, 169, 1, 95, 3, 1, 137, 436, 82, 2422, 4, 2259, 1795, 26, 2068, 1, 1139, 2, 1, 287, 338, 505, 17, 104, 4, 1, 2993, 1222, 9, 1, 1183, 82, 29, 47, 357, 31, 2129, 574, 13, 8, 814, 7, 1, 2993, 1222, 39, 2346, 10, 1160, 122, 55, 278, 2, 456, 104, 1, 191, 2, 81, 1201, 7, 1, 81, 202, 1569, 9, 1, 436, 82, 1147, 606, 530, 1248, 21, 1463, 1, 136, 158, 9, 6, 242, 860, 2, 244, 62, 55, 685, 2195, 1702, 4, 57, 30, 7, 202, 169, 6, 345, 2, 34, 570, 3613, 85, 75, 20, 1, 129, 2, 1, 327, 5, 3815, 61, 219, 18, 22, 2774, 1, 2, 1, 287, 255, 2, 1322, 106, 117, 9, 1, 448, 2, 1, 327, 1966, 2, 1, 447, 117, 505, 9, 199, 3, 315, 19, 916, 9, 148, 5, 1, 798, 75, 113, 4622, 7, 57, 10, 605, 4, 350, 17, 104, 9, 1, 1385, 2, 6, 251, 255, 2, 2800, 164, 3476, 3, 3018, 23, 604, 100, 1811, 5, 270, 15, 31, 1702, 3730, 9, 164, 593, 17, 1, 893, 2, 1119, 3, 636, 75, 20, 1, 129, 5, 3815, 7, 40, 869, 10, 80, 9, 1, 578, 2, 6, 4226, 3, 3816, 579, 9, 1, 740, 2, 6, 849, 338, 2, 244, 2407, 540, 3, 58, 1811, 2630, 52, 5, 1, 129, 2130, 254, 3, 2724, 4, 76, 1380, 2, 548, 922, 17, 1576, 75, 113, 4622, 5, 3348, 20, 1, 761, 2, 1, 1209, 4025, 129, 86, 219, 5, 1643, 4, 1, 164, 1300, 2, 2750, 18, 1323, 4, 1, 769, 2, 5, 47, 342, 850, 14, 3168, 1, 191, 2, 81, 294, 1201, 7, 1, 98, 9, 1, 932, 2, 1, 259, 628, 2, 1, 1724, 1217, 87, 2104, 20, 125, 3893, 2896, 80, 5, 2544, 2, 40, 130, 2, 57, 26, 31, 3817, 169, 1, 233, 82, 20, 6, 359, 488, 2, 610, 5, 1, 4398, 2, 559, 62, 169, 55, 1018, 82, 1, 4225, 138, 1, 259, 628, 23, 34, 1, 720, 2, 830, 5, 606, 79, 6, 2, 84, 1075, 146, 330, 2873, 2, 799, 79, 24, 1, 4842, 2, 813, 4835, 6, 1647, 2, 2969, 2873, 357, 6, 2, 19, 242, 62, 1854, 2873, 3, 6, 840, 2, 530, 2873, 1456, 15, 31, 80, 5, 1507, 20, 1, 1300, 18, 1, 98, 2422, 5, 1, 2205, 4, 462, 3703, 106, 3, 294, 1456, 22, 317, 529, 18, 453, 17, 1, 1300, 5, 1, 1372, 2, 610, 5, 1690, 1, 4225, 52, 1089, 1, 1201, 2, 1, 129, 2, 1, 327, 3, 2, 77, 137, 6, 287, 3, 2653, 1148, 2, 1, 164, 830, 9, 1, 3847, 2, 2132, 258, 1, 928, 2, 1, 3, 1665, 3, 8, 2229, 4, 1, 305, 3, 451, 777, 9, 2379, 3, 841, 1, 233, 82, 26, 31, 54, 2, 459, 88, 3, 2506, 24, 1, 951, 1870, 3, 49, 8, 378, 4, 151, 7, 1, 371, 2, 16, 36, 3, 2, 328, 4, 564, 228, 5, 7, 989, 22, 1418, 2801, 822, 16, 202, 33, 3037, 169, 1, 233, 82, 4, 340, 1096, 604, 3, 6, 740, 9, 6, 908, 2, 41, 2630, 5, 1, 1426, 475, 2, 1, 579, 1720, 9, 1, 99, 81, 3, 393, 881, 1, 578, 2, 1, 396, 2, 1, 579, 6, 135, 2, 1, 2184, 1261, 9, 1, 218, 2, 1, 81, 202, 8, 158, 919, 508, 20, 25, 249, 2559, 3, 1, 98, 50, 754, 30, 57, 61, 1210, 679, 18, 22, 347, 41, 2631, 2742, 1, 263, 2, 1, 191, 2, 1, 393, 1309, 662, 932, 5, 7, 1111, 2, 1, 148, 169, 1, 95, 436, 82, 2258, 15, 31, 80, 65, 617, 3, 131, 74, 722, 15, 31, 1426, 3, 80, 694, 9, 1010, 1, 548, 503, 2, 1, 82, 1465, 606, 530, 4835, 486, 1396, 679, 19, 1064, 9, 17, 1, 202, 64, 1818, 1, 1105, 4, 1, 82, 160, 1, 338, 2, 47, 1396, 679, 64, 1818, 29, 16, 8, 198, 4, 6, 629, 2, 7, 338, 357, 31, 1901, 65, 29, 19, 574, 93, 169, 1, 82, 1, 338, 2, 679, 3139, 4, 1, 95, 436, 82, 33, 1782, 2245, 49, 33, 315, 6, 857, 2, 146, 3818, 1519, 3, 4, 1, 686, 2, 1, 202, 24, 606, 530, 4835, 1, 1569, 9, 1, 436, 82, 1147, 606, 530, 1248, 21, 1782, 23, 1, 679, 9, 1, 137, 436, 82, 2614, 1, 378, 9, 16, 216, 8, 5, 1, 263, 1, 679, 916, 9, 1, 137, 436, 82, 21, 1782, 3703, 23, 22, 5, 1, 507, 2, 1, 191, 591, 25, 1, 1076, 1042, 2, 1, 148, 1, 338, 1901, 30, 1, 285, 30, 813, 146, 4, 836, 146, 4835, 33, 569, 1143, 2, 23, 146, 4227, 26, 31, 1271, 18, 1, 1299, 9, 7, 345, 462, 51, 1, 503, 2, 1, 1519, 131, 3035, 2, 1, 82, 56, 19, 2725, 1, 1415, 9, 47, 414, 361, 49, 22, 626, 34, 1, 231, 2, 1, 82, 530, 2, 1, 1183, 679, 1, 263, 2, 1, 191, 1309, 1, 1919, 247, 7, 258, 25, 1, 305, 2, 1, 356, 1286, 2, 1, 393, 49, 8, 19, 54, 42, 8, 6, 4, 1, 696, 2, 6, 560, 1267, 14, 2313, 20, 211, 5, 3815, 1, 1491, 2, 1, 4, 6, 45, 4460, 7, 1606, 4771, 686, 65, 1, 105, 3, 26, 1666, 1, 4402, 2, 2485, 117, 5, 25, 986, 2, 1, 70, 41, 1491, 30, 41, 137, 4460, 46, 19, 84, 10, 4, 1, 318, 2, 41, 305, 3, 29, 46, 903, 216, 41, 2826, 1, 869, 9, 1243, 1105, 23, 26, 1337, 31, 80, 9, 1, 202, 2, 267, 5, 2572, 33, 34, 1, 95, 424, 2, 57, 3, 48, 869, 581, 33, 80, 9, 1, 825, 2, 1, 3614, 2, 3551, 3, 27, 383, 5, 1, 148, 2, 657, 28, 9, 1, 1536, 2, 58, 333, 3, 210, 606, 530, 47, 305, 15, 662, 1, 1527, 2, 27, 333, 122, 1560, 30, 1, 36, 586, 65, 270, 1, 174, 4106, 18, 108, 18, 4910, 27, 103, 1125, 5, 84, 6, 282, 1940, 26, 1, 337, 1207, 2, 1, 657, 2, 1, 43, 38, 1192, 17, 378, 2, 1, 2347, 2, 1, 3140, 869, 16, 260, 2, 921, 737, 24, 1, 135, 2, 47, 305, 1642, 4, 27, 3477, 33, 3193, 17, 1, 1528, 129, 42, 1609, 53, 303, 7, 32, 46, 1353, 15, 4, 3320, 9, 27, 1560, 65, 1, 2348, 2, 167, 219, 17, 57, 14, 315, 494, 490, 7, 684, 869, 10, 80, 17, 57, 9, 16, 213, 1, 130, 280, 1, 1335, 869, 9, 1, 202, 2, 267, 34, 1018, 26, 1762, 1, 819, 3106, 3, 9, 1, 1105, 23, 66, 10, 3349, 5, 1, 1004, 2, 1, 130, 987, 1282, 2614, 960, 3169, 130, 4, 40, 130, 987, 73, 3580, 960, 410, 40, 130, 4, 1379, 1, 177, 2, 139, 2, 1, 43, 38, 4, 567, 5, 1, 342, 38, 2, 16, 176, 3, 9, 58, 593, 28, 55, 602, 1492, 28, 3019, 48, 869, 33, 80, 9, 16, 213, 9, 1, 1183, 82, 18, 48, 129, 546, 9, 324, 2, 57, 1534, 1, 33, 6, 302, 2, 400, 901, 450, 61, 546, 22, 303, 155, 225, 169, 1, 82, 3, 1, 869, 80, 9, 1, 356, 2, 3551, 3, 50, 10, 802, 4, 2858, 1560, 9, 1, 1125, 32, 73, 10, 505, 4, 1939, 34, 61, 981, 1, 173, 2, 1, 913, 416, 8, 34, 137, 1402, 5, 13, 39, 19, 10, 1189, 7, 45, 1184, 39, 10, 1370, 62, 21, 52, 2046, 2, 5, 41, 685, 424, 28, 7, 17, 55, 1, 1179, 42, 1, 416, 39, 1740, 45, 62, 8, 52, 204, 5, 1, 707, 2, 96, 2, 1, 113, 1, 173, 26, 341, 4, 61, 40, 696, 7, 1, 1200, 2, 267, 22, 405, 1, 277, 2, 57, 4, 40, 1077, 1554, 13, 8, 814, 7, 25, 8, 204, 5, 178, 2874, 23, 39, 2047, 10, 1189, 30, 41, 1243, 221, 1, 1571, 2365, 30, 1200, 21, 242, 3738, 1049, 17, 1, 43, 38, 62, 17, 381, 18, 41, 1184, 21, 1585, 17, 1, 707, 78, 13, 8, 536, 7, 32, 2574, 1, 1202, 2, 411, 2, 6, 92, 386, 1, 1554, 1361, 17, 1, 1528, 129, 8, 1, 1239, 2, 584, 2874, 1830, 3, 1, 1777, 2, 40, 3985, 416, 2, 4984, 3, 2673, 23, 101, 2282, 1, 913, 416, 2, 6, 135, 2, 41, 1001, 183, 6, 1078, 221, 8, 113, 1666, 9, 1, 1527, 2, 2874, 333, 14, 2150, 16, 2083, 4, 1, 325, 2, 57, 13, 46, 975, 4, 863, 6, 701, 1554, 3, 46, 2574, 51, 1349, 584, 2874, 1830, 21, 810, 40, 1299, 34, 1, 137, 523, 2, 2523, 2, 19, 45, 62, 1795, 106, 6, 82, 23, 46, 1055, 10, 390, 5, 4026, 20, 1, 1181, 4, 10, 2751, 1, 263, 2, 1, 1817, 129, 2613, 4, 1, 129, 4104, 2, 173, 535, 1, 63, 1, 1045, 2, 1, 978, 254, 202, 9, 1, 436, 82, 1465, 606, 530, 4835, 64, 530, 158, 45, 62, 1, 1040, 2, 1, 1635, 82, 1, 338, 2055, 30, 1, 1847, 2, 3615, 3, 1338, 33, 45, 62, 5, 1, 1635, 82, 3, 330, 2802, 45, 62, 5, 1, 503, 2, 1, 202, 64, 4227, 3341, 2, 23, 1, 860, 2, 4911, 33, 574, 24, 3349, 5, 1635, 85, 1, 503, 169, 1, 82, 64, 242, 62, 5, 1, 1635, 82, 16, 629, 8, 4, 10, 4228, 4, 1, 633, 2, 1, 104, 329, 606, 2245, 4173, 2057, 1, 1560, 2, 3891, 30, 6, 307, 24, 1, 441, 2, 2540, 4, 6, 307, 24, 1, 338, 1901, 30, 1, 285, 24, 679, 5, 999, 4, 1, 1040, 2, 1, 202, 33, 447, 158, 330, 242, 62, 5, 1, 1635, 82, 1, 503, 9, 1, 436, 82, 1147, 606, 530, 1248, 21, 1064, 34, 4513, 3, 1, 1045, 30, 25, 1390, 34, 4171, 106, 1271, 6, 3616, 4, 10, 2723, 9, 93, 2, 1, 285, 2, 1075, 4513, 1, 297, 2, 1, 202, 20, 1459, 745, 15, 31, 2380, 1, 129, 629, 17, 57, 2, 27, 1560, 17, 1, 869, 9, 355, 1354, 3, 1, 2133, 978, 254, 738, 15, 31, 903, 942, 494, 5, 1, 1313, 38, 1, 239, 2, 1, 2133, 1343, 148, 3, 2, 1, 92, 46, 10, 903, 2943, 3, 1, 503, 134, 10, 45, 3137, 2626, 17, 1, 2, 1, 1124, 2, 1, 2133, 1343, 148, 18, 1013, 17, 1, 1817, 129, 1, 869, 9, 2523, 20, 391, 4, 23, 1, 2143, 1489, 8, 237, 1417, 17, 104, 4, 10, 80, 5, 2572, 1, 1817, 129, 4622, 40, 990, 2, 1, 104, 3478, 1, 216, 2, 1560, 9, 341, 148, 3, 341, 2134, 24, 4567, 2575, 44, 18, 4, 1136, 211, 4, 9, 1302, 9, 61, 341, 148, 3, 2134, 75, 113, 4772, 1, 1403, 4, 4, 1, 300, 2, 1, 63, 30, 1, 1794, 2, 6, 129, 104, 2971, 2214, 20, 2318, 15, 3083, 1145, 1, 68, 1449, 9, 1, 1343, 126, 1094, 2, 1, 43, 38, 3, 1094, 2, 1, 575, 3, 259, 94, 34, 6, 1417, 2143, 619, 433, 1, 338, 4, 10, 3138, 158, 3516, 17, 685, 679, 5, 161, 837, 20, 1, 338, 574, 9, 1, 644, 4567, 148, 1, 1736, 80, 17, 1, 1817, 129, 3, 1, 191, 2, 1, 285, 9, 1, 2093, 2, 199, 65, 2654, 431, 5, 1, 1343, 30, 152, 208, 26, 1345, 44, 897, 5, 41, 901, 633, 7, 1, 1112, 8, 52, 80, 7, 57, 101, 1138, 1, 521, 2, 1, 130, 2, 616, 447, 4835, 87, 23, 16, 1736, 33, 80, 44, 18, 4, 1608, 4, 25, 58, 1033, 431, 5, 1, 3170, 30, 152, 208, 1, 1201, 2, 1, 191, 2, 1, 1395, 3, 2, 1, 1667, 2, 768, 538, 3084, 1541, 1, 137, 99, 2, 12, 297, 20, 1, 768, 1665, 24, 12, 311, 1, 376, 286, 4, 893, 27, 1119, 3, 387, 3, 1, 227, 237, 1668, 17, 53, 22, 10, 379, 2, 45, 62, 1076, 190, 1, 129, 737, 2, 12, 768, 692, 26, 31, 44, 897, 7, 1, 2, 131, 3319, 23, 1996, 5, 4568, 3, 922, 2, 445, 8, 25, 1, 45, 4, 10, 1, 234, 2, 1, 4569, 24, 1, 519, 1217, 3704, 5, 843, 4107, 26, 317, 44, 2827, 17, 1201, 5, 1, 92, 1046, 7, 41, 2632, 3851, 170, 19, 10, 1005, 132, 5, 2094, 13, 8, 1189, 7, 1, 636, 2, 16, 1741, 22, 565, 4, 61, 2206, 18, 22, 446, 294, 1770, 4332, 126, 1, 928, 3, 1, 1140, 2775, 5, 843, 4107, 1, 58, 3321, 1534, 34, 1, 1619, 5, 74, 328, 141, 34, 1, 1291, 2, 6, 390, 4623, 2, 160, 96, 158, 4514, 17, 6, 164, 221, 80, 77, 140, 552, 1, 951, 1140, 3, 8, 52, 24, 152, 1469, 183, 47, 5, 23, 6, 3191, 390, 255, 2, 928, 64, 777, 21, 102, 6, 849, 669, 2, 12, 768, 692, 15, 576, 1967, 1, 3406, 2, 59, 42, 151, 7, 17, 3479, 3, 683, 3549, 1, 768, 39, 10, 1154, 4, 2196, 1, 3407, 2, 179, 3, 4, 1251, 6, 904, 9, 1414, 3, 1483, 71, 32, 15, 237, 1087, 5, 1, 1806, 2, 1016, 3, 98, 1, 2632, 610, 23, 26, 2481, 1, 2726, 2, 18, 6, 476, 2, 928, 2082, 4570, 258, 1, 3, 102, 3, 1, 129, 3, 1734, 527, 939, 17, 53, 9, 1, 395, 2, 27, 268, 73, 10, 286, 18, 802, 2095, 7, 32, 22, 10, 379, 1835, 2, 133, 45, 51, 32, 256, 4, 10, 2332, 3, 2047, 3480, 1, 5, 1, 263, 2, 1, 191, 2, 1, 1395, 1, 751, 2, 23, 8, 4, 89, 1210, 493, 9, 1, 395, 2, 768, 2776, 4, 2349, 1, 928, 65, 1114, 5, 4, 181, 53, 2154, 5, 4, 27, 2362, 9, 6, 319, 255, 2, 85, 3, 78, 27, 1505, 21, 272, 453, 9, 4, 17, 1847, 2, 1, 435, 24, 27, 3018, 19, 2443, 3, 506, 17, 53, 6, 1222, 4, 10, 1932, 93, 2, 1, 3171, 9, 1, 682, 2, 1, 928, 23, 22, 2828, 2282, 1, 36, 2, 1, 1105, 52, 453, 9, 17, 685, 679, 67, 2150, 360, 18, 109, 3, 2023, 4, 1, 928, 3, 18, 113, 2704, 4, 1331, 59, 23, 1, 1003, 2, 251, 3018, 2576, 4, 1, 636, 3, 429, 2, 1, 63, 14, 315, 1215, 490, 1, 1794, 2, 6, 104, 4108, 1, 36, 4, 181, 928, 6, 2154, 5, 9, 1132, 585, 85, 4, 1, 1114, 435, 3040, 4, 53, 17, 14, 113, 1819, 1, 1112, 80, 5, 66, 112, 685, 425, 7, 6, 104, 10, 329, 928, 42, 39, 181, 897, 2095, 2, 357, 17, 27, 103, 301, 1662, 27, 409, 9, 6, 255, 2, 85, 3, 42, 21, 833, 4, 270, 30, 27, 297, 4, 1, 682, 2, 1, 130, 3, 4, 1669, 53, 4624, 3661, 1, 136, 493, 2, 9, 6, 319, 345, 1, 2726, 2, 3085, 6, 255, 2, 768, 268, 2, 153, 4, 1, 2191, 3, 1016, 5, 1763, 4, 754, 40, 4986, 2795, 395, 3, 901, 3942, 5, 4773, 3, 58, 1414, 1028, 26, 1154, 4, 559, 44, 4625, 7, 13, 33, 551, 2727, 4, 741, 115, 1, 34, 5, 3377, 4, 1, 1395, 202, 9, 1, 765, 2, 40, 768, 677, 24, 6, 1078, 2048, 16, 677, 26, 52, 2192, 30, 801, 1665, 3, 8, 5, 287, 633, 2206, 21, 113, 80, 9, 1, 395, 2, 6, 255, 2, 768, 3518, 3, 4515, 3519, 4, 1665, 24, 1, 670, 5, 6, 902, 837, 34, 2446, 5, 2421, 47, 534, 22, 2150, 270, 4, 1, 2, 57, 3, 4, 1, 2, 1, 68, 37, 95, 2728, 573, 33, 431, 2, 1, 649, 2, 40, 2258, 1123, 5, 1, 843, 38, 1, 751, 2, 23, 33, 1, 1871, 17, 481, 2, 319, 435, 5, 1, 768, 311, 3852, 17, 1, 4, 1, 36, 9, 1, 213, 2, 636, 17, 58, 768, 1665, 24, 1, 2, 1106, 14, 1039, 6, 1397, 2402, 25, 481, 124, 2032, 5, 61, 40, 882, 3, 17, 1, 544, 2, 6, 164, 221, 1, 2105, 33, 1369, 4912, 13, 8, 66, 213, 4, 403, 1, 177, 2, 1, 768, 1731, 2, 7, 311, 4, 1, 287, 696, 2, 1, 299, 110, 29, 13, 46, 10, 3231, 4, 3322, 1, 247, 7, 6, 311, 44, 251, 3, 44, 410, 20, 6, 692, 44, 3, 20, 44, 76, 6, 1090, 2, 437, 22, 10, 379, 45, 2724, 4, 1, 2, 61, 2803, 18, 1317, 16, 82, 78, 1, 38, 21, 45, 1512, 3, 1, 1123, 2, 12, 692, 4109, 192, 45, 9, 3012, 435, 4, 3255, 87, 61, 665, 1, 1741, 2, 1690, 1, 768, 311, 5, 41, 137, 99, 22, 903, 216, 3, 1, 768, 1665, 13, 46, 56, 108, 4, 2337, 9, 61, 6, 14, 315, 576, 2049, 2, 1, 1921, 257, 4, 53, 17, 1, 191, 2, 1, 1395, 24, 6, 611, 953, 4, 3195, 258, 270, 5, 18, 251, 6, 3617, 2, 27, 435, 18, 32, 39, 4516, 4, 3552, 470, 2154, 5, 688, 2, 27, 137, 2528, 5, 306, 3, 4, 787, 5, 71, 837, 1, 857, 2, 27, 435, 73, 10, 2046, 2, 17, 1, 36, 9, 27, 682, 17, 4913, 61, 6, 166, 32, 46, 45, 1055, 347, 9, 270, 1, 441, 2, 27, 2423, 3, 34, 1, 136, 69, 1017, 27, 227, 5, 1119, 3, 387, 62, 17, 4, 1, 137, 99, 2, 275, 5, 1, 311, 1, 171, 253, 6, 278, 5, 1, 261, 2, 1, 768, 148, 50, 10, 80, 33, 5, 1, 2419, 2319, 57, 1236, 4, 6, 1071, 715, 2, 153, 1268, 9, 2366, 3, 263, 5, 66, 95, 685, 425, 14, 939, 1, 187, 7, 1, 621, 2, 7, 171, 168, 5, 2348, 46, 294, 3378, 2, 16, 198, 61, 3378, 158, 4, 954, 6, 3943, 369, 65, 1, 148, 18, 108, 18, 24, 1, 928, 270, 114, 210, 168, 1, 715, 357, 1610, 1, 171, 26, 31, 1370, 5, 1, 4987, 17, 6, 567, 5, 1, 230, 2, 354, 9, 1, 1113, 132, 1005, 3, 5, 353, 2, 1, 247, 7, 294, 2998, 24, 16, 389, 22, 10, 2704, 4, 58, 133, 623, 219, 4, 3692, 1, 2542, 2, 1, 148, 3, 4, 3940, 376, 52, 5, 227, 9, 1, 36, 3, 932, 2, 1, 928, 14, 2972, 490, 7, 1, 621, 3041, 34, 17, 57, 34, 41, 95, 424, 10, 1421, 4, 419, 1, 371, 80, 17, 1, 202, 2, 1, 1395, 4, 2679, 1, 24, 1, 3196, 435, 2, 1, 43, 38, 15, 31, 662, 3, 15, 678, 20, 1464, 610, 6, 251, 255, 2, 531, 2, 15, 31, 3817, 5, 1, 707, 2, 1, 43, 38, 283, 15, 31, 1512, 1, 4067, 4, 89, 825, 4, 1, 36, 9, 1, 441, 2, 1, 3196, 286, 17, 53, 1, 3171, 2, 47, 3, 2775, 1660, 97, 1, 285, 193, 2725, 5, 338, 1, 2740, 2723, 17, 57, 9, 16, 213, 6, 45, 189, 344, 303, 4224, 5, 1, 247, 7, 1, 922, 2, 12, 92, 2577, 17, 845, 61, 531, 192, 2416, 26, 31, 903, 826, 5, 696, 3, 13, 8, 2777, 7, 51, 1, 137, 166, 8, 4514, 2084, 3, 802, 493, 4, 7, 231, 8, 80, 17, 57, 61, 34, 570, 59, 24, 6, 251, 2048, 39, 10, 1293, 702, 5, 1, 933, 141, 3196, 9, 1, 1728, 1965, 2, 1, 692, 39, 19, 87, 1, 137, 99, 2, 1, 104, 10, 1029, 1666, 14, 315, 1215, 1565, 1, 277, 2, 57, 4, 1, 1112, 80, 17, 1, 191, 2, 1, 1395, 7, 6, 104, 10, 1749, 4108, 1, 36, 4, 2350, 3196, 30, 1, 92, 435, 122, 1, 141, 61, 435, 21, 1811, 9, 1, 3196, 3581, 61, 2447, 4, 10, 44, 3516, 18, 4, 4461, 4, 644, 1505, 3, 173, 1965, 183, 34, 1, 136, 69, 124, 6, 4403, 922, 2, 1, 2577, 1, 1794, 2, 61, 6, 104, 1584, 4, 317, 6, 45, 3020, 543, 83, 150, 66, 850, 5, 958, 2611, 21, 1984, 5, 676, 2, 1, 1354, 2, 1, 202, 2, 898, 898, 8, 1, 1386, 190, 3, 1, 661, 492, 2, 12, 37, 13, 8, 4, 1, 3172, 2, 1016, 589, 18, 2006, 20, 12, 236, 2655, 3, 1, 1402, 341, 3, 1642, 3197, 744, 557, 23, 11, 15, 3066, 5, 611, 85, 7, 11, 21, 4228, 9, 12, 137, 387, 18, 6, 37, 11, 67, 372, 9, 41, 662, 1195, 4, 1, 136, 1494, 3894, 49, 8, 48, 1111, 2, 492, 5, 23, 301, 957, 17, 2485, 968, 61, 341, 589, 5, 4026, 20, 301, 3, 48, 1111, 2, 1, 92, 148, 4, 23, 1, 2508, 2, 1210, 679, 39, 10, 45, 942, 1, 4, 1628, 61, 469, 8, 19, 6, 888, 262, 29, 24, 1, 1529, 2752, 559, 5, 2578, 2, 2579, 2740, 2798, 7, 224, 10, 1882, 138, 108, 957, 371, 17, 1, 36, 4, 1017, 16, 842, 190, 1, 559, 237, 1087, 20, 1, 100, 988, 222, 1337, 1043, 34, 1, 1223, 2, 1, 202, 2, 898, 8, 40, 1530, 2, 71, 73, 10, 1189, 20, 341, 679, 9, 1, 342, 593, 2246, 5, 1, 263, 2, 1, 1667, 20, 6, 353, 4, 3582, 1, 202, 65, 6, 2545, 23, 22, 1136, 13, 4, 4988, 45, 2060, 1, 1181, 9, 23, 13, 8, 514, 679, 21, 623, 9, 6, 45, 701, 9, 1, 765, 2, 6, 1678, 3, 6, 1678, 2, 3, 9, 40, 216, 2, 221, 1, 1965, 9, 47, 3, 58, 593, 2246, 5, 1, 263, 2, 1, 1667, 87, 1, 1291, 2, 1, 684, 2558, 2, 1, 202, 22, 19, 2574, 55, 1299, 2, 244, 7, 1, 63, 39, 19, 20, 2484, 52, 2705, 5, 1, 239, 2, 898, 13, 8, 1919, 4, 1314, 30, 1, 1168, 2, 395, 1, 696, 4, 23, 2486, 1722, 535, 1, 43, 38, 15, 31, 1585, 169, 1, 82, 48, 45, 1057, 331, 2334, 65, 57, 62, 7, 2, 1077, 376, 2, 664, 469, 4, 395, 4, 421, 175, 5, 1, 38, 3, 933, 3, 5, 1, 672, 2, 1587, 1, 888, 2, 1, 3739, 2, 12, 36, 26, 19, 84, 2406, 1, 660, 9, 1, 217, 2, 1, 1670, 2, 1, 38, 29, 1144, 1, 2797, 9, 1, 1195, 2, 27, 3540, 3, 3520, 2, 898, 3, 1, 3232, 376, 5, 1507, 20, 16, 3107, 166, 9, 1, 294, 682, 2, 25, 47, 239, 3, 1, 1252, 2, 1, 136, 1403, 4, 83, 908, 2, 1, 63, 13, 8, 1244, 22, 754, 90, 1288, 325, 4, 915, 3, 1, 118, 50, 10, 258, 1, 4774, 2, 1, 118, 1537, 1, 4989, 3350, 34, 1, 3740, 192, 1122, 20, 55, 1853, 9, 41, 1375, 689, 1, 3408, 3, 450, 2, 1, 2093, 341, 18, 13, 8, 17, 1, 2096, 80, 87, 1, 104, 2, 17, 644, 3, 152, 3778, 3, 17, 1, 2485, 4989, 2, 1, 1606, 405, 9, 579, 23, 101, 10, 34, 332, 770, 3, 1, 4460, 2, 61, 6, 92, 579, 23, 50, 350, 9, 1, 3020, 2558, 2, 1, 137, 3, 9, 1, 849, 216, 2, 1, 895, 2654, 5, 1, 167, 8, 6, 302, 23, 360, 4, 1, 2230, 2, 57, 13, 8, 1215, 1013, 18, 6, 488, 23, 50, 2313, 25, 3, 23, 50, 48, 583, 10, 3285, 1, 1071, 307, 732, 17, 1, 130, 2, 57, 2, 1279, 330, 9, 1, 213, 2, 3, 3521, 1, 2742, 2, 1, 321, 118, 2, 23, 307, 1, 72, 8, 6, 1280, 26, 257, 1134, 277, 4, 16, 198, 3, 237, 1, 2897, 2, 1, 1520, 26, 44, 193, 18, 4, 2085, 1, 587, 610, 2, 16, 135, 2, 1, 98, 6, 2142, 2, 26, 31, 2778, 2257, 1, 1458, 1520, 1, 1979, 689, 1, 1249, 2, 1, 2184, 3, 4910, 13, 249, 4, 705, 1, 4, 2742, 13, 8, 1215, 1013, 7, 61, 294, 679, 10, 80, 9, 1, 662, 2570, 2, 1, 98, 18, 73, 10, 174, 9, 1, 2742, 2, 16, 118, 34, 40, 556, 150, 5, 958, 2611, 3779, 20, 1, 450, 2, 1, 198, 14, 15, 286, 953, 4, 2150, 4, 57, 1, 1312, 2, 6, 1827, 166, 316, 1, 672, 2, 1587, 1, 263, 2, 1, 1292, 2, 1, 672, 1828, 2180, 2522, 1588, 3, 850, 4, 25, 2, 23, 14, 1215, 1565, 90, 1134, 277, 14, 313, 90, 556, 3, 1288, 325, 2, 1, 761, 23, 32, 1151, 18, 4, 1, 1734, 170, 2, 219, 9, 1, 3944, 2, 1, 2, 1, 3, 41, 1742, 1111, 185, 1, 862, 2, 1, 466, 3, 9, 1, 3481, 2, 1, 1764, 2, 1, 439, 1337, 1144, 20, 3, 52, 17, 1702, 459, 3, 6, 1237, 2, 4982, 648, 4, 1, 318, 2, 41, 139, 1, 222, 34, 1, 3522, 2, 1, 1292, 21, 1399, 2183, 9, 1, 2480, 2, 47, 189, 806, 3, 50, 10, 17, 679, 30, 1, 162, 285, 1, 2, 1, 5, 1703, 2, 1, 466, 22, 1191, 4, 1, 435, 3, 3553, 52, 2875, 17, 1, 43, 38, 6, 251, 3, 1811, 2615, 802, 13, 8, 551, 4, 41, 587, 398, 3, 22, 113, 18, 40, 4106, 344, 347, 1, 661, 932, 2, 1, 1217, 9, 1, 593, 2, 1674, 1, 196, 357, 2753, 57, 20, 913, 3, 1966, 1001, 115, 1, 672, 2, 1587, 41, 139, 67, 2, 543, 372, 4, 57, 547, 9, 25, 219, 2396, 27, 239, 3, 18, 1, 311, 2, 16, 672, 8, 1, 306, 445, 2, 1, 37, 2, 1, 43, 38, 42, 1214, 20, 41, 139, 21, 1438, 5, 1, 387, 2, 27, 439, 14, 39, 19, 653, 7, 35, 22, 10, 1852, 17, 1, 129, 1778, 2, 1, 63, 5, 55, 376, 35, 73, 1807, 9, 16, 213, 14, 113, 1565, 1, 1288, 325, 2, 57, 4, 1, 1505, 2, 1, 92, 755, 2, 16, 672, 18, 5, 1, 263, 2, 1, 1292, 183, 1, 255, 2, 8, 1375, 689, 48, 770, 493, 1410, 9, 6, 3198, 216, 2, 677, 4393, 3, 1, 1292, 21, 122, 1, 222, 4, 281, 16, 1734, 170, 6, 255, 2, 1, 2135, 52, 506, 9, 677, 593, 21, 3, 21, 5, 189, 4983, 9, 1, 213, 1, 384, 2, 1371, 395, 5, 1, 672, 2, 1587, 8, 1591, 960, 4, 1, 136, 325, 34, 1, 666, 2, 1, 118, 36, 18, 5, 1, 342, 38, 3, 933, 4, 23, 2185, 2, 1, 92, 435, 15, 31, 80, 9, 1, 2, 755, 3, 3540]\n"
     ]
    }
   ],
   "source": [
    "tokenizer = Tokenizer(num_words=5000)\n",
    "tokenizer.fit_on_texts(X_train)\n",
    "\n",
    "X_train_ = tokenizer.texts_to_sequences(X_train)\n",
    "X_test_ = tokenizer.texts_to_sequences(X_test)\n",
    "\n",
    "voc_size = len(tokenizer.word_index) + 1  # Adding 1 because of reserved 0 index\n",
    "\n",
    "print(X_train[2])\n",
    "print(X_train_[2])"
   ]
  },
  {
   "cell_type": "code",
   "execution_count": 20,
   "metadata": {},
   "outputs": [],
   "source": [
    "num_words = 5000\n",
    "\n",
    "def vectorize_sequences(sequences, dimension=num_words): \n",
    "    results = np.zeros((len(sequences), dimension)) \n",
    "    for i, sequence in enumerate(sequences):\n",
    "        results[i, sequence] = 1.\n",
    "    return results \n",
    "\n",
    "X_train = vectorize_sequences(X_train_)\n",
    "X_test = vectorize_sequences(X_test_)"
   ]
  },
  {
   "cell_type": "code",
   "execution_count": 6,
   "metadata": {},
   "outputs": [
    {
     "data": {
      "text/plain": [
       "CountVectorizer()"
      ]
     },
     "execution_count": 6,
     "metadata": {},
     "output_type": "execute_result"
    }
   ],
   "source": [
    "vect = CountVectorizer()\n",
    "vect.fit(X_train)"
   ]
  },
  {
   "cell_type": "code",
   "execution_count": 8,
   "metadata": {},
   "outputs": [
    {
     "data": {
      "text/plain": [
       "{'analyzer': 'word',\n",
       " 'binary': False,\n",
       " 'decode_error': 'strict',\n",
       " 'dtype': numpy.int64,\n",
       " 'encoding': 'utf-8',\n",
       " 'input': 'content',\n",
       " 'lowercase': True,\n",
       " 'max_df': 1.0,\n",
       " 'max_features': None,\n",
       " 'min_df': 1,\n",
       " 'ngram_range': (1, 1),\n",
       " 'preprocessor': None,\n",
       " 'stop_words': None,\n",
       " 'strip_accents': None,\n",
       " 'token_pattern': '(?u)\\\\b\\\\w\\\\w+\\\\b',\n",
       " 'tokenizer': None,\n",
       " 'vocabulary': None}"
      ]
     },
     "execution_count": 8,
     "metadata": {},
     "output_type": "execute_result"
    }
   ],
   "source": [
    "vect.get_params()"
   ]
  },
  {
   "cell_type": "code",
   "execution_count": 9,
   "metadata": {},
   "outputs": [
    {
     "data": {
      "text/plain": [
       "['zeros',\n",
       " 'zest',\n",
       " 'zigs',\n",
       " 'zika',\n",
       " 'zimbabwe',\n",
       " 'zimbabweans',\n",
       " 'zimmerman',\n",
       " 'zinc',\n",
       " 'zinke',\n",
       " 'zion',\n",
       " 'zionism',\n",
       " 'zip',\n",
       " 'zone',\n",
       " 'zones',\n",
       " 'zoning',\n",
       " 'zoological',\n",
       " 'zooming',\n",
       " 'zoot',\n",
       " 'zte',\n",
       " 'zuckert']"
      ]
     },
     "execution_count": 9,
     "metadata": {},
     "output_type": "execute_result"
    }
   ],
   "source": [
    "vect.get_feature_names()[-20:]"
   ]
  },
  {
   "cell_type": "code",
   "execution_count": 7,
   "metadata": {},
   "outputs": [],
   "source": [
    "X_train = vect.transform(X_train)\n",
    "X_test = vect.transform(X_test)"
   ]
  },
  {
   "cell_type": "code",
   "execution_count": 8,
   "metadata": {},
   "outputs": [
    {
     "data": {
      "text/plain": [
       "((702, 33651), (176, 33651), (702,), (176,))"
      ]
     },
     "execution_count": 8,
     "metadata": {},
     "output_type": "execute_result"
    }
   ],
   "source": [
    "X_train.shape, X_test.shape, y_train.shape, y_test.shape"
   ]
  },
  {
   "cell_type": "markdown",
   "metadata": {},
   "source": [
    "## Model 1: Dense Network"
   ]
  },
  {
   "cell_type": "code",
   "execution_count": 10,
   "metadata": {},
   "outputs": [
    {
     "name": "stdout",
     "output_type": "stream",
     "text": [
      "Model: \"sequential_1\"\n",
      "_________________________________________________________________\n",
      " Layer (type)                Output Shape              Param #   \n",
      "=================================================================\n",
      " dense (Dense)               (None, 200)               6730400   \n",
      "                                                                 \n",
      " dense_1 (Dense)             (None, 100)               20100     \n",
      "                                                                 \n",
      " dense_2 (Dense)             (None, 1)                 101       \n",
      "                                                                 \n",
      " flatten (Flatten)           (None, 1)                 0         \n",
      "                                                                 \n",
      "=================================================================\n",
      "Total params: 6,750,601\n",
      "Trainable params: 6,750,601\n",
      "Non-trainable params: 0\n",
      "_________________________________________________________________\n"
     ]
    }
   ],
   "source": [
    "num_words = X_train.shape[1]\n",
    "\n",
    "model = tf.keras.models.Sequential()\n",
    "model.add(tf.keras.layers.Input(shape=(num_words,)))\n",
    "model.add(tf.keras.layers.Dense(200, activation='relu'))\n",
    "model.add(tf.keras.layers.Dense(100, activation='relu'))\n",
    "model.add(tf.keras.layers.Dense(1, activation='sigmoid'))\n",
    "model.add(tf.keras.layers.Flatten())\n",
    "model.summary()"
   ]
  },
  {
   "cell_type": "code",
   "execution_count": 11,
   "metadata": {},
   "outputs": [
    {
     "name": "stdout",
     "output_type": "stream",
     "text": [
      "Epoch 1/30\n"
     ]
    },
    {
     "name": "stderr",
     "output_type": "stream",
     "text": [
      "C:\\Users\\user\\AppData\\Roaming\\Python\\Python38\\site-packages\\tensorflow\\python\\framework\\indexed_slices.py:448: UserWarning: Converting sparse IndexedSlices(IndexedSlices(indices=Tensor(\"gradient_tape/sequential_1/dense/embedding_lookup_sparse/Reshape_1:0\", shape=(None,), dtype=int32), values=Tensor(\"gradient_tape/sequential_1/dense/embedding_lookup_sparse/Reshape:0\", shape=(None, 200), dtype=float32), dense_shape=Tensor(\"gradient_tape/sequential_1/dense/embedding_lookup_sparse/Cast:0\", shape=(2,), dtype=int32))) to a dense Tensor of unknown shape. This may consume a large amount of memory.\n",
      "  warnings.warn(\n"
     ]
    },
    {
     "name": "stdout",
     "output_type": "stream",
     "text": [
      "22/22 [==============================] - 4s 138ms/step - loss: 8.2263 - accuracy: 0.4459\n",
      "Epoch 2/30\n",
      "22/22 [==============================] - 3s 151ms/step - loss: 8.5804 - accuracy: 0.4373\n",
      "Epoch 3/30\n",
      "22/22 [==============================] - 4s 167ms/step - loss: 8.5804 - accuracy: 0.4373\n",
      "Epoch 4/30\n",
      "22/22 [==============================] - 4s 165ms/step - loss: 8.5804 - accuracy: 0.4373\n",
      "Epoch 5/30\n",
      "22/22 [==============================] - 3s 148ms/step - loss: 8.5804 - accuracy: 0.4373\n",
      "Epoch 6/30\n",
      "22/22 [==============================] - 3s 149ms/step - loss: 8.5804 - accuracy: 0.4373\n",
      "Epoch 7/30\n",
      "22/22 [==============================] - ETA: 0s - loss: 8.5804 - accuracy: 0.43 - 3s 156ms/step - loss: 8.5804 - accuracy: 0.4373\n",
      "Epoch 8/30\n",
      "22/22 [==============================] - 4s 161ms/step - loss: 8.5804 - accuracy: 0.4373\n",
      "Epoch 9/30\n",
      "22/22 [==============================] - 4s 168ms/step - loss: 8.5804 - accuracy: 0.4373\n",
      "Epoch 10/30\n",
      "22/22 [==============================] - 4s 169ms/step - loss: 8.5804 - accuracy: 0.4373\n",
      "Epoch 11/30\n",
      "22/22 [==============================] - 4s 159ms/step - loss: 8.5804 - accuracy: 0.4373\n",
      "Epoch 12/30\n",
      "22/22 [==============================] - 3s 158ms/step - loss: 8.5804 - accuracy: 0.4373\n",
      "Epoch 13/30\n",
      "22/22 [==============================] - 3s 150ms/step - loss: 8.5804 - accuracy: 0.4373\n",
      "Epoch 14/30\n",
      "22/22 [==============================] - 3s 141ms/step - loss: 8.5804 - accuracy: 0.4373\n",
      "Epoch 15/30\n",
      "22/22 [==============================] - 3s 143ms/step - loss: 8.5804 - accuracy: 0.4373\n",
      "Epoch 16/30\n",
      "22/22 [==============================] - 3s 140ms/step - loss: 8.5804 - accuracy: 0.4373\n",
      "Epoch 17/30\n",
      "22/22 [==============================] - 3s 143ms/step - loss: 8.5804 - accuracy: 0.4373\n",
      "Epoch 18/30\n",
      "22/22 [==============================] - 3s 140ms/step - loss: 8.5804 - accuracy: 0.4373\n",
      "Epoch 19/30\n",
      "22/22 [==============================] - 3s 140ms/step - loss: 8.5804 - accuracy: 0.4373\n",
      "Epoch 20/30\n",
      "22/22 [==============================] - 3s 145ms/step - loss: 8.5804 - accuracy: 0.4373\n",
      "Epoch 21/30\n",
      "22/22 [==============================] - 3s 144ms/step - loss: 8.5804 - accuracy: 0.4373\n",
      "Epoch 22/30\n",
      "22/22 [==============================] - 3s 143ms/step - loss: 8.5804 - accuracy: 0.4373\n",
      "Epoch 23/30\n",
      "22/22 [==============================] - 3s 139ms/step - loss: 8.5804 - accuracy: 0.4373\n",
      "Epoch 24/30\n",
      "22/22 [==============================] - 3s 137ms/step - loss: 8.5804 - accuracy: 0.4373\n",
      "Epoch 25/30\n",
      "22/22 [==============================] - 3s 140ms/step - loss: 8.5804 - accuracy: 0.4373\n",
      "Epoch 26/30\n",
      "22/22 [==============================] - 3s 142ms/step - loss: 8.5804 - accuracy: 0.4373\n",
      "Epoch 27/30\n",
      "22/22 [==============================] - 3s 143ms/step - loss: 8.5804 - accuracy: 0.4373\n",
      "Epoch 28/30\n",
      "22/22 [==============================] - 3s 144ms/step - loss: 8.5804 - accuracy: 0.4373\n",
      "Epoch 29/30\n",
      "22/22 [==============================] - 3s 141ms/step - loss: 8.5804 - accuracy: 0.4373\n",
      "Epoch 30/30\n",
      "22/22 [==============================] - 3s 126ms/step - loss: 8.5804 - accuracy: 0.4373\n"
     ]
    }
   ],
   "source": [
    "early_stopping = tf.keras.callbacks.EarlyStopping(patience=5, restore_best_weights=True)\n",
    "optimizer = tf.keras.optimizers.Adam(learning_rate=0.01)\n",
    "\n",
    "model.compile(optimizer=optimizer,\n",
    "                loss='binary_crossentropy',\n",
    "                metrics=['accuracy'])\n",
    "\n",
    "history = model.fit(X_train, y_train, epochs=30)"
   ]
  },
  {
   "cell_type": "code",
   "execution_count": 12,
   "metadata": {},
   "outputs": [
    {
     "name": "stdout",
     "output_type": "stream",
     "text": [
      "              precision    recall  f1-score   support\n",
      "\n",
      "         0.0       0.00      0.00      0.00         0\n",
      "         1.0       1.00      0.47      0.64       176\n",
      "\n",
      "    accuracy                           0.47       176\n",
      "   macro avg       0.50      0.23      0.32       176\n",
      "weighted avg       1.00      0.47      0.64       176\n",
      "\n"
     ]
    },
    {
     "name": "stderr",
     "output_type": "stream",
     "text": [
      "C:\\Program Files\\Python38\\lib\\site-packages\\sklearn\\metrics\\_classification.py:1221: UndefinedMetricWarning: Recall and F-score are ill-defined and being set to 0.0 in labels with no true samples. Use `zero_division` parameter to control this behavior.\n",
      "  _warn_prf(average, modifier, msg_start, len(result))\n"
     ]
    }
   ],
   "source": [
    "from sklearn.metrics import classification_report\n",
    "\n",
    "predictions = [1. if x > 0.5 else 0. for x in model.predict(X_test)]\n",
    "print(classification_report(predictions, y_test))"
   ]
  },
  {
   "cell_type": "markdown",
   "metadata": {},
   "source": [
    "## Model 2: Simple RNN"
   ]
  },
  {
   "cell_type": "code",
   "execution_count": 20,
   "metadata": {},
   "outputs": [],
   "source": [
    "from keras.preprocessing import sequence\n",
    "\n",
    "maxlen = 50\n",
    "\n",
    "X_train = sequence.pad_sequences(X_train.toarray(), maxlen=maxlen, truncating=\"pre\", padding=\"post\")\n",
    "X_test = sequence.pad_sequences(X_test.toarray(), maxlen=maxlen, truncating=\"pre\", padding=\"post\")"
   ]
  },
  {
   "cell_type": "code",
   "execution_count": 21,
   "metadata": {},
   "outputs": [
    {
     "data": {
      "text/plain": [
       "50"
      ]
     },
     "execution_count": 21,
     "metadata": {},
     "output_type": "execute_result"
    }
   ],
   "source": [
    "max([len(x) for x in X_test])"
   ]
  },
  {
   "cell_type": "code",
   "execution_count": 22,
   "metadata": {},
   "outputs": [
    {
     "name": "stdout",
     "output_type": "stream",
     "text": [
      "Model: \"sequential_2\"\n",
      "_________________________________________________________________\n",
      " Layer (type)                Output Shape              Param #   \n",
      "=================================================================\n",
      " embedding (Embedding)       (None, None, 32)          1076832   \n",
      "                                                                 \n",
      " simple_rnn (SimpleRNN)      (None, 32)                2080      \n",
      "                                                                 \n",
      " dense_3 (Dense)             (None, 1)                 33        \n",
      "                                                                 \n",
      "=================================================================\n",
      "Total params: 1,078,945\n",
      "Trainable params: 1,078,945\n",
      "Non-trainable params: 0\n",
      "_________________________________________________________________\n"
     ]
    }
   ],
   "source": [
    "model = tf.keras.models.Sequential()\n",
    "model.add(tf.keras.layers.Embedding(num_words, 32))\n",
    "model.add(tf.keras.layers.SimpleRNN(32)) # return_sequences=True for getting the complete output sequence\n",
    "model.add(tf.keras.layers.Dense(1, activation='sigmoid'))\n",
    "model.summary()"
   ]
  },
  {
   "cell_type": "code",
   "execution_count": 24,
   "metadata": {},
   "outputs": [
    {
     "name": "stdout",
     "output_type": "stream",
     "text": [
      "Epoch 1/30\n",
      "22/22 [==============================] - 2s 17ms/step - loss: 0.6616 - accuracy: 0.6083\n",
      "Epoch 2/30\n",
      "22/22 [==============================] - 0s 23ms/step - loss: 0.6640 - accuracy: 0.6211\n",
      "Epoch 3/30\n",
      "22/22 [==============================] - 1s 32ms/step - loss: 0.6591 - accuracy: 0.6026\n",
      "Epoch 4/30\n",
      "22/22 [==============================] - 1s 38ms/step - loss: 0.6548 - accuracy: 0.6111\n",
      "Epoch 5/30\n",
      "22/22 [==============================] - 1s 39ms/step - loss: 0.6566 - accuracy: 0.6140\n",
      "Epoch 6/30\n",
      "22/22 [==============================] - 1s 40ms/step - loss: 0.6586 - accuracy: 0.6140\n",
      "Epoch 7/30\n",
      "22/22 [==============================] - 1s 39ms/step - loss: 0.6557 - accuracy: 0.6168\n",
      "Epoch 8/30\n",
      "22/22 [==============================] - 1s 41ms/step - loss: 0.6529 - accuracy: 0.6040\n",
      "Epoch 9/30\n",
      "22/22 [==============================] - 1s 40ms/step - loss: 0.6534 - accuracy: 0.6211\n",
      "Epoch 10/30\n",
      "22/22 [==============================] - 1s 41ms/step - loss: 0.6537 - accuracy: 0.6140\n",
      "Epoch 11/30\n",
      "22/22 [==============================] - 1s 39ms/step - loss: 0.6534 - accuracy: 0.6125\n",
      "Epoch 12/30\n",
      "22/22 [==============================] - 1s 38ms/step - loss: 0.6507 - accuracy: 0.6111\n",
      "Epoch 13/30\n",
      "22/22 [==============================] - 1s 42ms/step - loss: 0.6549 - accuracy: 0.6125\n",
      "Epoch 14/30\n",
      "22/22 [==============================] - 1s 39ms/step - loss: 0.6503 - accuracy: 0.6125\n",
      "Epoch 15/30\n",
      "22/22 [==============================] - 1s 39ms/step - loss: 0.6487 - accuracy: 0.6211\n",
      "Epoch 16/30\n",
      "22/22 [==============================] - 1s 38ms/step - loss: 0.6548 - accuracy: 0.6140\n",
      "Epoch 17/30\n",
      "22/22 [==============================] - 1s 40ms/step - loss: 0.6601 - accuracy: 0.6125\n",
      "Epoch 18/30\n",
      "22/22 [==============================] - 1s 39ms/step - loss: 0.6563 - accuracy: 0.6168\n",
      "Epoch 19/30\n",
      "22/22 [==============================] - 1s 38ms/step - loss: 0.6577 - accuracy: 0.6097\n",
      "Epoch 20/30\n",
      "22/22 [==============================] - 1s 37ms/step - loss: 0.6537 - accuracy: 0.6083\n",
      "Epoch 21/30\n",
      "22/22 [==============================] - 1s 42ms/step - loss: 0.6565 - accuracy: 0.6026\n",
      "Epoch 22/30\n",
      "22/22 [==============================] - 1s 44ms/step - loss: 0.6565 - accuracy: 0.6040 0s - loss: 0.6416 - \n",
      "Epoch 23/30\n",
      "22/22 [==============================] - 1s 42ms/step - loss: 0.6572 - accuracy: 0.6111\n",
      "Epoch 24/30\n",
      "22/22 [==============================] - 1s 42ms/step - loss: 0.6515 - accuracy: 0.6097\n",
      "Epoch 25/30\n",
      "22/22 [==============================] - 1s 43ms/step - loss: 0.6499 - accuracy: 0.6211\n",
      "Epoch 26/30\n",
      "22/22 [==============================] - 1s 42ms/step - loss: 0.6470 - accuracy: 0.6211\n",
      "Epoch 27/30\n",
      "22/22 [==============================] - 1s 39ms/step - loss: 0.6535 - accuracy: 0.6125\n",
      "Epoch 28/30\n",
      "22/22 [==============================] - 1s 39ms/step - loss: 0.6546 - accuracy: 0.6154\n",
      "Epoch 29/30\n",
      "22/22 [==============================] - 1s 38ms/step - loss: 0.6526 - accuracy: 0.6097\n",
      "Epoch 30/30\n",
      "22/22 [==============================] - 1s 40ms/step - loss: 0.6491 - accuracy: 0.6154\n"
     ]
    }
   ],
   "source": [
    "early_stopping = tf.keras.callbacks.EarlyStopping(patience=5, restore_best_weights=True)\n",
    "optimizer = tf.keras.optimizers.Adam(learning_rate=0.001)\n",
    "\n",
    "model.compile(optimizer=optimizer,\n",
    "                loss='binary_crossentropy',\n",
    "                metrics=['accuracy'])\n",
    "\n",
    "num_epochs = 30\n",
    "history = model.fit(X_train, y_train, epochs=num_epochs)"
   ]
  },
  {
   "cell_type": "code",
   "execution_count": 25,
   "metadata": {},
   "outputs": [
    {
     "name": "stdout",
     "output_type": "stream",
     "text": [
      "              precision    recall  f1-score   support\n",
      "\n",
      "         0.0       0.98      0.56      0.71       165\n",
      "         1.0       0.11      0.82      0.19        11\n",
      "\n",
      "    accuracy                           0.57       176\n",
      "   macro avg       0.54      0.69      0.45       176\n",
      "weighted avg       0.92      0.57      0.68       176\n",
      "\n"
     ]
    }
   ],
   "source": [
    "predictions = [1. if x > 0.5 else 0. for x in model.predict(X_test)]\n",
    "print(classification_report(predictions, y_test))"
   ]
  },
  {
   "cell_type": "markdown",
   "metadata": {},
   "source": [
    "## Model 3: Long-Short Term Memory (LSTM)"
   ]
  },
  {
   "cell_type": "code",
   "execution_count": 27,
   "metadata": {},
   "outputs": [],
   "source": [
    "maxlen = 200\n",
    "\n",
    "X_train = sequence.pad_sequences(X_train, maxlen=maxlen, truncating=\"pre\", padding=\"post\")\n",
    "X_test = sequence.pad_sequences(X_test, maxlen=maxlen, truncating=\"pre\", padding=\"post\")"
   ]
  },
  {
   "cell_type": "code",
   "execution_count": 28,
   "metadata": {},
   "outputs": [
    {
     "name": "stdout",
     "output_type": "stream",
     "text": [
      "Model: \"sequential_3\"\n",
      "_________________________________________________________________\n",
      " Layer (type)                Output Shape              Param #   \n",
      "=================================================================\n",
      " embedding_1 (Embedding)     (None, None, 32)          1076832   \n",
      "                                                                 \n",
      " lstm (LSTM)                 (None, 32)                8320      \n",
      "                                                                 \n",
      " dense_4 (Dense)             (None, 1)                 33        \n",
      "                                                                 \n",
      "=================================================================\n",
      "Total params: 1,085,185\n",
      "Trainable params: 1,085,185\n",
      "Non-trainable params: 0\n",
      "_________________________________________________________________\n"
     ]
    }
   ],
   "source": [
    "from keras.layers import LSTM\n",
    "\n",
    "model = tf.keras.models.Sequential()\n",
    "model.add(tf.keras.layers.Embedding(num_words, 32))\n",
    "model.add(tf.keras.layers.LSTM(32))\n",
    "model.add(tf.keras.layers.Dense(1, activation='sigmoid'))\n",
    "model.summary()"
   ]
  },
  {
   "cell_type": "code",
   "execution_count": 29,
   "metadata": {},
   "outputs": [
    {
     "name": "stdout",
     "output_type": "stream",
     "text": [
      "Epoch 1/30\n",
      "22/22 [==============================] - 8s 139ms/step - loss: 0.6889 - accuracy: 0.5513\n",
      "Epoch 2/30\n",
      "22/22 [==============================] - 4s 164ms/step - loss: 0.6875 - accuracy: 0.5627\n",
      "Epoch 3/30\n",
      "22/22 [==============================] - 4s 174ms/step - loss: 0.6875 - accuracy: 0.5627\n",
      "Epoch 4/30\n",
      "22/22 [==============================] - 3s 135ms/step - loss: 0.6880 - accuracy: 0.5627\n",
      "Epoch 5/30\n",
      "22/22 [==============================] - 3s 133ms/step - loss: 0.6859 - accuracy: 0.5627\n",
      "Epoch 6/30\n",
      "22/22 [==============================] - 3s 132ms/step - loss: 0.6864 - accuracy: 0.5627\n",
      "Epoch 7/30\n",
      "22/22 [==============================] - 3s 133ms/step - loss: 0.6857 - accuracy: 0.5627\n",
      "Epoch 8/30\n",
      "22/22 [==============================] - 3s 131ms/step - loss: 0.6862 - accuracy: 0.5627\n",
      "Epoch 9/30\n",
      "22/22 [==============================] - 3s 159ms/step - loss: 0.6860 - accuracy: 0.56270s - loss: 0.6885 - ac\n",
      "Epoch 10/30\n",
      "22/22 [==============================] - 4s 169ms/step - loss: 0.6855 - accuracy: 0.5627\n",
      "Epoch 11/30\n",
      "22/22 [==============================] - 4s 190ms/step - loss: 0.6870 - accuracy: 0.5627\n",
      "Epoch 12/30\n",
      "22/22 [==============================] - 5s 229ms/step - loss: 0.6865 - accuracy: 0.5627\n",
      "Epoch 13/30\n",
      "22/22 [==============================] - 4s 181ms/step - loss: 0.6855 - accuracy: 0.5627\n",
      "Epoch 14/30\n",
      "22/22 [==============================] - 4s 164ms/step - loss: 0.6854 - accuracy: 0.5627\n",
      "Epoch 15/30\n",
      "22/22 [==============================] - 4s 167ms/step - loss: 0.6861 - accuracy: 0.5627\n",
      "Epoch 16/30\n",
      "22/22 [==============================] - 4s 181ms/step - loss: 0.6855 - accuracy: 0.5627\n",
      "Epoch 17/30\n",
      "22/22 [==============================] - 4s 196ms/step - loss: 0.6855 - accuracy: 0.5627\n",
      "Epoch 18/30\n",
      "22/22 [==============================] - 4s 198ms/step - loss: 0.6855 - accuracy: 0.5627\n",
      "Epoch 19/30\n",
      "22/22 [==============================] - 4s 169ms/step - loss: 0.6856 - accuracy: 0.5627\n",
      "Epoch 20/30\n",
      "22/22 [==============================] - 3s 145ms/step - loss: 0.6863 - accuracy: 0.5627\n",
      "Epoch 21/30\n",
      "22/22 [==============================] - 3s 145ms/step - loss: 0.6864 - accuracy: 0.5627\n",
      "Epoch 22/30\n",
      "22/22 [==============================] - 3s 147ms/step - loss: 0.6853 - accuracy: 0.5627\n",
      "Epoch 23/30\n",
      "22/22 [==============================] - 3s 148ms/step - loss: 0.6853 - accuracy: 0.5627\n",
      "Epoch 24/30\n",
      "22/22 [==============================] - 3s 145ms/step - loss: 0.6859 - accuracy: 0.5627\n",
      "Epoch 25/30\n",
      "22/22 [==============================] - 3s 151ms/step - loss: 0.6854 - accuracy: 0.5627\n",
      "Epoch 26/30\n",
      "22/22 [==============================] - 3s 152ms/step - loss: 0.6856 - accuracy: 0.5627\n",
      "Epoch 27/30\n",
      "22/22 [==============================] - 3s 148ms/step - loss: 0.6855 - accuracy: 0.5627\n",
      "Epoch 28/30\n",
      "22/22 [==============================] - 3s 145ms/step - loss: 0.6857 - accuracy: 0.5627\n",
      "Epoch 29/30\n",
      "22/22 [==============================] - 3s 149ms/step - loss: 0.6858 - accuracy: 0.5627\n",
      "Epoch 30/30\n",
      "22/22 [==============================] - 3s 150ms/step - loss: 0.6859 - accuracy: 0.5627\n"
     ]
    }
   ],
   "source": [
    "optimizer = tf.keras.optimizers.Adam(learning_rate=0.01)\n",
    "\n",
    "model.compile(optimizer=optimizer,\n",
    "                loss='binary_crossentropy',\n",
    "                metrics=['accuracy'])\n",
    "\n",
    "num_epochs = 30\n",
    "history = model.fit(X_train, y_train, epochs=num_epochs)"
   ]
  },
  {
   "cell_type": "code",
   "execution_count": 30,
   "metadata": {},
   "outputs": [
    {
     "name": "stdout",
     "output_type": "stream",
     "text": [
      "              precision    recall  f1-score   support\n",
      "\n",
      "         0.0       1.00      0.53      0.70       176\n",
      "         1.0       0.00      0.00      0.00         0\n",
      "\n",
      "    accuracy                           0.53       176\n",
      "   macro avg       0.50      0.27      0.35       176\n",
      "weighted avg       1.00      0.53      0.70       176\n",
      "\n"
     ]
    },
    {
     "name": "stderr",
     "output_type": "stream",
     "text": [
      "C:\\Program Files\\Python38\\lib\\site-packages\\sklearn\\metrics\\_classification.py:1221: UndefinedMetricWarning: Recall and F-score are ill-defined and being set to 0.0 in labels with no true samples. Use `zero_division` parameter to control this behavior.\n",
      "  _warn_prf(average, modifier, msg_start, len(result))\n"
     ]
    }
   ],
   "source": [
    "predictions = [1. if x > 0.5 else 0. for x in model.predict(X_test)]\n",
    "print(classification_report(predictions, y_test))"
   ]
  }
 ],
 "metadata": {
  "interpreter": {
   "hash": "1baa965d5efe3ac65b79dfc60c0d706280b1da80fedb7760faf2759126c4f253"
  },
  "kernelspec": {
   "display_name": "Python 3.8.2 64-bit",
   "language": "python",
   "name": "python3"
  },
  "language_info": {
   "codemirror_mode": {
    "name": "ipython",
    "version": 3
   },
   "file_extension": ".py",
   "mimetype": "text/x-python",
   "name": "python",
   "nbconvert_exporter": "python",
   "pygments_lexer": "ipython3",
   "version": "3.8.2"
  },
  "orig_nbformat": 4
 },
 "nbformat": 4,
 "nbformat_minor": 2
}
