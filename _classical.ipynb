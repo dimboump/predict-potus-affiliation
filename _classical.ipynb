{
 "cells": [
  {
   "cell_type": "code",
   "execution_count": 4,
   "metadata": {},
   "outputs": [],
   "source": [
    "import os\n",
    "import pandas as pd\n",
    "\n",
    "from sklearn.feature_extraction.text import TfidfVectorizer\n",
    "from sklearn.model_selection import train_test_split, GridSearchCV, ShuffleSplit, cross_val_score\n",
    "from sklearn.metrics import accuracy_score, plot_confusion_matrix, classification_report\n",
    "from sklearn.pipeline import make_pipeline\n",
    "from sklearn.linear_model import LogisticRegression\n",
    "from sklearn.svm import SVC\n"
   ]
  },
  {
   "cell_type": "code",
   "execution_count": 6,
   "metadata": {},
   "outputs": [],
   "source": [
    "# Run this except for the first time\n",
    "speeches_cleaned = pd.read_csv(os.path.join('.', 'presidential_speeches_cleaned.csv'), sep=',', encoding='utf8')\n",
    "transcripts_copy = speeches_cleaned['Cleaned'].copy()"
   ]
  },
  {
   "cell_type": "code",
   "execution_count": 7,
   "metadata": {},
   "outputs": [],
   "source": [
    "# Convert categorical variables to numeric\n",
    "speeches_cleaned['Party'].replace({'Democratic': 0,'Republican': 1}, inplace=True)"
   ]
  },
  {
   "cell_type": "code",
   "execution_count": 8,
   "metadata": {},
   "outputs": [
    {
     "data": {
      "text/plain": [
       "<878x42059 sparse matrix of type '<class 'numpy.float64'>'\n",
       "\twith 780203 stored elements in Compressed Sparse Row format>"
      ]
     },
     "execution_count": 8,
     "metadata": {},
     "output_type": "execute_result"
    }
   ],
   "source": [
    "vect = TfidfVectorizer(input='english') # input= is mandatory from v0.25 onwards!\n",
    "transcripts_vect = vect.fit_transform(transcripts_copy)\n",
    "transcripts_vect"
   ]
  },
  {
   "cell_type": "code",
   "execution_count": 9,
   "metadata": {},
   "outputs": [],
   "source": [
    "X_train, X_test, y_train, y_test = train_test_split(transcripts_vect, speeches_cleaned['Party'], test_size=0.2, random_state=42)"
   ]
  },
  {
   "cell_type": "code",
   "execution_count": 7,
   "metadata": {},
   "outputs": [
    {
     "name": "stdout",
     "output_type": "stream",
     "text": [
      "0.7670454545454546\n"
     ]
    },
    {
     "data": {
      "text/plain": [
       "<sklearn.metrics._plot.confusion_matrix.ConfusionMatrixDisplay at 0x1840d867ee0>"
      ]
     },
     "execution_count": 7,
     "metadata": {},
     "output_type": "execute_result"
    },
    {
     "data": {
      "image/png": "[encoded data removed]",
      "text/plain": [
       "<Figure size 640x480 with 2 Axes>"
      ]
     },
     "metadata": {},
     "output_type": "display_data"
    }
   ],
   "source": [
    "logreg = LogisticRegression()\n",
    "logreg.fit(X_train, y_train)\n",
    "pred = logreg.predict(X_test)\n",
    "\n",
    "print(accuracy_score(y_test, pred))\n",
    "plot_confusion_matrix(logreg, X_test, y_test)"
   ]
  },
  {
   "cell_type": "markdown",
   "metadata": {},
   "source": [
    "## SVM Classifier"
   ]
  },
  {
   "cell_type": "code",
   "execution_count": 20,
   "metadata": {},
   "outputs": [
    {
     "name": "stdout",
     "output_type": "stream",
     "text": [
      "Parameters for svc_0 in use:\n",
      " {'C': 1.0, 'break_ties': False, 'cache_size': 200, 'class_weight': None, 'coef0': 0.0, 'decision_function_shape': 'ovr', 'degree': 3, 'gamma': 'scale', 'kernel': 'rbf', 'max_iter': -1, 'probability': False, 'random_state': 42, 'shrinking': True, 'tol': 0.001, 'verbose': False} \n",
      "\n",
      "Parameters for svc_1 in use:\n",
      " {'C': 1.0, 'class_weight': None, 'dual': True, 'fit_intercept': True, 'intercept_scaling': 1, 'loss': 'squared_hinge', 'max_iter': 1000, 'multi_class': 'ovr', 'penalty': 'l2', 'random_state': 42, 'tol': 0.0001, 'verbose': 0}\n"
     ]
    }
   ],
   "source": [
    "svc_0 = SVC(random_state=42)\n",
    "\n",
    "print('Parameters for svc_0 in use:\\n', svc_0.get_params())"
   ]
  },
  {
   "cell_type": "code",
   "execution_count": 21,
   "metadata": {},
   "outputs": [
    {
     "name": "stdout",
     "output_type": "stream",
     "text": [
      "Fitting 3 folds for each of 63 candidates, totalling 189 fits\n"
     ]
    },
    {
     "name": "stderr",
     "output_type": "stream",
     "text": [
      "[Parallel(n_jobs=-1)]: Using backend LokyBackend with 8 concurrent workers.\n",
      "[Parallel(n_jobs=-1)]: Done  34 tasks      | elapsed:  4.7min\n",
      "[Parallel(n_jobs=-1)]: Done 189 out of 189 | elapsed: 22.3min finished\n"
     ]
    },
    {
     "data": {
      "text/plain": [
       "GridSearchCV(cv=ShuffleSplit(n_splits=3, random_state=42, test_size=0.2, train_size=None),\n",
       "             estimator=SVC(random_state=42), n_jobs=-1,\n",
       "             param_grid=[{'C': [0.0001, 0.001, 0.01, 0.1, 1, 10, 100],\n",
       "                          'kernel': ['linear'], 'probability': [True]},\n",
       "                         {'C': [0.0001, 0.001, 0.01, 0.1, 1, 10, 100],\n",
       "                          'degree': [1, 2, 3, 4, 5], 'kernel': ['poly'],\n",
       "                          'probability': [True]},\n",
       "                         {'C': [0.0001, 0.001, 0.01, 0.1, 1, 10, 100],\n",
       "                          'gamma': [1, 10, 100], 'kernel': ['rbf'],\n",
       "                          'probability': [True]}],\n",
       "             scoring='accuracy', verbose=1)"
      ]
     },
     "execution_count": 21,
     "metadata": {},
     "output_type": "execute_result"
    }
   ],
   "source": [
    "# Create the parameter grid\n",
    "C = [.0001, .001, .01, .1, 1, 10, 100]\n",
    "degree = [1, 2, 3, 4, 5]\n",
    "gamma = [1, 10, 100]\n",
    "probability = [True]\n",
    "\n",
    "param_grid = [\n",
    "  {'C': C, 'kernel': ['linear'], 'probability': probability},\n",
    "  {'C': C, 'kernel': ['poly'], 'degree': degree, 'probability': probability},\n",
    "  {'C': C, 'kernel': ['rbf'], 'gamma': gamma, 'probability': probability}\n",
    "]\n",
    "\n",
    "# Create a base model\n",
    "svc = SVC(random_state=42)\n",
    "\n",
    "# Manually create the splits in CV in order to be able to fix a random_state (GridSearchCV doesn't have that argument)\n",
    "cv_sets = ShuffleSplit(n_splits=3, test_size =.2, random_state=42)\n",
    "\n",
    "# Instantiate the grid search model\n",
    "grid_search = GridSearchCV(estimator=svc, \n",
    "                           param_grid=param_grid,\n",
    "                           scoring='f1_macro',\n",
    "                           cv=cv_sets,\n",
    "                           n_jobs=-1,\n",
    "                           verbose=1)\n",
    "\n",
    "# Fit the grid search to the data\n",
    "grid_search.fit(X_train, y_train)"
   ]
  },
  {
   "cell_type": "code",
   "execution_count": 22,
   "metadata": {},
   "outputs": [
    {
     "name": "stdout",
     "output_type": "stream",
     "text": [
      "The best hyperparameters from Grid Search are:\n",
      " {'C': 10, 'kernel': 'linear', 'probability': True}\n",
      "\n",
      "The mean accuracy of a model with these hyperparameters is:\n",
      " 0.839243498817967\n"
     ]
    }
   ],
   "source": [
    "print('The best hyperparameters from Grid Search are:\\n', grid_search.best_params_)\n",
    "print('\\nThe mean accuracy of a model with these hyperparameters is:\\n', grid_search.best_score_)"
   ]
  },
  {
   "cell_type": "code",
   "execution_count": 24,
   "metadata": {},
   "outputs": [
    {
     "name": "stdout",
     "output_type": "stream",
     "text": [
      "Test accuracy: 0.7954545454545454\n"
     ]
    }
   ],
   "source": [
    "best_svc = grid_search.best_estimator_\n",
    "best_svc.fit(X_train, y_train)\n",
    "\n",
    "svc_pred = best_svc.predict(X_test)\n",
    "\n",
    "# Test accuracy\n",
    "print('Test accuracy:', accuracy_score(y_test, svc_pred))"
   ]
  },
  {
   "cell_type": "code",
   "execution_count": 25,
   "metadata": {},
   "outputs": [
    {
     "data": {
      "text/plain": [
       "<sklearn.metrics._plot.confusion_matrix.ConfusionMatrixDisplay at 0x1847b8269a0>"
      ]
     },
     "execution_count": 25,
     "metadata": {},
     "output_type": "execute_result"
    },
    {
     "data": {
      "image/png": "[encoded data removed]",
      "text/plain": [
       "<Figure size 640x480 with 2 Axes>"
      ]
     },
     "metadata": {},
     "output_type": "display_data"
    }
   ],
   "source": [
    "plot_confusion_matrix(best_svc, X_test, y_test)"
   ]
  },
  {
   "cell_type": "code",
   "execution_count": 28,
   "metadata": {},
   "outputs": [
    {
     "name": "stdout",
     "output_type": "stream",
     "text": [
      "              precision    recall  f1-score   support\n",
      "\n",
      "  Democratic       0.81      0.81      0.81        94\n",
      "  Republican       0.78      0.78      0.78        82\n",
      "\n",
      "    accuracy                           0.80       176\n",
      "   macro avg       0.79      0.79      0.79       176\n",
      "weighted avg       0.80      0.80      0.80       176\n",
      "\n"
     ]
    },
    {
     "data": {
      "text/plain": [
       "array([0.9281522 , 0.79796748, 0.85119048, 0.94166667, 0.85119048,\n",
       "       0.95642249, 0.89746809, 0.89746809, 0.77805961, 0.92784993])"
      ]
     },
     "execution_count": 28,
     "metadata": {},
     "output_type": "execute_result"
    }
   ],
   "source": [
    "print(classification_report(y_test, svc_pred))\n",
    "scores = cross_val_score(estimator=best_svc, X=X_train, y=y_train, cv=10, scoring='f1_macro')\n",
    "scores"
   ]
  },
  {
   "cell_type": "markdown",
   "metadata": {},
   "source": [
    "## k Nearest Neighbors"
   ]
  },
  {
   "cell_type": "code",
   "execution_count": 11,
   "metadata": {},
   "outputs": [
    {
     "data": {
      "text/plain": [
       "dict_keys(['algorithm', 'leaf_size', 'metric', 'metric_params', 'n_jobs', 'n_neighbors', 'p', 'weights'])"
      ]
     },
     "execution_count": 11,
     "metadata": {},
     "output_type": "execute_result"
    }
   ],
   "source": [
    "from sklearn.neighbors import KNeighborsClassifier\n",
    "\n",
    "knn = KNeighborsClassifier()\n",
    "knn.get_params().keys()"
   ]
  },
  {
   "cell_type": "code",
   "execution_count": 16,
   "metadata": {},
   "outputs": [
    {
     "data": {
      "image/png": "[encoded data removed]",
      "text/plain": [
       "<Figure size 640x480 with 1 Axes>"
      ]
     },
     "metadata": {},
     "output_type": "display_data"
    }
   ],
   "source": [
    "from sklearn.model_selection import RandomizedSearchCV\n",
    "\n",
    "accuracies, params = [], []\n",
    "\n",
    "for k in range(1, 26):\n",
    "    params.append(k)\n",
    "    knn = KNeighborsClassifier(n_neighbors = k)\n",
    "    pipe = make_pipeline(knn)\n",
    "    scores = cross_val_score(pipe, transcripts_vect, speeches_cleaned['Party'], cv=10, scoring='f1_macro')\n",
    "    accuracies.append(scores.mean())\n",
    "\n",
    "plt.plot(params, accuracies)\n",
    "plt.show()"
   ]
  },
  {
   "cell_type": "code",
   "execution_count": 20,
   "metadata": {},
   "outputs": [
    {
     "name": "stdout",
     "output_type": "stream",
     "text": [
      "0.8033802816901409 {'n_neighbors': 1}\n",
      "              precision    recall  f1-score   support\n",
      "\n",
      "           0       0.80      0.83      0.82        94\n",
      "           1       0.80      0.77      0.78        82\n",
      "\n",
      "    accuracy                           0.80       176\n",
      "   macro avg       0.80      0.80      0.80       176\n",
      "weighted avg       0.80      0.80      0.80       176\n",
      "\n"
     ]
    },
    {
     "data": {
      "text/plain": [
       "<sklearn.metrics._plot.confusion_matrix.ConfusionMatrixDisplay at 0x24870273f10>"
      ]
     },
     "execution_count": 20,
     "metadata": {},
     "output_type": "execute_result"
    },
    {
     "data": {
      "image/png": "[encoded data removed]",
      "text/plain": [
       "<Figure size 640x480 with 2 Axes>"
      ]
     },
     "metadata": {},
     "output_type": "display_data"
    }
   ],
   "source": [
    "params = dict(n_neighbors=list(range(1, 26)))\n",
    "\n",
    "rs_knn = RandomizedSearchCV(estimator=knn, param_distributions=params, scoring='accuracy', cv=10, n_jobs=-1, refit=True)\n",
    "rs_knn.fit(X_train, y_train)\n",
    "\n",
    "print(rs_knn.best_score_, rs_knn.best_params_)\n",
    "knn_pred = rs_knn.best_estimator_.predict(X_test)\n",
    "print(classification_report(y_test, knn_pred))\n",
    "scores = cross_val_score(estimator=rs_knn, X=X_train, y=y_train, cv=10, scoring='accuracy')\n",
    "plot_confusion_matrix(rs_knn, X_test, y_test)"
   ]
  },
  {
   "cell_type": "markdown",
   "metadata": {},
   "source": [
    "## Deep Learning models\n",
    "\n",
    "### Multivariate Logistic Regression"
   ]
  },
  {
   "cell_type": "code",
   "execution_count": 71,
   "metadata": {},
   "outputs": [
    {
     "data": {
      "text/plain": [
       "290    0\n",
       "685    1\n",
       "547    1\n",
       "833    1\n",
       "770    1\n",
       "Name: Party, dtype: int64"
      ]
     },
     "execution_count": 71,
     "metadata": {},
     "output_type": "execute_result"
    }
   ],
   "source": [
    "y_train.head()"
   ]
  },
  {
   "cell_type": "code",
   "execution_count": 98,
   "metadata": {},
   "outputs": [
    {
     "data": {
      "text/plain": [
       "100"
      ]
     },
     "execution_count": 98,
     "metadata": {},
     "output_type": "execute_result"
    }
   ],
   "source": [
    "def vectorize_sequences(sequences, dim):\n",
    "    results = np.zeros((len(sequences), dim))\n",
    "    for i, sequence in enumerate(sequences):\n",
    "        results[i, sequence] = 1.\n",
    "    return results.astype('float32')\n",
    "\n",
    "X_train_dl = vectorize_sequences(X_train.astype('int').todense(), 100)\n",
    "X_test_dl = vectorize_sequences(X_test.astype('int').todense(), 100)\n",
    "\n",
    "X_train_dl.shape, X_test_dl.shape"
   ]
  },
  {
   "cell_type": "code",
   "execution_count": 38,
   "metadata": {},
   "outputs": [],
   "source": [
    "import tensorflow as tf\n",
    "from tensorflow.keras import layers\n",
    "import matplotlib.pyplot as plt\n",
    "import numpy as np\n",
    "import seaborn as sns\n",
    "import random\n",
    "\n",
    "np.random.seed(1234)\n",
    "tf.random.set_seed(1234)"
   ]
  },
  {
   "cell_type": "code",
   "execution_count": 79,
   "metadata": {},
   "outputs": [
    {
     "name": "stdout",
     "output_type": "stream",
     "text": [
      "Epoch 1/100\n",
      "8/8 [==============================] - 1s 4ms/step - loss: 0.3397\n",
      "Epoch 2/100\n",
      "8/8 [==============================] - 0s 4ms/step - loss: 0.2613\n",
      "Epoch 3/100\n",
      "8/8 [==============================] - 0s 4ms/step - loss: 0.2472\n",
      "Epoch 4/100\n",
      "8/8 [==============================] - 0s 4ms/step - loss: 0.2531\n",
      "Epoch 5/100\n",
      "8/8 [==============================] - 0s 4ms/step - loss: 0.2534\n",
      "Epoch 6/100\n",
      "8/8 [==============================] - 0s 4ms/step - loss: 0.2488\n",
      "Epoch 7/100\n",
      "8/8 [==============================] - 0s 4ms/step - loss: 0.2470\n",
      "Epoch 8/100\n",
      "8/8 [==============================] - 0s 4ms/step - loss: 0.2533\n",
      "Epoch 9/100\n",
      "8/8 [==============================] - 0s 4ms/step - loss: 0.2585\n",
      "Epoch 10/100\n",
      "8/8 [==============================] - 0s 4ms/step - loss: 0.2573\n",
      "Epoch 11/100\n",
      "8/8 [==============================] - 0s 4ms/step - loss: 0.2469\n",
      "Epoch 12/100\n",
      "8/8 [==============================] - 0s 4ms/step - loss: 0.2536\n",
      "Epoch 13/100\n",
      "8/8 [==============================] - 0s 3ms/step - loss: 0.2582\n",
      "Epoch 14/100\n",
      "8/8 [==============================] - 0s 4ms/step - loss: 0.2528\n",
      "Epoch 15/100\n",
      "8/8 [==============================] - 0s 3ms/step - loss: 0.2464\n",
      "Epoch 16/100\n",
      "8/8 [==============================] - 0s 3ms/step - loss: 0.2462\n",
      "Epoch 17/100\n",
      "8/8 [==============================] - 0s 3ms/step - loss: 0.2463\n",
      "Epoch 18/100\n",
      "8/8 [==============================] - 0s 5ms/step - loss: 0.2551\n",
      "Epoch 19/100\n",
      "8/8 [==============================] - 0s 4ms/step - loss: 0.2545\n",
      "Epoch 20/100\n",
      "8/8 [==============================] - 0s 4ms/step - loss: 0.2525\n",
      "Epoch 21/100\n",
      "8/8 [==============================] - 0s 3ms/step - loss: 0.2610\n",
      "Epoch 22/100\n",
      "8/8 [==============================] - 0s 4ms/step - loss: 0.2465\n",
      "Epoch 23/100\n",
      "8/8 [==============================] - 0s 4ms/step - loss: 0.2555\n",
      "Epoch 24/100\n",
      "8/8 [==============================] - 0s 4ms/step - loss: 0.2470\n",
      "Epoch 25/100\n",
      "8/8 [==============================] - 0s 4ms/step - loss: 0.2466\n",
      "Epoch 26/100\n",
      "8/8 [==============================] - 0s 4ms/step - loss: 0.2539\n",
      "Epoch 27/100\n",
      "8/8 [==============================] - 0s 4ms/step - loss: 0.2469\n",
      "Epoch 28/100\n",
      "8/8 [==============================] - 0s 3ms/step - loss: 0.2538\n",
      "Epoch 29/100\n",
      "8/8 [==============================] - 0s 3ms/step - loss: 0.2538\n",
      "Epoch 30/100\n",
      "8/8 [==============================] - 0s 4ms/step - loss: 0.2466\n",
      "Epoch 31/100\n",
      "8/8 [==============================] - 0s 4ms/step - loss: 0.2535\n",
      "Epoch 32/100\n",
      "8/8 [==============================] - 0s 3ms/step - loss: 0.2472\n",
      "Epoch 33/100\n",
      "8/8 [==============================] - 0s 3ms/step - loss: 0.2465\n",
      "Epoch 34/100\n",
      "8/8 [==============================] - 0s 4ms/step - loss: 0.2526\n",
      "Epoch 35/100\n",
      "8/8 [==============================] - 0s 4ms/step - loss: 0.2519\n",
      "Epoch 36/100\n",
      "8/8 [==============================] - 0s 3ms/step - loss: 0.2547\n",
      "Epoch 37/100\n",
      "8/8 [==============================] - 0s 3ms/step - loss: 0.2463\n",
      "Epoch 38/100\n",
      "8/8 [==============================] - 0s 3ms/step - loss: 0.2469\n",
      "Epoch 39/100\n",
      "8/8 [==============================] - 0s 3ms/step - loss: 0.2520\n",
      "Epoch 40/100\n",
      "8/8 [==============================] - 0s 3ms/step - loss: 0.2469\n",
      "Epoch 41/100\n",
      "8/8 [==============================] - 0s 3ms/step - loss: 0.2600\n",
      "Epoch 42/100\n",
      "8/8 [==============================] - 0s 3ms/step - loss: 0.2537\n",
      "Epoch 43/100\n",
      "8/8 [==============================] - 0s 3ms/step - loss: 0.2547\n",
      "Epoch 44/100\n",
      "8/8 [==============================] - 0s 3ms/step - loss: 0.2546\n",
      "Epoch 45/100\n",
      "8/8 [==============================] - 0s 4ms/step - loss: 0.2471\n",
      "Epoch 46/100\n",
      "8/8 [==============================] - 0s 3ms/step - loss: 0.2482\n",
      "Epoch 47/100\n",
      "8/8 [==============================] - 0s 3ms/step - loss: 0.2574\n",
      "Epoch 48/100\n",
      "8/8 [==============================] - 0s 3ms/step - loss: 0.2467\n",
      "Epoch 49/100\n",
      "8/8 [==============================] - 0s 3ms/step - loss: 0.2521\n",
      "Epoch 50/100\n",
      "8/8 [==============================] - 0s 3ms/step - loss: 0.2459\n",
      "Epoch 51/100\n",
      "8/8 [==============================] - 0s 3ms/step - loss: 0.2585\n",
      "Epoch 52/100\n",
      "8/8 [==============================] - 0s 3ms/step - loss: 0.2589\n",
      "Epoch 53/100\n",
      "8/8 [==============================] - 0s 3ms/step - loss: 0.2530\n",
      "Epoch 54/100\n",
      "8/8 [==============================] - 0s 3ms/step - loss: 0.2463\n",
      "Epoch 55/100\n",
      "8/8 [==============================] - 0s 3ms/step - loss: 0.2589\n",
      "Epoch 56/100\n",
      "8/8 [==============================] - 0s 3ms/step - loss: 0.2469\n",
      "Epoch 57/100\n",
      "8/8 [==============================] - 0s 3ms/step - loss: 0.2471\n",
      "Epoch 58/100\n",
      "8/8 [==============================] - 0s 2ms/step - loss: 0.2471\n",
      "Epoch 59/100\n",
      "8/8 [==============================] - 0s 3ms/step - loss: 0.2468\n",
      "Epoch 60/100\n",
      "8/8 [==============================] - 0s 3ms/step - loss: 0.2567\n",
      "Epoch 61/100\n",
      "8/8 [==============================] - 0s 3ms/step - loss: 0.2465\n",
      "Epoch 62/100\n",
      "8/8 [==============================] - 0s 2ms/step - loss: 0.2467\n",
      "Epoch 63/100\n",
      "8/8 [==============================] - 0s 2ms/step - loss: 0.2470\n",
      "Epoch 64/100\n",
      "8/8 [==============================] - 0s 3ms/step - loss: 0.2466\n",
      "Epoch 65/100\n",
      "8/8 [==============================] - 0s 4ms/step - loss: 0.2466\n",
      "Epoch 66/100\n",
      "8/8 [==============================] - 0s 3ms/step - loss: 0.2552\n",
      "Epoch 67/100\n",
      "8/8 [==============================] - 0s 3ms/step - loss: 0.2574\n",
      "Epoch 68/100\n",
      "8/8 [==============================] - 0s 3ms/step - loss: 0.2473\n",
      "Epoch 69/100\n",
      "8/8 [==============================] - 0s 3ms/step - loss: 0.2470\n",
      "Epoch 70/100\n",
      "8/8 [==============================] - 0s 3ms/step - loss: 0.2465\n",
      "Epoch 71/100\n",
      "8/8 [==============================] - 0s 3ms/step - loss: 0.2554\n",
      "Epoch 72/100\n",
      "8/8 [==============================] - 0s 3ms/step - loss: 0.2550\n",
      "Epoch 73/100\n",
      "8/8 [==============================] - 0s 2ms/step - loss: 0.2466\n",
      "Epoch 74/100\n",
      "8/8 [==============================] - 0s 3ms/step - loss: 0.2560\n",
      "Epoch 75/100\n",
      "8/8 [==============================] - 0s 3ms/step - loss: 0.2464\n",
      "Epoch 76/100\n",
      "8/8 [==============================] - 0s 3ms/step - loss: 0.2547\n",
      "Epoch 77/100\n",
      "8/8 [==============================] - 0s 3ms/step - loss: 0.2467\n",
      "Epoch 78/100\n",
      "8/8 [==============================] - 0s 3ms/step - loss: 0.2475\n",
      "Epoch 79/100\n",
      "8/8 [==============================] - 0s 3ms/step - loss: 0.2466\n",
      "Epoch 80/100\n",
      "8/8 [==============================] - 0s 3ms/step - loss: 0.2600\n",
      "Epoch 81/100\n",
      "8/8 [==============================] - ETA: 0s - loss: 0.256 - 0s 3ms/step - loss: 0.2511\n",
      "Epoch 82/100\n",
      "8/8 [==============================] - 0s 3ms/step - loss: 0.2475\n",
      "Epoch 83/100\n",
      "8/8 [==============================] - 0s 3ms/step - loss: 0.2471\n",
      "Epoch 84/100\n",
      "8/8 [==============================] - 0s 3ms/step - loss: 0.2475\n",
      "Epoch 85/100\n",
      "8/8 [==============================] - 0s 4ms/step - loss: 0.2591\n",
      "Epoch 86/100\n",
      "8/8 [==============================] - 0s 9ms/step - loss: 0.2469\n",
      "Epoch 87/100\n",
      "8/8 [==============================] - 0s 5ms/step - loss: 0.2470\n",
      "Epoch 88/100\n",
      "8/8 [==============================] - 0s 4ms/step - loss: 0.2467\n",
      "Epoch 89/100\n",
      "8/8 [==============================] - 0s 4ms/step - loss: 0.2583\n",
      "Epoch 90/100\n",
      "8/8 [==============================] - 0s 5ms/step - loss: 0.2478\n",
      "Epoch 91/100\n",
      "8/8 [==============================] - 0s 3ms/step - loss: 0.2585\n",
      "Epoch 92/100\n",
      "8/8 [==============================] - 0s 3ms/step - loss: 0.2540\n",
      "Epoch 93/100\n",
      "8/8 [==============================] - 0s 3ms/step - loss: 0.2474\n",
      "Epoch 94/100\n",
      "8/8 [==============================] - 0s 3ms/step - loss: 0.2570\n",
      "Epoch 95/100\n",
      "8/8 [==============================] - 0s 3ms/step - loss: 0.2536\n",
      "Epoch 96/100\n",
      "8/8 [==============================] - 0s 3ms/step - loss: 0.2473\n",
      "Epoch 97/100\n",
      "8/8 [==============================] - 0s 4ms/step - loss: 0.2480\n",
      "Epoch 98/100\n",
      "8/8 [==============================] - 0s 3ms/step - loss: 0.2537\n",
      "Epoch 99/100\n",
      "8/8 [==============================] - 0s 3ms/step - loss: 0.2466\n",
      "Epoch 100/100\n",
      "8/8 [==============================] - 0s 3ms/step - loss: 0.2602\n"
     ]
    }
   ],
   "source": [
    "deep1 = tf.keras.Sequential([tf.keras.layers.Dense(1, input_shape=[X_train_dl.shape[1]])])\n",
    "optimizer = tf.keras.optimizers.SGD(0.1)\n",
    "deep1.compile(loss='mean_squared_error',optimizer=optimizer)\n",
    "history = deep1.fit(X_train_dl, y_train, epochs=100, batch_size=100)"
   ]
  },
  {
   "cell_type": "code",
   "execution_count": 99,
   "metadata": {},
   "outputs": [
    {
     "name": "stdout",
     "output_type": "stream",
     "text": [
      "Epoch 1/20\n",
      "2/2 [==============================] - 1s 590ms/step - loss: 0.6941 - accuracy: 0.4459 - val_loss: 0.6916 - val_accuracy: 0.5341\n",
      "Epoch 2/20\n",
      "2/2 [==============================] - 0s 36ms/step - loss: 0.6898 - accuracy: 0.5627 - val_loss: 0.6908 - val_accuracy: 0.5341\n",
      "Epoch 3/20\n",
      "2/2 [==============================] - 0s 39ms/step - loss: 0.6870 - accuracy: 0.5627 - val_loss: 0.6911 - val_accuracy: 0.5341\n",
      "Epoch 4/20\n",
      "2/2 [==============================] - 0s 45ms/step - loss: 0.6861 - accuracy: 0.5627 - val_loss: 0.6922 - val_accuracy: 0.5341\n",
      "Epoch 5/20\n",
      "2/2 [==============================] - 0s 43ms/step - loss: 0.6855 - accuracy: 0.5627 - val_loss: 0.6931 - val_accuracy: 0.5341\n",
      "Epoch 6/20\n",
      "2/2 [==============================] - 0s 41ms/step - loss: 0.6853 - accuracy: 0.5627 - val_loss: 0.6937 - val_accuracy: 0.5341\n",
      "Epoch 7/20\n",
      "2/2 [==============================] - 0s 52ms/step - loss: 0.6855 - accuracy: 0.5627 - val_loss: 0.6940 - val_accuracy: 0.5341\n",
      "Epoch 8/20\n",
      "2/2 [==============================] - 0s 49ms/step - loss: 0.6855 - accuracy: 0.5627 - val_loss: 0.6940 - val_accuracy: 0.5341\n",
      "Epoch 9/20\n",
      "2/2 [==============================] - 0s 48ms/step - loss: 0.6856 - accuracy: 0.5627 - val_loss: 0.6940 - val_accuracy: 0.5341\n",
      "Epoch 10/20\n",
      "2/2 [==============================] - 0s 48ms/step - loss: 0.6856 - accuracy: 0.5627 - val_loss: 0.6940 - val_accuracy: 0.5341\n",
      "Epoch 11/20\n",
      "2/2 [==============================] - 0s 49ms/step - loss: 0.6855 - accuracy: 0.5627 - val_loss: 0.6934 - val_accuracy: 0.5341\n",
      "Epoch 12/20\n",
      "2/2 [==============================] - 0s 50ms/step - loss: 0.6854 - accuracy: 0.5627 - val_loss: 0.6928 - val_accuracy: 0.5341\n",
      "Epoch 13/20\n",
      "2/2 [==============================] - 0s 52ms/step - loss: 0.6852 - accuracy: 0.5627 - val_loss: 0.6923 - val_accuracy: 0.5341\n",
      "Epoch 14/20\n",
      "2/2 [==============================] - 0s 52ms/step - loss: 0.6853 - accuracy: 0.5627 - val_loss: 0.6919 - val_accuracy: 0.5341\n",
      "Epoch 15/20\n",
      "2/2 [==============================] - 0s 57ms/step - loss: 0.6854 - accuracy: 0.5627 - val_loss: 0.6917 - val_accuracy: 0.5341\n",
      "Epoch 16/20\n",
      "2/2 [==============================] - 0s 58ms/step - loss: 0.6854 - accuracy: 0.5627 - val_loss: 0.6917 - val_accuracy: 0.5341\n",
      "Epoch 17/20\n",
      "2/2 [==============================] - 0s 51ms/step - loss: 0.6854 - accuracy: 0.5627 - val_loss: 0.6918 - val_accuracy: 0.5341\n",
      "Epoch 18/20\n",
      "2/2 [==============================] - 0s 51ms/step - loss: 0.6854 - accuracy: 0.5627 - val_loss: 0.6921 - val_accuracy: 0.5341\n",
      "Epoch 19/20\n",
      "2/2 [==============================] - 0s 50ms/step - loss: 0.6853 - accuracy: 0.5627 - val_loss: 0.6924 - val_accuracy: 0.5341\n",
      "Epoch 20/20\n",
      "2/2 [==============================] - 0s 52ms/step - loss: 0.6854 - accuracy: 0.5627 - val_loss: 0.6927 - val_accuracy: 0.5341\n"
     ]
    }
   ],
   "source": [
    "deep2 = tf.keras.models.Sequential()\n",
    "deep2.add(tf.keras.layers.Input(shape=(100,)))\n",
    "deep2.add(tf.keras.layers.Dense(500, activation='relu', name='hidden'))\n",
    "deep2.add(tf.keras.layers.Dense(1, activation='sigmoid', name='affine'))\n",
    "\n",
    "# sgd = tf.keras.optimizers.SGD(learning_rate=0.001)\n",
    "adam = tf.keras.optimizers.Adam(learning_rate=0.001)\n",
    "deep2.compile(optimizer=adam, loss='binary_crossentropy', metrics=['accuracy'])\n",
    "history = deep2.fit(X_train_dl, y_train, epochs=20, validation_data=(X_test_dl, y_test), batch_size=500)"
   ]
  },
  {
   "cell_type": "code",
   "execution_count": 100,
   "metadata": {},
   "outputs": [
    {
     "name": "stdout",
     "output_type": "stream",
     "text": [
      "Training Accuracy: 0.5627\n",
      "Testing Accuracy:  0.5341\n"
     ]
    }
   ],
   "source": [
    "loss, accuracy = deep2.evaluate(X_train_dl, y_train, verbose=False)\n",
    "print('Training Accuracy: {:.4f}'.format(accuracy))\n",
    "loss, accuracy = deep2.evaluate(X_test_dl, y_test, verbose=False)\n",
    "print('Testing Accuracy:  {:.4f}'.format(accuracy))"
   ]
  },
  {
   "cell_type": "code",
   "execution_count": 83,
   "metadata": {},
   "outputs": [
    {
     "name": "stdout",
     "output_type": "stream",
     "text": [
      "Epoch 1/50\n",
      "22/22 [==============================] - 0s 3ms/step - loss: 0.2472\n",
      "Epoch 2/50\n",
      "22/22 [==============================] - 0s 3ms/step - loss: 0.2496\n",
      "Epoch 3/50\n",
      "22/22 [==============================] - 0s 3ms/step - loss: 0.2505\n",
      "Epoch 4/50\n",
      "22/22 [==============================] - 0s 3ms/step - loss: 0.2481\n",
      "Epoch 5/50\n",
      "22/22 [==============================] - 0s 3ms/step - loss: 0.2496\n",
      "Epoch 6/50\n",
      "22/22 [==============================] - 0s 3ms/step - loss: 0.2478\n",
      "Epoch 7/50\n",
      "22/22 [==============================] - 0s 3ms/step - loss: 0.2481\n",
      "Epoch 8/50\n",
      "22/22 [==============================] - 0s 3ms/step - loss: 0.2497\n",
      "Epoch 9/50\n",
      "22/22 [==============================] - 0s 3ms/step - loss: 0.2476\n",
      "Epoch 10/50\n",
      "22/22 [==============================] - 0s 3ms/step - loss: 0.2481\n",
      "Epoch 11/50\n",
      "22/22 [==============================] - 0s 3ms/step - loss: 0.2496\n",
      "Epoch 12/50\n",
      "22/22 [==============================] - 0s 2ms/step - loss: 0.2480\n",
      "Epoch 13/50\n",
      "22/22 [==============================] - 0s 2ms/step - loss: 0.2466\n",
      "Epoch 14/50\n",
      "22/22 [==============================] - 0s 4ms/step - loss: 0.2478\n",
      "Epoch 15/50\n",
      "22/22 [==============================] - 0s 3ms/step - loss: 0.2504\n",
      "Epoch 16/50\n",
      "22/22 [==============================] - 0s 3ms/step - loss: 0.2478\n",
      "Epoch 17/50\n",
      "22/22 [==============================] - 0s 3ms/step - loss: 0.2480\n",
      "Epoch 18/50\n",
      "22/22 [==============================] - 0s 2ms/step - loss: 0.2494\n",
      "Epoch 19/50\n",
      "22/22 [==============================] - 0s 2ms/step - loss: 0.2469\n",
      "Epoch 20/50\n",
      "22/22 [==============================] - 0s 2ms/step - loss: 0.2513\n",
      "Epoch 21/50\n",
      "22/22 [==============================] - 0s 2ms/step - loss: 0.2492\n",
      "Epoch 22/50\n",
      "22/22 [==============================] - 0s 2ms/step - loss: 0.2489\n",
      "Epoch 23/50\n",
      "22/22 [==============================] - 0s 2ms/step - loss: 0.2481\n",
      "Epoch 24/50\n",
      "22/22 [==============================] - 0s 2ms/step - loss: 0.2480\n",
      "Epoch 25/50\n",
      "22/22 [==============================] - 0s 2ms/step - loss: 0.2493\n",
      "Epoch 26/50\n",
      "22/22 [==============================] - 0s 2ms/step - loss: 0.2486\n",
      "Epoch 27/50\n",
      "22/22 [==============================] - 0s 2ms/step - loss: 0.2488\n",
      "Epoch 28/50\n",
      "22/22 [==============================] - 0s 2ms/step - loss: 0.2476\n",
      "Epoch 29/50\n",
      "22/22 [==============================] - 0s 2ms/step - loss: 0.2487\n",
      "Epoch 30/50\n",
      "22/22 [==============================] - 0s 2ms/step - loss: 0.2500\n",
      "Epoch 31/50\n",
      "22/22 [==============================] - 0s 2ms/step - loss: 0.2478\n",
      "Epoch 32/50\n",
      "22/22 [==============================] - 0s 2ms/step - loss: 0.2478\n",
      "Epoch 33/50\n",
      "22/22 [==============================] - 0s 2ms/step - loss: 0.2491\n",
      "Epoch 34/50\n",
      "22/22 [==============================] - 0s 2ms/step - loss: 0.2482\n",
      "Epoch 35/50\n",
      "22/22 [==============================] - 0s 2ms/step - loss: 0.2477\n",
      "Epoch 36/50\n",
      "22/22 [==============================] - 0s 2ms/step - loss: 0.2488\n",
      "Epoch 37/50\n",
      "22/22 [==============================] - 0s 2ms/step - loss: 0.2468\n",
      "Epoch 38/50\n",
      "22/22 [==============================] - 0s 2ms/step - loss: 0.2502\n",
      "Epoch 39/50\n",
      "22/22 [==============================] - 0s 2ms/step - loss: 0.2493\n",
      "Epoch 40/50\n",
      "22/22 [==============================] - 0s 2ms/step - loss: 0.2481\n",
      "Epoch 41/50\n",
      "22/22 [==============================] - 0s 2ms/step - loss: 0.2473\n",
      "Epoch 42/50\n",
      "22/22 [==============================] - 0s 2ms/step - loss: 0.2475\n",
      "Epoch 43/50\n",
      "22/22 [==============================] - 0s 2ms/step - loss: 0.2474\n",
      "Epoch 44/50\n",
      "22/22 [==============================] - 0s 2ms/step - loss: 0.2479\n",
      "Epoch 45/50\n",
      "22/22 [==============================] - 0s 2ms/step - loss: 0.2483\n",
      "Epoch 46/50\n",
      "22/22 [==============================] - 0s 2ms/step - loss: 0.2486\n",
      "Epoch 47/50\n",
      "22/22 [==============================] - 0s 2ms/step - loss: 0.2491\n",
      "Epoch 48/50\n",
      "22/22 [==============================] - 0s 2ms/step - loss: 0.2488\n",
      "Epoch 49/50\n",
      "22/22 [==============================] - 0s 2ms/step - loss: 0.2488\n",
      "Epoch 50/50\n",
      "22/22 [==============================] - 0s 2ms/step - loss: 0.2465\n"
     ]
    },
    {
     "data": {
      "text/plain": [
       "<keras.callbacks.History at 0x1842ff22eb0>"
      ]
     },
     "execution_count": 83,
     "metadata": {},
     "output_type": "execute_result"
    }
   ],
   "source": [
    "deep1.fit(x=X_train_dl, y=y_train, epochs=50)"
   ]
  },
  {
   "cell_type": "code",
   "execution_count": 84,
   "metadata": {},
   "outputs": [
    {
     "name": "stdout",
     "output_type": "stream",
     "text": [
      "dict_keys(['loss'])\n"
     ]
    },
    {
     "data": {
      "text/plain": [
       "[<matplotlib.lines.Line2D at 0x1842ff591c0>]"
      ]
     },
     "execution_count": 84,
     "metadata": {},
     "output_type": "execute_result"
    },
    {
     "data": {
      "image/png": "[encoded data removed]",
      "text/plain": [
       "<Figure size 640x480 with 1 Axes>"
      ]
     },
     "metadata": {},
     "output_type": "display_data"
    }
   ],
   "source": [
    "print(history.history.keys())\n",
    "plt.plot(history.history['loss'])"
   ]
  },
  {
   "cell_type": "code",
   "execution_count": 86,
   "metadata": {},
   "outputs": [
    {
     "name": "stdout",
     "output_type": "stream",
     "text": [
      "0.2491660844874288\n"
     ]
    }
   ],
   "source": [
    "from sklearn.metrics import mean_squared_error as mse\n",
    "\n",
    "y_pred = deep1.predict(X_test_dl)\n",
    "print(mse(y_test, y_pred))"
   ]
  },
  {
   "cell_type": "markdown",
   "metadata": {},
   "source": [
    "# # COOL STUFF FOR READ.ME"
   ]
  },
  {
   "cell_type": "code",
   "execution_count": null,
   "metadata": {},
   "outputs": [],
   "source": [
    "speeches['President'].value_counts()"
   ]
  },
  {
   "cell_type": "code",
   "execution_count": null,
   "metadata": {},
   "outputs": [],
   "source": [
    "import matplotlib.pyplot as plt\n",
    "\n",
    "plt.figure(figsize=(6, 14))\n",
    "speeches['President'].value_counts(ascending=True).plot(kind='barh', color='blue')\n",
    "plt.xlabel('Number of Speeches', fontsize=15)\n",
    "plt.title('Number of Speeches per President', fontsize=20)\n",
    "plt.tight_layout()"
   ]
  },
  {
   "cell_type": "code",
   "execution_count": null,
   "metadata": {},
   "outputs": [],
   "source": [
    "speeches['Party'].value_counts(normalize=True).plot(kind='bar')"
   ]
  }
 ],
 "metadata": {
  "interpreter": {
   "hash": "d063b60717332e91197e2eb55aef2cd19d45489547141a5917fea6daf31c4133"
  },
  "kernelspec": {
   "display_name": "Python 3.8.10 64-bit (windows store)",
   "language": "python",
   "name": "python3"
  },
  "language_info": {
   "codemirror_mode": {
    "name": "ipython",
    "version": 3
   },
   "file_extension": ".py",
   "mimetype": "text/x-python",
   "name": "python",
   "nbconvert_exporter": "python",
   "pygments_lexer": "ipython3",
   "version": "3.8.2"
  },
  "orig_nbformat": 4
 },
 "nbformat": 4,
 "nbformat_minor": 2
}
